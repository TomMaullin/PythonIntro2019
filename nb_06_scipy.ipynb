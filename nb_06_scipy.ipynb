{
 "cells": [
  {
   "cell_type": "markdown",
   "metadata": {},
   "source": [
    "# Notebook 6: SciPy (WIP)"
   ]
  },
  {
   "cell_type": "markdown",
   "metadata": {},
   "source": [
    "In this section we will introduce you to the `scipy` package; a package built on top of `numpy` which contains many miscellaneous but useful functions. Unlike `numpy` you may find that you do not use `scipy` frequently. However, you may often find that using `scipy` functions may help improve your code and save you time in the long run! \n",
    "\n",
    "This notebook will give a brief description of some of the things you can do with `scipy` and highlights why `scipy` may be useful to you in the future!"
   ]
  },
  {
   "cell_type": "code",
   "execution_count": null,
   "metadata": {},
   "outputs": [],
   "source": [
    "import numpy as np\n",
    "import scipy"
   ]
  },
  {
   "cell_type": "markdown",
   "metadata": {},
   "source": [
    "## More linear algebra!"
   ]
  },
  {
   "cell_type": "markdown",
   "metadata": {},
   "source": [
    "`scipy` includes many of the linear algebra functions given in `numpy` and more! For example, `scipy` has a very convenient function for constructing block diagonal matrices, `block_diag`."
   ]
  },
  {
   "cell_type": "code",
   "execution_count": null,
   "metadata": {},
   "outputs": [],
   "source": [
    "# Let's construct some matrices\n",
    "a = np.array([[1,2],[3,4]])\n",
    "b = np.array([[5,6,7],[8,9,10],[11,12,13]])\n",
    "c = np.array([[14,15],[16,17]])\n",
    "\n",
    "# Let's have a quick look at our matrices\n",
    "print('a:')\n",
    "print(a)\n",
    "print('b:')\n",
    "print(b)\n",
    "print('c:')\n",
    "print(c)\n",
    "\n",
    "# Now lets combine them as one large block diagonal matrix!\n",
    "d = scipy.linalg.block_diag(a,b,c)\n",
    "\n",
    "# Let's have a look at d\n",
    "print('---------------------------')\n",
    "print('d:')\n",
    "print(d)\n",
    "\n",
    "# Try changing the order of a,b and c in the `block_diag` function - how does d change?"
   ]
  },
  {
   "cell_type": "markdown",
   "metadata": {},
   "source": [
    "Another useful feature of Scipy is it allows you to easily create matrices with special structures such as [Toeplitz](https://en.wikipedia.org/wiki/Toeplitz_matrix) and [Circulant](https://en.wikipedia.org/wiki/Circulant_matrix) matrices. These are matrices which you may find yourself using quite a lot if you end up working with Fourier analyses or autoregressive models. See if you can work out what Toeplitz and Circulant matrices are using the below code!"
   ]
  },
  {
   "cell_type": "code",
   "execution_count": null,
   "metadata": {},
   "outputs": [],
   "source": [
    "# To create a Toeplitz matrix we need to specify the first row and column\n",
    "row = np.array([1,2,3,6])\n",
    "col = np.array([1,8,9,7,10])\n",
    "\n",
    "# Lets make the Toeplitz matrix!\n",
    "toep = scipy.linalg.toeplitz(col,row)\n",
    "\n",
    "# Lets print the Toeplitz matrix!\n",
    "print(toep)\n",
    "\n",
    "# To create a Circulant matrix we only need a row!\n",
    "circ = scipy.linalg.circulant(row)\n",
    "\n",
    "# Lets print the circulant matrix!\n",
    "print(circ)"
   ]
  },
  {
   "cell_type": "markdown",
   "metadata": {},
   "source": [
    "A very useful function in `scipy` is the permuted [LU decomposition](https://en.wikipedia.org/wiki/LU_decomposition) (which is currently not supported in `numpy`). The LU decomposition has a wide range of applications in statistics and can be performed as shown below!"
   ]
  },
  {
   "cell_type": "code",
   "execution_count": null,
   "metadata": {},
   "outputs": [],
   "source": [
    "import scipy.linalg\n",
    "\n",
    "# Make a random matrix with numpy\n",
    "x = np.random.randn(3,3)\n",
    "print(x)\n",
    "print('----------------------')\n",
    "\n",
    "# Get the lu decomposition\n",
    "P, L, U = scipy.linalg.lu(x, permute_l=False)\n",
    "\n",
    "# P should be a permutation\n",
    "print(P)\n",
    "# L should be lower triangular\n",
    "print(L)\n",
    "# U should be lower triangular\n",
    "print(U)\n",
    "print('----------------------')\n",
    "\n",
    "# The product of PLU should be our original matrix\n",
    "print(P @ L @ U)"
   ]
  },
  {
   "cell_type": "markdown",
   "metadata": {},
   "source": [
    "## Interpolation"
   ]
  },
  {
   "cell_type": "markdown",
   "metadata": {},
   "source": [
    "Another useful feature in `scipy` is the interpolation module which you can use to interpolate data. To interpolate 1-dimensional data, we can use the `interp1d` function. To see how this works, let's first make some data for our example!"
   ]
  },
  {
   "cell_type": "code",
   "execution_count": null,
   "metadata": {},
   "outputs": [],
   "source": [
    "# Make some data\n",
    "x = np.linspace(0, 5, num=11, endpoint=True)\n",
    "y = np.cos(-x**3/9.0)\n",
    "\n",
    "\n",
    "# Make a plot showing the data\n",
    "import matplotlib.pyplot as plt\n",
    "plt.plot(x, y, 'o')\n",
    "plt.legend(['data'], loc='best')\n",
    "plt.show()"
   ]
  },
  {
   "cell_type": "markdown",
   "metadata": {},
   "source": [
    "So this is our data! Below, we use `scipy` to perform [Nearest Neighbour](https://en.wikipedia.org/wiki/Nearest_neighbour_algorithm) interpolation. If you aren't familiar with Nearest Neighbour interpolation, don't worry; see if you can guess what is happening based on the below figure!\n",
    "\n",
    "> **Note:** We haven't discussed creating plots yet. Don't worry if the above code seems very unfamiliar; The `matplotlib` package which is used for making plots will be covered in more detail in Notebook 7!"
   ]
  },
  {
   "cell_type": "code",
   "execution_count": null,
   "metadata": {},
   "outputs": [],
   "source": [
    "# interp1d will give us a special function we can use to\n",
    "# interpolate our data!\n",
    "interpolated = scipy.interpolate.interp1d(x, y, kind='nearest')\n",
    "\n",
    "# Lets make a new range of x values which we wish to \n",
    "# interpolate our data on!\n",
    "x_interpolate = np.linspace(0, 5, num=1001, endpoint=True)\n",
    "\n",
    "# Lets get our new interpolated values\n",
    "y_interpolate = interpolated(x_interpolate)\n",
    "\n",
    "# Plot the original data\n",
    "plt.plot(x, y, 'o')\n",
    "\n",
    "# Plot the interpolated data\n",
    "plt.plot(x_interpolate, y_interpolate, '--')\n",
    "\n",
    "# Add a key\n",
    "plt.legend(['data', 'interpolated'], loc='best')\n",
    "\n",
    "# Show the plot\n",
    "plt.show()"
   ]
  },
  {
   "cell_type": "markdown",
   "metadata": {},
   "source": [
    "Now, instead let's try linear interpolation! What has changed in the below code? Which interpolation do you think seems most appropriate for this dataset? "
   ]
  },
  {
   "cell_type": "code",
   "execution_count": null,
   "metadata": {},
   "outputs": [],
   "source": [
    "# interp1d will give us a special function we can use to\n",
    "# interpolate our data!\n",
    "interpolated = scipy.interpolate.interp1d(x, y, kind='linear')\n",
    "\n",
    "# Lets make a new range of x values which we wish to \n",
    "# interpolate our data on!\n",
    "x_interpolate = np.linspace(0, 5, num=1001, endpoint=True)\n",
    "\n",
    "# Lets get our new interpolated values\n",
    "y_interpolate = interpolated(x_interpolate)\n",
    "\n",
    "# Plot the original data\n",
    "plt.plot(x, y, 'o')\n",
    "\n",
    "# Plot the interpolated data\n",
    "plt.plot(x_interpolate, y_interpolate, '--')\n",
    "\n",
    "# Add a key\n",
    "plt.legend(['data', 'interpolated'], loc='best')\n",
    "\n",
    "# Show the plot\n",
    "plt.show()"
   ]
  },
  {
   "cell_type": "markdown",
   "metadata": {},
   "source": [
    "Finally let's try cubic interpolation! Which of the 3 interpolation methods do you think was most useful and why (be careful with your answer!)?"
   ]
  },
  {
   "cell_type": "code",
   "execution_count": null,
   "metadata": {},
   "outputs": [],
   "source": [
    "# interp1d will give us a special function we can use to\n",
    "# interpolate our data!\n",
    "interpolated = scipy.interpolate.interp1d(x, y, kind='cubic')\n",
    "\n",
    "# Lets make a new range of x values which we wish to \n",
    "# interpolate our data on!\n",
    "x_interpolate = np.linspace(0, 5, num=1001, endpoint=True)\n",
    "\n",
    "# Lets get our new interpolated values\n",
    "y_interpolate = interpolated(x_interpolate)\n",
    "\n",
    "# Plot the original data\n",
    "plt.plot(x, y, 'o')\n",
    "\n",
    "# Plot the interpolated data\n",
    "plt.plot(x_interpolate, y_interpolate, '--')\n",
    "\n",
    "# Add a key\n",
    "plt.legend(['data', 'interpolated'], loc='best')\n",
    "\n",
    "# Show the plot\n",
    "plt.show()"
   ]
  },
  {
   "cell_type": "markdown",
   "metadata": {},
   "source": [
    "Functions similar to `interp1d` also exist for [2-dimensional](https://docs.scipy.org/doc/scipy/reference/generated/scipy.interpolate.interp2d.html#scipy.interpolate.interp2d) and [n-dimensional](https://docs.scipy.org/doc/scipy/reference/generated/scipy.interpolate.interpn.html#scipy.interpolate.interpn) datasets and even more options for other interpolation methods, such as splines and B-splines, exist as well. This notebook is only intended to give a brief overview of what is possible with scipy but note that many more options are available for performing interpolation (see the [documentation here](https://docs.scipy.org/doc/scipy/reference/interpolate.html))."
   ]
  },
  {
   "cell_type": "markdown",
   "metadata": {},
   "source": [
    "## Sparse matrices"
   ]
  },
  {
   "cell_type": "markdown",
   "metadata": {},
   "source": [
    "`scipy` includes support for the `sparse` matrix format (a faster way of working with matrices with few non-zero elements, which works by only storing and using the non-zero elements in computation). \n",
    "\n",
    "On very sparse examples, the `scipy` sparse functions can be much faster than `numpy`:"
   ]
  },
  {
   "cell_type": "code",
   "execution_count": null,
   "metadata": {},
   "outputs": [],
   "source": [
    "import scipy.sparse\n",
    "import time\n",
    "\n",
    "# Make a random matrix and keep only a few elements\n",
    "X = np.random.randn(1000,1000)\n",
    "X[X<2.5] = 0\n",
    "\n",
    "print('Example sparse matrix (only small block printed):')\n",
    "print(X[1:10,1:10])\n",
    "print('------------------------------')\n",
    "\n",
    "# Make a sparse version of X using scipy\n",
    "X_sparse = scipy.sparse.csr_matrix(X)\n",
    "\n",
    "# Lets work out X transpose multiplied by X \n",
    "# using the original dense (numpy) matrix\n",
    "t1 = time.time()\n",
    "XtX = X.T @ X\n",
    "t2 = time.time()\n",
    "print(\"Using dense (numpy) matrices the calculation X @ X.T took:\")\n",
    "print(t2-t1, \"seconds\")\n",
    "\n",
    "# Lets work out X transpose multiplied by X \n",
    "# using the sparse (scipy) matrix\n",
    "t1 = time.time()\n",
    "XtX = X_sparse.T @ X_sparse\n",
    "t2 = time.time()\n",
    "print(\"Using sparse (scipy) matrices the calculation X @ X.T took:\")\n",
    "print(t2-t1, \"seconds\")"
   ]
  },
  {
   "cell_type": "markdown",
   "metadata": {},
   "source": [
    "Not only option - cvxopt also good"
   ]
  },
  {
   "cell_type": "markdown",
   "metadata": {},
   "source": [
    "## Optimization"
   ]
  },
  {
   "cell_type": "markdown",
   "metadata": {},
   "source": [
    "Minimizers: Nelder mead, powell etc"
   ]
  },
  {
   "cell_type": "code",
   "execution_count": null,
   "metadata": {},
   "outputs": [],
   "source": []
  },
  {
   "cell_type": "markdown",
   "metadata": {},
   "source": [
    "What does output tell you?"
   ]
  },
  {
   "cell_type": "markdown",
   "metadata": {},
   "source": [
    "## Integration"
   ]
  },
  {
   "cell_type": "markdown",
   "metadata": {},
   "source": [
    "## Random Numbers"
   ]
  },
  {
   "cell_type": "markdown",
   "metadata": {},
   "source": [
    "## And much, much more..."
   ]
  },
  {
   "cell_type": "markdown",
   "metadata": {},
   "source": [
    "`scipy` has a wide range of useful and interesting functions for working on numeric data. This section has barely even scratched the surface in terms of listing `scipy` features. A, by no means complete, list of `scipy` capabilities include:\n",
    "\n",
    " - Integration (`scipy.integrate`)\n",
    " - Optimization (`scipy.optimize`)\n",
    " - Fourier Transforms (`scipy.fftpack`)\n",
    " - Signal Processing (`scipy.signal`)\n",
    " - Spatial data structures and algorithms (`scipy.spatial`)\n",
    " - Statistics and random numbers (`scipy.stats`)\n",
    " - Multidimensional image processing (`scipy.ndimage`)\n",
    " - File handling (`scipy.io`)\n",
    " - Other special functions (`scipy.special`)\n",
    " \n",
    "And much, much more..."
   ]
  }
 ],
 "metadata": {
  "kernelspec": {
   "display_name": "Python 3",
   "language": "python",
   "name": "python3"
  },
  "language_info": {
   "codemirror_mode": {
    "name": "ipython",
    "version": 3
   },
   "file_extension": ".py",
   "mimetype": "text/x-python",
   "name": "python",
   "nbconvert_exporter": "python",
   "pygments_lexer": "ipython3",
   "version": "3.6.9"
  }
 },
 "nbformat": 4,
 "nbformat_minor": 2
}
