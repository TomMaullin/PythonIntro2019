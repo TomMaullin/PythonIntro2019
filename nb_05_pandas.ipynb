{
 "cells": [
  {
   "cell_type": "markdown",
   "metadata": {},
   "source": [
    "# Notebook 5: Pandas"
   ]
  },
  {
   "cell_type": "markdown",
   "metadata": {},
   "source": [
    "In this notebook, we will look at the package `pandas`. `pandas` is built on top of `numpy` (see Notebook 4 for more on `numpy`) and specializes in dealing with heterogenous and/or missing data often stored in a labelled format. \n",
    "\n",
    "As this is an introductory course we will only give a brief introduction to `pandas` and a flavour of why it may be useful to you. For more information see the [`pandas` documentation here](https://pandas.pydata.org/pandas-docs/stable/).\n",
    "\n",
    "The strength of `pandas` lies in it's ability to handle database and spreadsheet type operations that may be more familiar to users of languages such as `R` and `SQL`. \n",
    "\n",
    " > **Note:** By convention, `pandas` is often aliased as `pd`."
   ]
  },
  {
   "cell_type": "code",
   "execution_count": 32,
   "metadata": {},
   "outputs": [],
   "source": [
    "import pandas as pd\n",
    "import numpy as np"
   ]
  },
  {
   "cell_type": "markdown",
   "metadata": {},
   "source": [
    "## Pandas dataypes\n",
    "\n",
    "The world of `pandas` revolves predominantly around the `Series` and `DataFrame` datatypes. We shall look at each one of these in turn now. "
   ]
  },
  {
   "cell_type": "markdown",
   "metadata": {},
   "source": [
    "### Pandas `Series`"
   ]
  },
  {
   "cell_type": "markdown",
   "metadata": {},
   "source": [
    "A `pandas` `Series` object is an indexed one-dimensional array of data.`"
   ]
  },
  {
   "cell_type": "code",
   "execution_count": 7,
   "metadata": {},
   "outputs": [
    {
     "name": "stdout",
     "output_type": "stream",
     "text": [
      "0    2.1\n",
      "1    3.9\n",
      "2    4.2\n",
      "dtype: float64\n"
     ]
    }
   ],
   "source": [
    "example_series = pd.Series([2.1,3.9,4.2])\n",
    "print(example_series)"
   ]
  },
  {
   "cell_type": "markdown",
   "metadata": {},
   "source": [
    "We can convert a `pandas` `Series` to a `numpy` `array` very easily using the `values` attribute and we can access the elements of a `Series` using square brackets in the same way we would a one-dimensional `numpy` array."
   ]
  },
  {
   "cell_type": "code",
   "execution_count": 51,
   "metadata": {},
   "outputs": [
    {
     "name": "stdout",
     "output_type": "stream",
     "text": [
      "[2.1 3.9 4.2]\n",
      "2.1\n",
      "a    2.1\n",
      "b    3.9\n",
      "dtype: float64\n",
      "b    3.9\n",
      "c    4.2\n",
      "dtype: float64\n"
     ]
    }
   ],
   "source": [
    "print(example_series.values)\n",
    "print(example_series[0])\n",
    "print(example_series[0:2])\n",
    "print(example_series[example_series>3])"
   ]
  },
  {
   "cell_type": "markdown",
   "metadata": {},
   "source": [
    "However, with a `pandas` `Series` we can change how we index the data. For example:"
   ]
  },
  {
   "cell_type": "code",
   "execution_count": 16,
   "metadata": {},
   "outputs": [],
   "source": [
    "example_series = pd.Series([2.1,3.9,4.2],\n",
    "                           index=['a', 'b', 'c'])"
   ]
  },
  {
   "cell_type": "markdown",
   "metadata": {},
   "source": [
    "We can now access the data using our both own indices, much like with a Python `dict`, and numerical indices, like a Python `list`."
   ]
  },
  {
   "cell_type": "code",
   "execution_count": 13,
   "metadata": {},
   "outputs": [
    {
     "name": "stdout",
     "output_type": "stream",
     "text": [
      "3.9\n",
      "4.2\n"
     ]
    }
   ],
   "source": [
    "print(example_series['b'])\n",
    "print(example_series[2])"
   ]
  },
  {
   "cell_type": "markdown",
   "metadata": {},
   "source": [
    "In fact, we can even use `numpy` style array indexing syntax but on our own labels.\n",
    "\n",
    " > **Note**: This indexing, unlike `numpy`, is inclusive. For example, `'a':'b'` includes element `'b'`, unlike in `numpy` where `0:2` does not include element `2`."
   ]
  },
  {
   "cell_type": "code",
   "execution_count": 19,
   "metadata": {},
   "outputs": [
    {
     "name": "stdout",
     "output_type": "stream",
     "text": [
      "a    2.1\n",
      "b    3.9\n",
      "dtype: float64\n"
     ]
    }
   ],
   "source": [
    "print(example_series['a':'b'])"
   ]
  },
  {
   "cell_type": "markdown",
   "metadata": {},
   "source": [
    " > **Note:** If we use a number as an index for a column; our indices take precedence over the inbuilt `numpy` like indexing. For example:"
   ]
  },
  {
   "cell_type": "code",
   "execution_count": 14,
   "metadata": {},
   "outputs": [
    {
     "name": "stdout",
     "output_type": "stream",
     "text": [
      "2.1\n"
     ]
    }
   ],
   "source": [
    "example_series = pd.Series([2.1,3.9,4.2],\n",
    "                           index=[2, 'b', 'c'])\n",
    "print(example_series[2])"
   ]
  },
  {
   "cell_type": "markdown",
   "metadata": {},
   "source": [
    "We can construct a `pandas` `Series` object from a `dict` like so:"
   ]
  },
  {
   "cell_type": "code",
   "execution_count": 15,
   "metadata": {},
   "outputs": [
    {
     "name": "stdout",
     "output_type": "stream",
     "text": [
      "{'a': 1, 'b': 33, 'c': 2}\n",
      "a     1\n",
      "b    33\n",
      "c     2\n",
      "dtype: int64\n"
     ]
    }
   ],
   "source": [
    "example_dict = {'a': 1, 'b': 33, 'c': 2}\n",
    "print(example_dict)\n",
    "print(pd.Series(example_dict))"
   ]
  },
  {
   "cell_type": "markdown",
   "metadata": {},
   "source": [
    " > **Note:** If we use the `index` keyword when creating a `series` object from a `dict` only the object with a key in our `index` list will be retained. For example:"
   ]
  },
  {
   "cell_type": "code",
   "execution_count": 20,
   "metadata": {},
   "outputs": [
    {
     "name": "stdout",
     "output_type": "stream",
     "text": [
      "{'a': 1, 'b': 33, 'c': 2}\n",
      "a    1\n",
      "c    2\n",
      "dtype: int64\n"
     ]
    }
   ],
   "source": [
    "example_dict = {'a': 1, 'b': 33, 'c': 2}\n",
    "print(example_dict)\n",
    "print(pd.Series(example_dict, index=['a','c']))"
   ]
  },
  {
   "cell_type": "markdown",
   "metadata": {},
   "source": [
    "## Pandas `Dataframes`"
   ]
  },
  {
   "cell_type": "markdown",
   "metadata": {},
   "source": [
    "A `pandas` `DataFrame` object can be thought of as a collection of aligned `pandas` `Series` objects, where by aligned we mean sharing the same index. We can construct a `DataFrame` from several `Series` using the `pandas.DataFrame` object. For example:"
   ]
  },
  {
   "cell_type": "code",
   "execution_count": 53,
   "metadata": {},
   "outputs": [
    {
     "data": {
      "text/html": [
       "<div>\n",
       "<style scoped>\n",
       "    .dataframe tbody tr th:only-of-type {\n",
       "        vertical-align: middle;\n",
       "    }\n",
       "\n",
       "    .dataframe tbody tr th {\n",
       "        vertical-align: top;\n",
       "    }\n",
       "\n",
       "    .dataframe thead th {\n",
       "        text-align: right;\n",
       "    }\n",
       "</style>\n",
       "<table border=\"1\" class=\"dataframe\">\n",
       "  <thead>\n",
       "    <tr style=\"text-align: right;\">\n",
       "      <th></th>\n",
       "      <th>heights</th>\n",
       "      <th>weights</th>\n",
       "    </tr>\n",
       "  </thead>\n",
       "  <tbody>\n",
       "    <tr>\n",
       "      <th>Alex</th>\n",
       "      <td>80.0</td>\n",
       "      <td>NaN</td>\n",
       "    </tr>\n",
       "    <tr>\n",
       "      <th>Claire</th>\n",
       "      <td>NaN</td>\n",
       "      <td>70.0</td>\n",
       "    </tr>\n",
       "    <tr>\n",
       "      <th>Jay</th>\n",
       "      <td>NaN</td>\n",
       "      <td>55.0</td>\n",
       "    </tr>\n",
       "    <tr>\n",
       "      <th>Katy</th>\n",
       "      <td>64.0</td>\n",
       "      <td>NaN</td>\n",
       "    </tr>\n",
       "    <tr>\n",
       "      <th>Mo</th>\n",
       "      <td>72.0</td>\n",
       "      <td>80.0</td>\n",
       "    </tr>\n",
       "    <tr>\n",
       "      <th>Pete</th>\n",
       "      <td>69.0</td>\n",
       "      <td>60.0</td>\n",
       "    </tr>\n",
       "  </tbody>\n",
       "</table>\n",
       "</div>"
      ],
      "text/plain": [
       "        heights  weights\n",
       "Alex       80.0      NaN\n",
       "Claire      NaN     70.0\n",
       "Jay         NaN     55.0\n",
       "Katy       64.0      NaN\n",
       "Mo         72.0     80.0\n",
       "Pete       69.0     60.0"
      ]
     },
     "execution_count": 53,
     "metadata": {},
     "output_type": "execute_result"
    }
   ],
   "source": [
    "# Series of heights in inches\n",
    "heights = pd.Series({'Pete': 69, 'Mo': 72, 'Katy': 64, 'Alex': 80})\n",
    "# Series of weights in kg\n",
    "weights = pd.Series({'Pete': 60, 'Mo': 80, 'Jay': 55, 'Claire': 70})\n",
    "\n",
    "example_dataframe = pd.DataFrame({'heights': heights, 'weights': weights})\n",
    "\n",
    "# In this notebook we can display a pandas dataframe in a\n",
    "# nice format without printing just by typing the dataframes\n",
    "# name.\n",
    "example_dataframe"
   ]
  },
  {
   "cell_type": "markdown",
   "metadata": {},
   "source": [
    "We can also construct a `DataFrame` from a list of `dict`s like so:"
   ]
  },
  {
   "cell_type": "code",
   "execution_count": 54,
   "metadata": {},
   "outputs": [
    {
     "data": {
      "text/html": [
       "<div>\n",
       "<style scoped>\n",
       "    .dataframe tbody tr th:only-of-type {\n",
       "        vertical-align: middle;\n",
       "    }\n",
       "\n",
       "    .dataframe tbody tr th {\n",
       "        vertical-align: top;\n",
       "    }\n",
       "\n",
       "    .dataframe thead th {\n",
       "        text-align: right;\n",
       "    }\n",
       "</style>\n",
       "<table border=\"1\" class=\"dataframe\">\n",
       "  <thead>\n",
       "    <tr style=\"text-align: right;\">\n",
       "      <th></th>\n",
       "      <th>heights</th>\n",
       "      <th>weights</th>\n",
       "    </tr>\n",
       "  </thead>\n",
       "  <tbody>\n",
       "    <tr>\n",
       "      <th>Alex</th>\n",
       "      <td>80.0</td>\n",
       "      <td>NaN</td>\n",
       "    </tr>\n",
       "    <tr>\n",
       "      <th>Claire</th>\n",
       "      <td>NaN</td>\n",
       "      <td>70.0</td>\n",
       "    </tr>\n",
       "    <tr>\n",
       "      <th>Jay</th>\n",
       "      <td>NaN</td>\n",
       "      <td>55.0</td>\n",
       "    </tr>\n",
       "    <tr>\n",
       "      <th>Katy</th>\n",
       "      <td>64.0</td>\n",
       "      <td>NaN</td>\n",
       "    </tr>\n",
       "    <tr>\n",
       "      <th>Mo</th>\n",
       "      <td>72.0</td>\n",
       "      <td>80.0</td>\n",
       "    </tr>\n",
       "    <tr>\n",
       "      <th>Pete</th>\n",
       "      <td>69.0</td>\n",
       "      <td>60.0</td>\n",
       "    </tr>\n",
       "  </tbody>\n",
       "</table>\n",
       "</div>"
      ],
      "text/plain": [
       "        heights  weights\n",
       "Alex       80.0      NaN\n",
       "Claire      NaN     70.0\n",
       "Jay         NaN     55.0\n",
       "Katy       64.0      NaN\n",
       "Mo         72.0     80.0\n",
       "Pete       69.0     60.0"
      ]
     },
     "execution_count": 54,
     "metadata": {},
     "output_type": "execute_result"
    }
   ],
   "source": [
    "# Series of heights in inches\n",
    "heights = {'Pete': 69, 'Mo': 72, 'Katy': 64, 'Alex': 80}\n",
    "# Series of weights in kg\n",
    "weights = {'Pete': 60, 'Mo': 80, 'Jay': 55, 'Claire': 70}\n",
    "\n",
    "example_dataframe = pd.DataFrame({'heights': heights, 'weights': weights})\n",
    "\n",
    "example_dataframe"
   ]
  },
  {
   "cell_type": "markdown",
   "metadata": {},
   "source": [
    "Alternatively we can construct a `DataFrame` from a `numpy` array and label the columns using the `columns` argument:"
   ]
  },
  {
   "cell_type": "code",
   "execution_count": 55,
   "metadata": {},
   "outputs": [
    {
     "data": {
      "text/html": [
       "<div>\n",
       "<style scoped>\n",
       "    .dataframe tbody tr th:only-of-type {\n",
       "        vertical-align: middle;\n",
       "    }\n",
       "\n",
       "    .dataframe tbody tr th {\n",
       "        vertical-align: top;\n",
       "    }\n",
       "\n",
       "    .dataframe thead th {\n",
       "        text-align: right;\n",
       "    }\n",
       "</style>\n",
       "<table border=\"1\" class=\"dataframe\">\n",
       "  <thead>\n",
       "    <tr style=\"text-align: right;\">\n",
       "      <th></th>\n",
       "      <th>heights</th>\n",
       "      <th>weights</th>\n",
       "      <th>favourite number</th>\n",
       "    </tr>\n",
       "  </thead>\n",
       "  <tbody>\n",
       "    <tr>\n",
       "      <th>Joe</th>\n",
       "      <td>65</td>\n",
       "      <td>72</td>\n",
       "      <td>67</td>\n",
       "    </tr>\n",
       "    <tr>\n",
       "      <th>Catelyn</th>\n",
       "      <td>79</td>\n",
       "      <td>65</td>\n",
       "      <td>79</td>\n",
       "    </tr>\n",
       "  </tbody>\n",
       "</table>\n",
       "</div>"
      ],
      "text/plain": [
       "         heights  weights  favourite number\n",
       "Joe           65       72                67\n",
       "Catelyn       79       65                79"
      ]
     },
     "execution_count": 55,
     "metadata": {},
     "output_type": "execute_result"
    }
   ],
   "source": [
    "example_dataframe = pd.DataFrame(\n",
    "    np.random.randint(60,80, size=(2, 3)),\n",
    "    columns=['heights', 'weights', 'favourite number'],\n",
    "    index=['Joe', 'Catelyn'])\n",
    "\n",
    "example_dataframe"
   ]
  },
  {
   "cell_type": "markdown",
   "metadata": {},
   "source": [
    "## Getting indices"
   ]
  },
  {
   "cell_type": "markdown",
   "metadata": {},
   "source": [
    "We can retrieve the indices from a `Series` or `DataFrame` easily using the `index` attribute."
   ]
  },
  {
   "cell_type": "code",
   "execution_count": 40,
   "metadata": {},
   "outputs": [
    {
     "name": "stdout",
     "output_type": "stream",
     "text": [
      "Index(['a', 'b', 'c'], dtype='object')\n",
      "Index(['Joe', 'Catelyn'], dtype='object')\n"
     ]
    }
   ],
   "source": [
    "print(example_series.index)\n",
    "print(example_dataframe.index)"
   ]
  },
  {
   "cell_type": "markdown",
   "metadata": {},
   "source": [
    "We can also receieve the column headers from a `DataFrame` using the `columns` attribute."
   ]
  },
  {
   "cell_type": "code",
   "execution_count": 41,
   "metadata": {},
   "outputs": [
    {
     "name": "stdout",
     "output_type": "stream",
     "text": [
      "Index(['heights', 'weights', 'favourite number'], dtype='object')\n"
     ]
    }
   ],
   "source": [
    "print(example_dataframe.columns)"
   ]
  },
  {
   "cell_type": "markdown",
   "metadata": {},
   "source": [
    "## Working with Pandas"
   ]
  },
  {
   "cell_type": "markdown",
   "metadata": {},
   "source": [
    "The `pandas` datatypes are incredibly useful and efficient when dealing with heterogeneous data. In this section we will give a, by no means comprehenive, selection of useful functions that `pandas` offers. We will use the below `DataFrame` in the following examples."
   ]
  },
  {
   "cell_type": "code",
   "execution_count": 98,
   "metadata": {},
   "outputs": [
    {
     "data": {
      "text/html": [
       "<div>\n",
       "<style scoped>\n",
       "    .dataframe tbody tr th:only-of-type {\n",
       "        vertical-align: middle;\n",
       "    }\n",
       "\n",
       "    .dataframe tbody tr th {\n",
       "        vertical-align: top;\n",
       "    }\n",
       "\n",
       "    .dataframe thead th {\n",
       "        text-align: right;\n",
       "    }\n",
       "</style>\n",
       "<table border=\"1\" class=\"dataframe\">\n",
       "  <thead>\n",
       "    <tr style=\"text-align: right;\">\n",
       "      <th></th>\n",
       "      <th>length of eyelashes</th>\n",
       "      <th>subject_ID</th>\n",
       "      <th>birth_year</th>\n",
       "      <th>group</th>\n",
       "      <th>sex</th>\n",
       "    </tr>\n",
       "  </thead>\n",
       "  <tbody>\n",
       "    <tr>\n",
       "      <th>0</th>\n",
       "      <td>0.556329</td>\n",
       "      <td>0.0</td>\n",
       "      <td>1986.0</td>\n",
       "      <td>a</td>\n",
       "      <td>M</td>\n",
       "    </tr>\n",
       "    <tr>\n",
       "      <th>1</th>\n",
       "      <td>0.196549</td>\n",
       "      <td>1.0</td>\n",
       "      <td>1980.0</td>\n",
       "      <td>a</td>\n",
       "      <td>M</td>\n",
       "    </tr>\n",
       "    <tr>\n",
       "      <th>2</th>\n",
       "      <td>0.161299</td>\n",
       "      <td>2.0</td>\n",
       "      <td>NaN</td>\n",
       "      <td>b</td>\n",
       "      <td>M</td>\n",
       "    </tr>\n",
       "    <tr>\n",
       "      <th>3</th>\n",
       "      <td>0.325355</td>\n",
       "      <td>3.0</td>\n",
       "      <td>1980.0</td>\n",
       "      <td>c</td>\n",
       "      <td>F</td>\n",
       "    </tr>\n",
       "    <tr>\n",
       "      <th>4</th>\n",
       "      <td>0.467345</td>\n",
       "      <td>4.0</td>\n",
       "      <td>1985.0</td>\n",
       "      <td>d</td>\n",
       "      <td>NaN</td>\n",
       "    </tr>\n",
       "    <tr>\n",
       "      <th>5</th>\n",
       "      <td>0.698780</td>\n",
       "      <td>NaN</td>\n",
       "      <td>1987.0</td>\n",
       "      <td>e</td>\n",
       "      <td>F</td>\n",
       "    </tr>\n",
       "    <tr>\n",
       "      <th>6</th>\n",
       "      <td>0.536562</td>\n",
       "      <td>6.0</td>\n",
       "      <td>1987.0</td>\n",
       "      <td>a</td>\n",
       "      <td>F</td>\n",
       "    </tr>\n",
       "    <tr>\n",
       "      <th>7</th>\n",
       "      <td>0.011462</td>\n",
       "      <td>7.0</td>\n",
       "      <td>1986.0</td>\n",
       "      <td>c</td>\n",
       "      <td>M</td>\n",
       "    </tr>\n",
       "    <tr>\n",
       "      <th>8</th>\n",
       "      <td>0.591013</td>\n",
       "      <td>8.0</td>\n",
       "      <td>1986.0</td>\n",
       "      <td>b</td>\n",
       "      <td>F</td>\n",
       "    </tr>\n",
       "    <tr>\n",
       "      <th>9</th>\n",
       "      <td>0.024704</td>\n",
       "      <td>9.0</td>\n",
       "      <td>1987.0</td>\n",
       "      <td>e</td>\n",
       "      <td>NaN</td>\n",
       "    </tr>\n",
       "    <tr>\n",
       "      <th>10</th>\n",
       "      <td>0.828239</td>\n",
       "      <td>10.0</td>\n",
       "      <td>NaN</td>\n",
       "      <td>a</td>\n",
       "      <td>M</td>\n",
       "    </tr>\n",
       "    <tr>\n",
       "      <th>11</th>\n",
       "      <td>0.891091</td>\n",
       "      <td>11.0</td>\n",
       "      <td>1986.0</td>\n",
       "      <td>b</td>\n",
       "      <td>M</td>\n",
       "    </tr>\n",
       "    <tr>\n",
       "      <th>12</th>\n",
       "      <td>0.984716</td>\n",
       "      <td>12.0</td>\n",
       "      <td>1986.0</td>\n",
       "      <td>c</td>\n",
       "      <td>M</td>\n",
       "    </tr>\n",
       "    <tr>\n",
       "      <th>13</th>\n",
       "      <td>0.277757</td>\n",
       "      <td>13.0</td>\n",
       "      <td>1980.0</td>\n",
       "      <td>a</td>\n",
       "      <td>F</td>\n",
       "    </tr>\n",
       "    <tr>\n",
       "      <th>14</th>\n",
       "      <td>0.334569</td>\n",
       "      <td>14.0</td>\n",
       "      <td>1987.0</td>\n",
       "      <td>b</td>\n",
       "      <td>M</td>\n",
       "    </tr>\n",
       "    <tr>\n",
       "      <th>15</th>\n",
       "      <td>0.354596</td>\n",
       "      <td>15.0</td>\n",
       "      <td>1981.0</td>\n",
       "      <td>c</td>\n",
       "      <td>F</td>\n",
       "    </tr>\n",
       "    <tr>\n",
       "      <th>16</th>\n",
       "      <td>0.128114</td>\n",
       "      <td>16.0</td>\n",
       "      <td>1985.0</td>\n",
       "      <td>d</td>\n",
       "      <td>F</td>\n",
       "    </tr>\n",
       "    <tr>\n",
       "      <th>17</th>\n",
       "      <td>0.067300</td>\n",
       "      <td>17.0</td>\n",
       "      <td>1982.0</td>\n",
       "      <td>e</td>\n",
       "      <td>M</td>\n",
       "    </tr>\n",
       "    <tr>\n",
       "      <th>18</th>\n",
       "      <td>0.942430</td>\n",
       "      <td>18.0</td>\n",
       "      <td>1980.0</td>\n",
       "      <td>e</td>\n",
       "      <td>F</td>\n",
       "    </tr>\n",
       "    <tr>\n",
       "      <th>19</th>\n",
       "      <td>NaN</td>\n",
       "      <td>19.0</td>\n",
       "      <td>NaN</td>\n",
       "      <td>e</td>\n",
       "      <td>F</td>\n",
       "    </tr>\n",
       "    <tr>\n",
       "      <th>20</th>\n",
       "      <td>0.413070</td>\n",
       "      <td>20.0</td>\n",
       "      <td>1981.0</td>\n",
       "      <td>d</td>\n",
       "      <td>M</td>\n",
       "    </tr>\n",
       "    <tr>\n",
       "      <th>21</th>\n",
       "      <td>0.535878</td>\n",
       "      <td>21.0</td>\n",
       "      <td>1986.0</td>\n",
       "      <td>c</td>\n",
       "      <td>F</td>\n",
       "    </tr>\n",
       "    <tr>\n",
       "      <th>22</th>\n",
       "      <td>0.273878</td>\n",
       "      <td>22.0</td>\n",
       "      <td>1988.0</td>\n",
       "      <td>d</td>\n",
       "      <td>M</td>\n",
       "    </tr>\n",
       "    <tr>\n",
       "      <th>23</th>\n",
       "      <td>0.092746</td>\n",
       "      <td>23.0</td>\n",
       "      <td>1986.0</td>\n",
       "      <td>a</td>\n",
       "      <td>F</td>\n",
       "    </tr>\n",
       "    <tr>\n",
       "      <th>24</th>\n",
       "      <td>NaN</td>\n",
       "      <td>24.0</td>\n",
       "      <td>NaN</td>\n",
       "      <td>e</td>\n",
       "      <td>F</td>\n",
       "    </tr>\n",
       "    <tr>\n",
       "      <th>25</th>\n",
       "      <td>0.393614</td>\n",
       "      <td>25.0</td>\n",
       "      <td>1988.0</td>\n",
       "      <td>b</td>\n",
       "      <td>M</td>\n",
       "    </tr>\n",
       "    <tr>\n",
       "      <th>26</th>\n",
       "      <td>0.915101</td>\n",
       "      <td>26.0</td>\n",
       "      <td>1988.0</td>\n",
       "      <td>c</td>\n",
       "      <td>F</td>\n",
       "    </tr>\n",
       "    <tr>\n",
       "      <th>27</th>\n",
       "      <td>0.482639</td>\n",
       "      <td>NaN</td>\n",
       "      <td>1980.0</td>\n",
       "      <td>a</td>\n",
       "      <td>M</td>\n",
       "    </tr>\n",
       "    <tr>\n",
       "      <th>28</th>\n",
       "      <td>0.230283</td>\n",
       "      <td>28.0</td>\n",
       "      <td>1981.0</td>\n",
       "      <td>e</td>\n",
       "      <td>M</td>\n",
       "    </tr>\n",
       "    <tr>\n",
       "      <th>29</th>\n",
       "      <td>0.275467</td>\n",
       "      <td>29.0</td>\n",
       "      <td>1986.0</td>\n",
       "      <td>d</td>\n",
       "      <td>F</td>\n",
       "    </tr>\n",
       "  </tbody>\n",
       "</table>\n",
       "</div>"
      ],
      "text/plain": [
       "    length of eyelashes  subject_ID  birth_year group  sex\n",
       "0              0.556329         0.0      1986.0     a    M\n",
       "1              0.196549         1.0      1980.0     a    M\n",
       "2              0.161299         2.0         NaN     b    M\n",
       "3              0.325355         3.0      1980.0     c    F\n",
       "4              0.467345         4.0      1985.0     d  NaN\n",
       "5              0.698780         NaN      1987.0     e    F\n",
       "6              0.536562         6.0      1987.0     a    F\n",
       "7              0.011462         7.0      1986.0     c    M\n",
       "8              0.591013         8.0      1986.0     b    F\n",
       "9              0.024704         9.0      1987.0     e  NaN\n",
       "10             0.828239        10.0         NaN     a    M\n",
       "11             0.891091        11.0      1986.0     b    M\n",
       "12             0.984716        12.0      1986.0     c    M\n",
       "13             0.277757        13.0      1980.0     a    F\n",
       "14             0.334569        14.0      1987.0     b    M\n",
       "15             0.354596        15.0      1981.0     c    F\n",
       "16             0.128114        16.0      1985.0     d    F\n",
       "17             0.067300        17.0      1982.0     e    M\n",
       "18             0.942430        18.0      1980.0     e    F\n",
       "19                  NaN        19.0         NaN     e    F\n",
       "20             0.413070        20.0      1981.0     d    M\n",
       "21             0.535878        21.0      1986.0     c    F\n",
       "22             0.273878        22.0      1988.0     d    M\n",
       "23             0.092746        23.0      1986.0     a    F\n",
       "24                  NaN        24.0         NaN     e    F\n",
       "25             0.393614        25.0      1988.0     b    M\n",
       "26             0.915101        26.0      1988.0     c    F\n",
       "27             0.482639         NaN      1980.0     a    M\n",
       "28             0.230283        28.0      1981.0     e    M\n",
       "29             0.275467        29.0      1986.0     d    F"
      ]
     },
     "execution_count": 98,
     "metadata": {},
     "output_type": "execute_result"
    }
   ],
   "source": [
    "example_dataset = pd.DataFrame.from_dict({\n",
    "                    'length of eyelashes': np.random.rand(30),\n",
    "                    'subject_ID': np.arange(30),\n",
    "                    'birth_year': np.random.randint(1980, 1990, size=30),\n",
    "                    'group': list('aabcdeacbeabcabcdeeedcdaebcaed'),\n",
    "                    'sex': list('MMMFMFFMFFMMMFMFFMFFMFMFFMFMMF')\n",
    "})\n",
    "\n",
    "# Add in some missing data\n",
    "rows = np.random.randint(0,30,size=10)\n",
    "cols = np.random.randint(0,5,size=10)\n",
    "for i in range(10):\n",
    "    example_dataset.iloc[rows[i],cols[i]]= np.nan\n",
    "\n",
    "# Show our dataset\n",
    "example_dataset"
   ]
  },
  {
   "cell_type": "markdown",
   "metadata": {},
   "source": [
    "### Boolean indexing"
   ]
  },
  {
   "cell_type": "markdown",
   "metadata": {},
   "source": [
    "We can use Boolean indexing to return subsets of the data. What is particularly nice is that in `Pandas` boolean logic is much easier to interpret, due to the use of column names. For example, hopefully the below line of code should be fairly intuitive;"
   ]
  },
  {
   "cell_type": "code",
   "execution_count": 99,
   "metadata": {},
   "outputs": [
    {
     "data": {
      "text/html": [
       "<div>\n",
       "<style scoped>\n",
       "    .dataframe tbody tr th:only-of-type {\n",
       "        vertical-align: middle;\n",
       "    }\n",
       "\n",
       "    .dataframe tbody tr th {\n",
       "        vertical-align: top;\n",
       "    }\n",
       "\n",
       "    .dataframe thead th {\n",
       "        text-align: right;\n",
       "    }\n",
       "</style>\n",
       "<table border=\"1\" class=\"dataframe\">\n",
       "  <thead>\n",
       "    <tr style=\"text-align: right;\">\n",
       "      <th></th>\n",
       "      <th>length of eyelashes</th>\n",
       "      <th>subject_ID</th>\n",
       "      <th>birth_year</th>\n",
       "      <th>group</th>\n",
       "      <th>sex</th>\n",
       "    </tr>\n",
       "  </thead>\n",
       "  <tbody>\n",
       "    <tr>\n",
       "      <th>22</th>\n",
       "      <td>0.273878</td>\n",
       "      <td>22.0</td>\n",
       "      <td>1988.0</td>\n",
       "      <td>d</td>\n",
       "      <td>M</td>\n",
       "    </tr>\n",
       "    <tr>\n",
       "      <th>25</th>\n",
       "      <td>0.393614</td>\n",
       "      <td>25.0</td>\n",
       "      <td>1988.0</td>\n",
       "      <td>b</td>\n",
       "      <td>M</td>\n",
       "    </tr>\n",
       "  </tbody>\n",
       "</table>\n",
       "</div>"
      ],
      "text/plain": [
       "    length of eyelashes  subject_ID  birth_year group sex\n",
       "22             0.273878        22.0      1988.0     d   M\n",
       "25             0.393614        25.0      1988.0     b   M"
      ]
     },
     "execution_count": 99,
     "metadata": {},
     "output_type": "execute_result"
    }
   ],
   "source": [
    "example_dataset[(example_dataset['sex']=='M') & \n",
    "                (example_dataset['birth_year']>1987)]"
   ]
  },
  {
   "cell_type": "markdown",
   "metadata": {},
   "source": [
    " > **Note:** When using multiple boolean statements always use `()` brackets to make your logic clearer and less susceptible to coding errors."
   ]
  },
  {
   "cell_type": "markdown",
   "metadata": {},
   "source": [
    "This above is useful but the notation is a bit clunky - we had to type `example_dataset` four times to do this operation. We can do this a lot more easily with the `query` function."
   ]
  },
  {
   "cell_type": "markdown",
   "metadata": {},
   "source": [
    "### Querying"
   ]
  },
  {
   "cell_type": "markdown",
   "metadata": {},
   "source": [
    "We can perform the same operation as in the above section with much cleaner syntax using the `query` method like so:"
   ]
  },
  {
   "cell_type": "code",
   "execution_count": 100,
   "metadata": {},
   "outputs": [
    {
     "data": {
      "text/html": [
       "<div>\n",
       "<style scoped>\n",
       "    .dataframe tbody tr th:only-of-type {\n",
       "        vertical-align: middle;\n",
       "    }\n",
       "\n",
       "    .dataframe tbody tr th {\n",
       "        vertical-align: top;\n",
       "    }\n",
       "\n",
       "    .dataframe thead th {\n",
       "        text-align: right;\n",
       "    }\n",
       "</style>\n",
       "<table border=\"1\" class=\"dataframe\">\n",
       "  <thead>\n",
       "    <tr style=\"text-align: right;\">\n",
       "      <th></th>\n",
       "      <th>length of eyelashes</th>\n",
       "      <th>subject_ID</th>\n",
       "      <th>birth_year</th>\n",
       "      <th>group</th>\n",
       "      <th>sex</th>\n",
       "    </tr>\n",
       "  </thead>\n",
       "  <tbody>\n",
       "    <tr>\n",
       "      <th>22</th>\n",
       "      <td>0.273878</td>\n",
       "      <td>22.0</td>\n",
       "      <td>1988.0</td>\n",
       "      <td>d</td>\n",
       "      <td>M</td>\n",
       "    </tr>\n",
       "    <tr>\n",
       "      <th>25</th>\n",
       "      <td>0.393614</td>\n",
       "      <td>25.0</td>\n",
       "      <td>1988.0</td>\n",
       "      <td>b</td>\n",
       "      <td>M</td>\n",
       "    </tr>\n",
       "  </tbody>\n",
       "</table>\n",
       "</div>"
      ],
      "text/plain": [
       "    length of eyelashes  subject_ID  birth_year group sex\n",
       "22             0.273878        22.0      1988.0     d   M\n",
       "25             0.393614        25.0      1988.0     b   M"
      ]
     },
     "execution_count": 100,
     "metadata": {},
     "output_type": "execute_result"
    }
   ],
   "source": [
    "example_dataset.query('(sex == \"M\") & (birth_year > 1987)')"
   ]
  },
  {
   "cell_type": "markdown",
   "metadata": {},
   "source": [
    " > **Warning:** The `query` function may have problems with column names which can't be used as python identifiers (for example column names including a space). This is a common cause of `SyntaxError`'s for users new to `Pandas`."
   ]
  },
  {
   "cell_type": "markdown",
   "metadata": {},
   "source": [
    "### Removing `NaN`s\n"
   ]
  },
  {
   "cell_type": "markdown",
   "metadata": {},
   "source": [
    "When selecting data we may wish to first remove `NaN` values/missing data which could interfere with our logic. We can locate and remove all rows with `NaN` values in a specified column by using the `isna` function like so:\n"
   ]
  },
  {
   "cell_type": "code",
   "execution_count": 102,
   "metadata": {},
   "outputs": [
    {
     "data": {
      "text/html": [
       "<div>\n",
       "<style scoped>\n",
       "    .dataframe tbody tr th:only-of-type {\n",
       "        vertical-align: middle;\n",
       "    }\n",
       "\n",
       "    .dataframe tbody tr th {\n",
       "        vertical-align: top;\n",
       "    }\n",
       "\n",
       "    .dataframe thead th {\n",
       "        text-align: right;\n",
       "    }\n",
       "</style>\n",
       "<table border=\"1\" class=\"dataframe\">\n",
       "  <thead>\n",
       "    <tr style=\"text-align: right;\">\n",
       "      <th></th>\n",
       "      <th>length of eyelashes</th>\n",
       "      <th>subject_ID</th>\n",
       "      <th>birth_year</th>\n",
       "      <th>group</th>\n",
       "      <th>sex</th>\n",
       "    </tr>\n",
       "  </thead>\n",
       "  <tbody>\n",
       "    <tr>\n",
       "      <th>0</th>\n",
       "      <td>0.556329</td>\n",
       "      <td>0.0</td>\n",
       "      <td>1986.0</td>\n",
       "      <td>a</td>\n",
       "      <td>M</td>\n",
       "    </tr>\n",
       "    <tr>\n",
       "      <th>1</th>\n",
       "      <td>0.196549</td>\n",
       "      <td>1.0</td>\n",
       "      <td>1980.0</td>\n",
       "      <td>a</td>\n",
       "      <td>M</td>\n",
       "    </tr>\n",
       "    <tr>\n",
       "      <th>2</th>\n",
       "      <td>0.161299</td>\n",
       "      <td>2.0</td>\n",
       "      <td>NaN</td>\n",
       "      <td>b</td>\n",
       "      <td>M</td>\n",
       "    </tr>\n",
       "    <tr>\n",
       "      <th>3</th>\n",
       "      <td>0.325355</td>\n",
       "      <td>3.0</td>\n",
       "      <td>1980.0</td>\n",
       "      <td>c</td>\n",
       "      <td>F</td>\n",
       "    </tr>\n",
       "    <tr>\n",
       "      <th>5</th>\n",
       "      <td>0.698780</td>\n",
       "      <td>NaN</td>\n",
       "      <td>1987.0</td>\n",
       "      <td>e</td>\n",
       "      <td>F</td>\n",
       "    </tr>\n",
       "    <tr>\n",
       "      <th>6</th>\n",
       "      <td>0.536562</td>\n",
       "      <td>6.0</td>\n",
       "      <td>1987.0</td>\n",
       "      <td>a</td>\n",
       "      <td>F</td>\n",
       "    </tr>\n",
       "    <tr>\n",
       "      <th>7</th>\n",
       "      <td>0.011462</td>\n",
       "      <td>7.0</td>\n",
       "      <td>1986.0</td>\n",
       "      <td>c</td>\n",
       "      <td>M</td>\n",
       "    </tr>\n",
       "    <tr>\n",
       "      <th>8</th>\n",
       "      <td>0.591013</td>\n",
       "      <td>8.0</td>\n",
       "      <td>1986.0</td>\n",
       "      <td>b</td>\n",
       "      <td>F</td>\n",
       "    </tr>\n",
       "    <tr>\n",
       "      <th>10</th>\n",
       "      <td>0.828239</td>\n",
       "      <td>10.0</td>\n",
       "      <td>NaN</td>\n",
       "      <td>a</td>\n",
       "      <td>M</td>\n",
       "    </tr>\n",
       "    <tr>\n",
       "      <th>11</th>\n",
       "      <td>0.891091</td>\n",
       "      <td>11.0</td>\n",
       "      <td>1986.0</td>\n",
       "      <td>b</td>\n",
       "      <td>M</td>\n",
       "    </tr>\n",
       "    <tr>\n",
       "      <th>12</th>\n",
       "      <td>0.984716</td>\n",
       "      <td>12.0</td>\n",
       "      <td>1986.0</td>\n",
       "      <td>c</td>\n",
       "      <td>M</td>\n",
       "    </tr>\n",
       "    <tr>\n",
       "      <th>13</th>\n",
       "      <td>0.277757</td>\n",
       "      <td>13.0</td>\n",
       "      <td>1980.0</td>\n",
       "      <td>a</td>\n",
       "      <td>F</td>\n",
       "    </tr>\n",
       "    <tr>\n",
       "      <th>14</th>\n",
       "      <td>0.334569</td>\n",
       "      <td>14.0</td>\n",
       "      <td>1987.0</td>\n",
       "      <td>b</td>\n",
       "      <td>M</td>\n",
       "    </tr>\n",
       "    <tr>\n",
       "      <th>15</th>\n",
       "      <td>0.354596</td>\n",
       "      <td>15.0</td>\n",
       "      <td>1981.0</td>\n",
       "      <td>c</td>\n",
       "      <td>F</td>\n",
       "    </tr>\n",
       "    <tr>\n",
       "      <th>16</th>\n",
       "      <td>0.128114</td>\n",
       "      <td>16.0</td>\n",
       "      <td>1985.0</td>\n",
       "      <td>d</td>\n",
       "      <td>F</td>\n",
       "    </tr>\n",
       "    <tr>\n",
       "      <th>17</th>\n",
       "      <td>0.067300</td>\n",
       "      <td>17.0</td>\n",
       "      <td>1982.0</td>\n",
       "      <td>e</td>\n",
       "      <td>M</td>\n",
       "    </tr>\n",
       "    <tr>\n",
       "      <th>18</th>\n",
       "      <td>0.942430</td>\n",
       "      <td>18.0</td>\n",
       "      <td>1980.0</td>\n",
       "      <td>e</td>\n",
       "      <td>F</td>\n",
       "    </tr>\n",
       "    <tr>\n",
       "      <th>19</th>\n",
       "      <td>NaN</td>\n",
       "      <td>19.0</td>\n",
       "      <td>NaN</td>\n",
       "      <td>e</td>\n",
       "      <td>F</td>\n",
       "    </tr>\n",
       "    <tr>\n",
       "      <th>20</th>\n",
       "      <td>0.413070</td>\n",
       "      <td>20.0</td>\n",
       "      <td>1981.0</td>\n",
       "      <td>d</td>\n",
       "      <td>M</td>\n",
       "    </tr>\n",
       "    <tr>\n",
       "      <th>21</th>\n",
       "      <td>0.535878</td>\n",
       "      <td>21.0</td>\n",
       "      <td>1986.0</td>\n",
       "      <td>c</td>\n",
       "      <td>F</td>\n",
       "    </tr>\n",
       "    <tr>\n",
       "      <th>22</th>\n",
       "      <td>0.273878</td>\n",
       "      <td>22.0</td>\n",
       "      <td>1988.0</td>\n",
       "      <td>d</td>\n",
       "      <td>M</td>\n",
       "    </tr>\n",
       "    <tr>\n",
       "      <th>23</th>\n",
       "      <td>0.092746</td>\n",
       "      <td>23.0</td>\n",
       "      <td>1986.0</td>\n",
       "      <td>a</td>\n",
       "      <td>F</td>\n",
       "    </tr>\n",
       "    <tr>\n",
       "      <th>24</th>\n",
       "      <td>NaN</td>\n",
       "      <td>24.0</td>\n",
       "      <td>NaN</td>\n",
       "      <td>e</td>\n",
       "      <td>F</td>\n",
       "    </tr>\n",
       "    <tr>\n",
       "      <th>25</th>\n",
       "      <td>0.393614</td>\n",
       "      <td>25.0</td>\n",
       "      <td>1988.0</td>\n",
       "      <td>b</td>\n",
       "      <td>M</td>\n",
       "    </tr>\n",
       "    <tr>\n",
       "      <th>26</th>\n",
       "      <td>0.915101</td>\n",
       "      <td>26.0</td>\n",
       "      <td>1988.0</td>\n",
       "      <td>c</td>\n",
       "      <td>F</td>\n",
       "    </tr>\n",
       "    <tr>\n",
       "      <th>27</th>\n",
       "      <td>0.482639</td>\n",
       "      <td>NaN</td>\n",
       "      <td>1980.0</td>\n",
       "      <td>a</td>\n",
       "      <td>M</td>\n",
       "    </tr>\n",
       "    <tr>\n",
       "      <th>28</th>\n",
       "      <td>0.230283</td>\n",
       "      <td>28.0</td>\n",
       "      <td>1981.0</td>\n",
       "      <td>e</td>\n",
       "      <td>M</td>\n",
       "    </tr>\n",
       "    <tr>\n",
       "      <th>29</th>\n",
       "      <td>0.275467</td>\n",
       "      <td>29.0</td>\n",
       "      <td>1986.0</td>\n",
       "      <td>d</td>\n",
       "      <td>F</td>\n",
       "    </tr>\n",
       "  </tbody>\n",
       "</table>\n",
       "</div>"
      ],
      "text/plain": [
       "    length of eyelashes  subject_ID  birth_year group sex\n",
       "0              0.556329         0.0      1986.0     a   M\n",
       "1              0.196549         1.0      1980.0     a   M\n",
       "2              0.161299         2.0         NaN     b   M\n",
       "3              0.325355         3.0      1980.0     c   F\n",
       "5              0.698780         NaN      1987.0     e   F\n",
       "6              0.536562         6.0      1987.0     a   F\n",
       "7              0.011462         7.0      1986.0     c   M\n",
       "8              0.591013         8.0      1986.0     b   F\n",
       "10             0.828239        10.0         NaN     a   M\n",
       "11             0.891091        11.0      1986.0     b   M\n",
       "12             0.984716        12.0      1986.0     c   M\n",
       "13             0.277757        13.0      1980.0     a   F\n",
       "14             0.334569        14.0      1987.0     b   M\n",
       "15             0.354596        15.0      1981.0     c   F\n",
       "16             0.128114        16.0      1985.0     d   F\n",
       "17             0.067300        17.0      1982.0     e   M\n",
       "18             0.942430        18.0      1980.0     e   F\n",
       "19                  NaN        19.0         NaN     e   F\n",
       "20             0.413070        20.0      1981.0     d   M\n",
       "21             0.535878        21.0      1986.0     c   F\n",
       "22             0.273878        22.0      1988.0     d   M\n",
       "23             0.092746        23.0      1986.0     a   F\n",
       "24                  NaN        24.0         NaN     e   F\n",
       "25             0.393614        25.0      1988.0     b   M\n",
       "26             0.915101        26.0      1988.0     c   F\n",
       "27             0.482639         NaN      1980.0     a   M\n",
       "28             0.230283        28.0      1981.0     e   M\n",
       "29             0.275467        29.0      1986.0     d   F"
      ]
     },
     "execution_count": 102,
     "metadata": {},
     "output_type": "execute_result"
    }
   ],
   "source": [
    "# Remove all subjects for whom we didn't record sex\n",
    "example_dataset[~example_dataset.sex.isna()]"
   ]
  },
  {
   "cell_type": "markdown",
   "metadata": {},
   "source": [
    "There is actually a method that lets us do this more in a more neat fashion; the `dropna` method. "
   ]
  },
  {
   "cell_type": "code",
   "execution_count": 103,
   "metadata": {},
   "outputs": [
    {
     "data": {
      "text/html": [
       "<div>\n",
       "<style scoped>\n",
       "    .dataframe tbody tr th:only-of-type {\n",
       "        vertical-align: middle;\n",
       "    }\n",
       "\n",
       "    .dataframe tbody tr th {\n",
       "        vertical-align: top;\n",
       "    }\n",
       "\n",
       "    .dataframe thead th {\n",
       "        text-align: right;\n",
       "    }\n",
       "</style>\n",
       "<table border=\"1\" class=\"dataframe\">\n",
       "  <thead>\n",
       "    <tr style=\"text-align: right;\">\n",
       "      <th></th>\n",
       "      <th>length of eyelashes</th>\n",
       "      <th>subject_ID</th>\n",
       "      <th>birth_year</th>\n",
       "      <th>group</th>\n",
       "      <th>sex</th>\n",
       "    </tr>\n",
       "  </thead>\n",
       "  <tbody>\n",
       "    <tr>\n",
       "      <th>0</th>\n",
       "      <td>0.556329</td>\n",
       "      <td>0.0</td>\n",
       "      <td>1986.0</td>\n",
       "      <td>a</td>\n",
       "      <td>M</td>\n",
       "    </tr>\n",
       "    <tr>\n",
       "      <th>1</th>\n",
       "      <td>0.196549</td>\n",
       "      <td>1.0</td>\n",
       "      <td>1980.0</td>\n",
       "      <td>a</td>\n",
       "      <td>M</td>\n",
       "    </tr>\n",
       "    <tr>\n",
       "      <th>3</th>\n",
       "      <td>0.325355</td>\n",
       "      <td>3.0</td>\n",
       "      <td>1980.0</td>\n",
       "      <td>c</td>\n",
       "      <td>F</td>\n",
       "    </tr>\n",
       "    <tr>\n",
       "      <th>5</th>\n",
       "      <td>0.698780</td>\n",
       "      <td>NaN</td>\n",
       "      <td>1987.0</td>\n",
       "      <td>e</td>\n",
       "      <td>F</td>\n",
       "    </tr>\n",
       "    <tr>\n",
       "      <th>6</th>\n",
       "      <td>0.536562</td>\n",
       "      <td>6.0</td>\n",
       "      <td>1987.0</td>\n",
       "      <td>a</td>\n",
       "      <td>F</td>\n",
       "    </tr>\n",
       "    <tr>\n",
       "      <th>7</th>\n",
       "      <td>0.011462</td>\n",
       "      <td>7.0</td>\n",
       "      <td>1986.0</td>\n",
       "      <td>c</td>\n",
       "      <td>M</td>\n",
       "    </tr>\n",
       "    <tr>\n",
       "      <th>8</th>\n",
       "      <td>0.591013</td>\n",
       "      <td>8.0</td>\n",
       "      <td>1986.0</td>\n",
       "      <td>b</td>\n",
       "      <td>F</td>\n",
       "    </tr>\n",
       "    <tr>\n",
       "      <th>11</th>\n",
       "      <td>0.891091</td>\n",
       "      <td>11.0</td>\n",
       "      <td>1986.0</td>\n",
       "      <td>b</td>\n",
       "      <td>M</td>\n",
       "    </tr>\n",
       "    <tr>\n",
       "      <th>12</th>\n",
       "      <td>0.984716</td>\n",
       "      <td>12.0</td>\n",
       "      <td>1986.0</td>\n",
       "      <td>c</td>\n",
       "      <td>M</td>\n",
       "    </tr>\n",
       "    <tr>\n",
       "      <th>13</th>\n",
       "      <td>0.277757</td>\n",
       "      <td>13.0</td>\n",
       "      <td>1980.0</td>\n",
       "      <td>a</td>\n",
       "      <td>F</td>\n",
       "    </tr>\n",
       "    <tr>\n",
       "      <th>14</th>\n",
       "      <td>0.334569</td>\n",
       "      <td>14.0</td>\n",
       "      <td>1987.0</td>\n",
       "      <td>b</td>\n",
       "      <td>M</td>\n",
       "    </tr>\n",
       "    <tr>\n",
       "      <th>15</th>\n",
       "      <td>0.354596</td>\n",
       "      <td>15.0</td>\n",
       "      <td>1981.0</td>\n",
       "      <td>c</td>\n",
       "      <td>F</td>\n",
       "    </tr>\n",
       "    <tr>\n",
       "      <th>16</th>\n",
       "      <td>0.128114</td>\n",
       "      <td>16.0</td>\n",
       "      <td>1985.0</td>\n",
       "      <td>d</td>\n",
       "      <td>F</td>\n",
       "    </tr>\n",
       "    <tr>\n",
       "      <th>17</th>\n",
       "      <td>0.067300</td>\n",
       "      <td>17.0</td>\n",
       "      <td>1982.0</td>\n",
       "      <td>e</td>\n",
       "      <td>M</td>\n",
       "    </tr>\n",
       "    <tr>\n",
       "      <th>18</th>\n",
       "      <td>0.942430</td>\n",
       "      <td>18.0</td>\n",
       "      <td>1980.0</td>\n",
       "      <td>e</td>\n",
       "      <td>F</td>\n",
       "    </tr>\n",
       "    <tr>\n",
       "      <th>20</th>\n",
       "      <td>0.413070</td>\n",
       "      <td>20.0</td>\n",
       "      <td>1981.0</td>\n",
       "      <td>d</td>\n",
       "      <td>M</td>\n",
       "    </tr>\n",
       "    <tr>\n",
       "      <th>21</th>\n",
       "      <td>0.535878</td>\n",
       "      <td>21.0</td>\n",
       "      <td>1986.0</td>\n",
       "      <td>c</td>\n",
       "      <td>F</td>\n",
       "    </tr>\n",
       "    <tr>\n",
       "      <th>22</th>\n",
       "      <td>0.273878</td>\n",
       "      <td>22.0</td>\n",
       "      <td>1988.0</td>\n",
       "      <td>d</td>\n",
       "      <td>M</td>\n",
       "    </tr>\n",
       "    <tr>\n",
       "      <th>23</th>\n",
       "      <td>0.092746</td>\n",
       "      <td>23.0</td>\n",
       "      <td>1986.0</td>\n",
       "      <td>a</td>\n",
       "      <td>F</td>\n",
       "    </tr>\n",
       "    <tr>\n",
       "      <th>25</th>\n",
       "      <td>0.393614</td>\n",
       "      <td>25.0</td>\n",
       "      <td>1988.0</td>\n",
       "      <td>b</td>\n",
       "      <td>M</td>\n",
       "    </tr>\n",
       "    <tr>\n",
       "      <th>26</th>\n",
       "      <td>0.915101</td>\n",
       "      <td>26.0</td>\n",
       "      <td>1988.0</td>\n",
       "      <td>c</td>\n",
       "      <td>F</td>\n",
       "    </tr>\n",
       "    <tr>\n",
       "      <th>27</th>\n",
       "      <td>0.482639</td>\n",
       "      <td>NaN</td>\n",
       "      <td>1980.0</td>\n",
       "      <td>a</td>\n",
       "      <td>M</td>\n",
       "    </tr>\n",
       "    <tr>\n",
       "      <th>28</th>\n",
       "      <td>0.230283</td>\n",
       "      <td>28.0</td>\n",
       "      <td>1981.0</td>\n",
       "      <td>e</td>\n",
       "      <td>M</td>\n",
       "    </tr>\n",
       "    <tr>\n",
       "      <th>29</th>\n",
       "      <td>0.275467</td>\n",
       "      <td>29.0</td>\n",
       "      <td>1986.0</td>\n",
       "      <td>d</td>\n",
       "      <td>F</td>\n",
       "    </tr>\n",
       "  </tbody>\n",
       "</table>\n",
       "</div>"
      ],
      "text/plain": [
       "    length of eyelashes  subject_ID  birth_year group sex\n",
       "0              0.556329         0.0      1986.0     a   M\n",
       "1              0.196549         1.0      1980.0     a   M\n",
       "3              0.325355         3.0      1980.0     c   F\n",
       "5              0.698780         NaN      1987.0     e   F\n",
       "6              0.536562         6.0      1987.0     a   F\n",
       "7              0.011462         7.0      1986.0     c   M\n",
       "8              0.591013         8.0      1986.0     b   F\n",
       "11             0.891091        11.0      1986.0     b   M\n",
       "12             0.984716        12.0      1986.0     c   M\n",
       "13             0.277757        13.0      1980.0     a   F\n",
       "14             0.334569        14.0      1987.0     b   M\n",
       "15             0.354596        15.0      1981.0     c   F\n",
       "16             0.128114        16.0      1985.0     d   F\n",
       "17             0.067300        17.0      1982.0     e   M\n",
       "18             0.942430        18.0      1980.0     e   F\n",
       "20             0.413070        20.0      1981.0     d   M\n",
       "21             0.535878        21.0      1986.0     c   F\n",
       "22             0.273878        22.0      1988.0     d   M\n",
       "23             0.092746        23.0      1986.0     a   F\n",
       "25             0.393614        25.0      1988.0     b   M\n",
       "26             0.915101        26.0      1988.0     c   F\n",
       "27             0.482639         NaN      1980.0     a   M\n",
       "28             0.230283        28.0      1981.0     e   M\n",
       "29             0.275467        29.0      1986.0     d   F"
      ]
     },
     "execution_count": 103,
     "metadata": {},
     "output_type": "execute_result"
    }
   ],
   "source": [
    "# Remove all subjects with missing sex and birthyear information\n",
    "example_dataset.dropna(subset=['birth_year', 'sex'])"
   ]
  },
  {
   "cell_type": "markdown",
   "metadata": {},
   "source": [
    "### Summarizing data"
   ]
  },
  {
   "cell_type": "markdown",
   "metadata": {},
   "source": []
  },
  {
   "cell_type": "markdown",
   "metadata": {},
   "source": [
    "### Grouping by"
   ]
  },
  {
   "cell_type": "markdown",
   "metadata": {},
   "source": [
    "###  Sorting data"
   ]
  },
  {
   "cell_type": "markdown",
   "metadata": {},
   "source": [
    "### Reshaping"
   ]
  },
  {
   "cell_type": "markdown",
   "metadata": {},
   "source": [
    "### Reading/Writing files"
   ]
  },
  {
   "cell_type": "code",
   "execution_count": null,
   "metadata": {},
   "outputs": [],
   "source": []
  }
 ],
 "metadata": {
  "kernelspec": {
   "display_name": "Python 3",
   "language": "python",
   "name": "python3"
  },
  "language_info": {
   "codemirror_mode": {
    "name": "ipython",
    "version": 3
   },
   "file_extension": ".py",
   "mimetype": "text/x-python",
   "name": "python",
   "nbconvert_exporter": "python",
   "pygments_lexer": "ipython3",
   "version": "3.6.8"
  }
 },
 "nbformat": 4,
 "nbformat_minor": 2
}
