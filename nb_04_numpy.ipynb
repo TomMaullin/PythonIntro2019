{
 "cells": [
  {
   "cell_type": "markdown",
   "metadata": {},
   "source": [
    "# Notebook 4: Numpy"
   ]
  },
  {
   "cell_type": "markdown",
   "metadata": {},
   "source": [
    "In this section we will introduce you to the `numpy` package; one of the most widely-used and fundamental packages in Python. It is likely you will use `numpy` a lot when working in Python. This is a recommended notebook for anyone who has not used Python before.\n",
    "\n",
    "**Note:** Often, by convention `numpy` is commonly aliased as `np`."
   ]
  },
  {
   "cell_type": "code",
   "execution_count": null,
   "metadata": {},
   "outputs": [],
   "source": [
    "import numpy as np"
   ]
  },
  {
   "cell_type": "markdown",
   "metadata": {},
   "source": [
    "### Table of Contents\n",
    "\n",
    " - [Notebook 0: Introduction](./nb_00_introduction.ipynb)\n",
    " - [Notebook 1: Datatypes, loops and logic](./nb_01_datatypes_loops_and_logic.ipynb)\n",
    " - [Notebook 2: Functions, modules and packages](./nb_02_functions_modules_and_packages.ipynb)\n",
    " - [Notebook 3: Managing files](./nb_03_managing_files.ipynb)\n",
    " - [**Notebook 4: Numpy**](./nb_04_numpy.ipynb)\n",
    "   - [Introduction](#Introduction)\n",
    "   - [numpy basics](#numpy-basics)\n",
    "     - [Array Attributes and Methods](#Array-Attributes-and-Methods)\n",
    "     - [Loading arrays from text files](#Loading-arrays-from-text-files)\n",
    "     - [Reshaping and Transposing arrays](#Reshaping-and-Transposing-arrays)\n",
    "     - [Concatenating arrays](#Concatenating-arrays)\n",
    "   - [Operating on arrays](#Operating-on-arrays)\n",
    "     - [Scalar operations](#Scalar-operations)\n",
    "     - [Matrix multiplication](#Matrix-multiplication)\n",
    "   - [Broadcasting](#Broadcasting)\n",
    "   - [Linear algebra](#Linear-algebra)\n",
    "   - [Random Numbers in numpy](#Random-Numbers-in-numpy)\n",
    "   - [Array Indexing](#Array-Indexing)\n",
    "     - [Indexing multi-dimensional arrays](#Indexing-multi-dimensional-arrays)\n",
    "     - [Coordinate array indexing](#Coordinate-array-indexing)\n",
    "     - [Boolean indexing](#Boolean-indexing)\n",
    "   - [Getting Help](#Getting-Help)\n",
    "   \n",
    "   \n",
    "   \n",
    " - [Notebook 5: Pandas](./nb_05_pandas.ipynb)\n",
    " - [Notebook 6: Scipy](./nb_06_scipy.ipynb)\n",
    " - [Notebook 7: Plotting and images](./nb_07_plotting_and_images.ipynb)"
   ]
  },
  {
   "cell_type": "markdown",
   "metadata": {},
   "source": [
    "## Introduction"
   ]
  },
  {
   "cell_type": "markdown",
   "metadata": {},
   "source": [
    "`numpy`'s main role in the Python ecosystem is to provide crucial support for scientific computing. It does this by introducing a new datatype; the `array` (or more specifically the `ndarray`; the n-dimensional array). We can create a numpy array from a python list using the `array` function like so:"
   ]
  },
  {
   "cell_type": "code",
   "execution_count": null,
   "metadata": {},
   "outputs": [],
   "source": [
    "# This is a Python list \n",
    "example_list = [1,2,3]\n",
    "print(example_list)\n",
    "\n",
    "# This is a numpy array\n",
    "example_array = np.array(example_list)\n",
    "print(example_array)"
   ]
  },
  {
   "cell_type": "markdown",
   "metadata": {},
   "source": [
    "On the face of it, the `list` and the `array` look very similar; **however**, for scientific computing a numpy array is much (much, much, much) more efficient for scientific than the standard Python list.\n",
    "\n",
    "\n",
    " > **RECAP:** When performing scientific/numerical computation you should use numpy arrays, not Python lists! \n",
    "\n",
    "This often seems strange and causes confusion for new Python users; after all why would the standard data type for mathematical computing not be in-built in Python? The, perhaps strange seeming, truth is that in Python more often than not you will be using Python packages that are not in-built. This is just the way Python works - don't be daunted by the thought of having to import all your modules - this is perfectly normal and acceptable in the world of Python!"
   ]
  },
  {
   "cell_type": "markdown",
   "metadata": {},
   "source": [
    "## `numpy` basics"
   ]
  },
  {
   "cell_type": "markdown",
   "metadata": {},
   "source": [
    "Many `numpy` functions have extremely intuitive syntax and strongly resemble corresponding functions in the `Matlab` language. For example;"
   ]
  },
  {
   "cell_type": "code",
   "execution_count": null,
   "metadata": {},
   "outputs": [],
   "source": [
    "print('np.zeros produces an array of zeros:')\n",
    "print(np.zeros(3))\n",
    "print('-----------------------------------------')\n",
    "print('np.ones gives an array of ones:')\n",
    "print(np.ones(3))\n",
    "print('-----------------------------------------')\n",
    "print('np.arange gives a range of values:')\n",
    "print(np.arange(2,7))\n",
    "print('-----------------------------------------')\n",
    "print('np.linspace gives N linearly spaced numbers:')\n",
    "print(np.linspace(0, 1, 5))\n",
    "print('-----------------------------------------')\n",
    "print('np.eye gives us an identity matrix:')\n",
    "print(np.eye(3))\n",
    "print('-----------------------------------------')\n",
    "print('np.diag gives us a diagonal matrix:')\n",
    "print(np.diag([9, 8, 7]))\n",
    "print('-----------------------------------------')\n"
   ]
  },
  {
   "cell_type": "markdown",
   "metadata": {},
   "source": [
    "### Array Attributes and Methods\n"
   ]
  },
  {
   "cell_type": "markdown",
   "metadata": {},
   "source": [
    "The `array` has many attributes that are often useful to know, several of which are given in the example below:"
   ]
  },
  {
   "cell_type": "code",
   "execution_count": null,
   "metadata": {},
   "outputs": [],
   "source": [
    "example_array = np.array([1,-2,3])\n",
    "print('example array:')\n",
    "print(example_array)\n",
    "print('======================================')\n",
    "print('shape:')\n",
    "print(example_array.shape)\n",
    "print('--------------------------------------')\n",
    "print('data type*:')\n",
    "print(example_array.dtype)\n",
    "print('--------------------------------------')\n",
    "print('size (number of elements):')\n",
    "print(example_array.size)\n",
    "print('--------------------------------------')\n",
    "print('number of dimensions:')\n",
    "print(example_array.ndim)\n",
    "print('--------------------------------------')\n",
    "print('number of bytes taken up by the array:')\n",
    "print(example_array.nbytes)\n",
    "print('--------------------------------------')"
   ]
  },
  {
   "cell_type": "markdown",
   "metadata": {},
   "source": [
    " > **\\* Note:** Elements in an `array` are saved as `numpy` data types rather than in-built Python data types. In the above example, for instance, the values in `example_array` are saved as `numpy` `int64` objects rather than Python `int`s (check this using the `type` function). To learn more about the `numpy` datatypes see the [numpy documentation here](https://docs.scipy.org/doc/numpy-1.10.1/user/basics.types.html). This is worth bearing in mind should you get any strange data type based errors."
   ]
  },
  {
   "cell_type": "markdown",
   "metadata": {},
   "source": [
    "The `array` also has many convenient methods (a `method` is just a Python way saying \"function which belongs to a specific object\"). For example:"
   ]
  },
  {
   "cell_type": "code",
   "execution_count": null,
   "metadata": {},
   "outputs": [],
   "source": [
    "example_array = np.array([1,-2,4,0,0,2,0,10])\n",
    "print('example array:')\n",
    "print(example_array)\n",
    "print('======================================')\n",
    "print('minimum:')\n",
    "print(example_array.min())\n",
    "print('--------------------------------------')\n",
    "print('maximum:')\n",
    "print(example_array.max())\n",
    "print('--------------------------------------')\n",
    "print('index of minimum:')\n",
    "print(example_array.argmin())  \n",
    "print('--------------------------------------')\n",
    "print('index of maximum:')\n",
    "print(example_array.argmax())  \n",
    "print('--------------------------------------')\n",
    "print('mean:')\n",
    "print(example_array.mean())\n",
    "print('--------------------------------------')\n",
    "print('variance:')\n",
    "print(example_array.var())\n",
    "print('--------------------------------------')\n",
    "print('standard deviation:')\n",
    "print(example_array.std())\n",
    "print('--------------------------------------')\n",
    "print('sum:')\n",
    "print(example_array.sum())\n",
    "print('--------------------------------------')\n",
    "print('product:')\n",
    "print(example_array.prod())\n",
    "print('--------------------------------------')\n"
   ]
  },
  {
   "cell_type": "markdown",
   "metadata": {},
   "source": [
    "These methods can also be applied to multi-dimensional arrays. For example;"
   ]
  },
  {
   "cell_type": "code",
   "execution_count": null,
   "metadata": {},
   "outputs": [],
   "source": [
    "example_array = np.array([[1,2,3,4],[0,3,4,1]])\n",
    "print('example array:')\n",
    "print(example_array)\n",
    "print('======================================')\n",
    "print('overall minimum:')\n",
    "print(example_array.min())\n",
    "print('--------------------------------------')\n",
    "print('row minimums:')\n",
    "print(example_array.min(axis=1))\n",
    "print('--------------------------------------')\n",
    "print('column minimums:')\n",
    "print(example_array.min(axis=0))\n",
    "print('--------------------------------------')\n",
    "print('Overall Minimum index:')\n",
    "print(example_array.argmin())\n",
    "print('--------------------------------------')\n",
    "print('Row minimum indices:')\n",
    "print(example_array.argmin(axis=1))\n",
    "print('--------------------------------------')\n",
    "print('Column minimum indices:')\n",
    "print(example_array.argmin(axis=0))\n",
    "print('--------------------------------------')"
   ]
  },
  {
   "cell_type": "markdown",
   "metadata": {},
   "source": [
    " > **Note:** For multi-dimensional arrays, the `argmin` and `argmax` methods will return the index of the minimum/maximum values for a flattened view of the array. \n",
    ">\n",
    "> For example, in the above `0` is the minimum value. If we read across rows and then down columns then we can see that `0` would be the 5th element we would read. As Python uses zero indexing this would mean that the element `0` has index `4`, which explains the \"Overall minimum index\" in the above output."
   ]
  },
  {
   "cell_type": "markdown",
   "metadata": {},
   "source": [
    "### Loading arrays from text files"
   ]
  },
  {
   "cell_type": "markdown",
   "metadata": {},
   "source": [
    "We can load numpy arrays from text files using the `loadtxt` function."
   ]
  },
  {
   "cell_type": "code",
   "execution_count": null,
   "metadata": {},
   "outputs": [],
   "source": [
    "example = np.loadtxt('04_numpy/example_data.txt')\n",
    "print(example)"
   ]
  },
  {
   "cell_type": "markdown",
   "metadata": {},
   "source": [
    "We can also write to a text file using the `savetxt` function."
   ]
  },
  {
   "cell_type": "code",
   "execution_count": null,
   "metadata": {},
   "outputs": [],
   "source": [
    "data = np.array([[1,0,0],[0,1,0],[0,0,2.3]])\n",
    "np.savetxt('04_numpy/data_we_just_saved.txt', data, delimiter=',')"
   ]
  },
  {
   "cell_type": "markdown",
   "metadata": {},
   "source": [
    "Have a look at the file `data_we_just_saved.txt` file and make sure you understand how the above code works. You may notice the file is strangely formatted. You can change this using the [`fmt` argument in the `savetxt` function](http://docs.scipy.org/doc/numpy/reference/generated/numpy.savetxt.html)."
   ]
  },
  {
   "cell_type": "markdown",
   "metadata": {},
   "source": [
    "### Reshaping and Transposing arrays"
   ]
  },
  {
   "cell_type": "markdown",
   "metadata": {},
   "source": [
    "A `numpy` `array` can be reshaped using the `reshape` method. For example;\n"
   ]
  },
  {
   "cell_type": "code",
   "execution_count": null,
   "metadata": {},
   "outputs": [],
   "source": [
    "example_array = np.arange(12)\n",
    "print('Array: \\n', example_array)\n",
    "print('Array shape: ',example_array.shape)\n",
    "\n",
    "print('--------------------------------------')\n",
    "\n",
    "reshaped = np.array(example_array.reshape((3,4)))\n",
    "print('Reshaped: \\n', reshaped)\n",
    "print('New shape: ',reshaped.shape)\n",
    "\n",
    "print('--------------------------------------')\n",
    "\n",
    "reshaped = np.array(example_array.reshape((2,3,2)))\n",
    "print('Reshaped Again: \\n', reshaped)\n",
    "print('New shape: ',reshaped.shape)"
   ]
  },
  {
   "cell_type": "markdown",
   "metadata": {},
   "source": [
    " > **Note:** Reshaping an array only creates another view of an array object. To create a new copy of the array the `np.array` constructor must be used, like in the above. For more information on the dangers of creating multiple references to the same object, please read the `copying and references` section of Notebook 1. An illustrative example is also given below."
   ]
  },
  {
   "cell_type": "code",
   "execution_count": null,
   "metadata": {},
   "outputs": [],
   "source": [
    "# Lets look at what happens if we don't use the np array operator\n",
    "example_array = np.arange(12)\n",
    "print(example_array)\n",
    "\n",
    "# We reshape the array (with no np.array operator)\n",
    "reshaped = example_array.reshape((3,4))\n",
    "\n",
    "# We change a value in the reshaped array\n",
    "reshaped[2,0]=100\n",
    "\n",
    "# And the original array has also chaged\n",
    "print(example_array)"
   ]
  },
  {
   "cell_type": "markdown",
   "metadata": {},
   "source": [
    "Arrays can be transposed with the `T` attribute or `transpose` method like so:"
   ]
  },
  {
   "cell_type": "code",
   "execution_count": null,
   "metadata": {},
   "outputs": [],
   "source": [
    "example_array = np.arange(12).reshape((3,4))\n",
    "\n",
    "print(example_array)\n",
    "print(example_array.T)\n",
    "print(example_array.transpose())"
   ]
  },
  {
   "cell_type": "markdown",
   "metadata": {},
   "source": [
    "For higher dimensional arrays we can think of transposing an array as simply switching the order of the axes. This is exactly what is happening in the below. Try this out for yourself to make sure you understand what is happening here. "
   ]
  },
  {
   "cell_type": "code",
   "execution_count": null,
   "metadata": {},
   "outputs": [],
   "source": [
    "example_array = np.arange(12).reshape((3,2,2))\n",
    "\n",
    "# Print the array\n",
    "print(example_array)\n",
    "print('\\n-----------------------\\n')\n",
    "# Swap the last two axes and print again\n",
    "print(example_array.transpose((0,2,1)))"
   ]
  },
  {
   "cell_type": "markdown",
   "metadata": {},
   "source": [
    "### Concatenating arrays"
   ]
  },
  {
   "cell_type": "markdown",
   "metadata": {},
   "source": [
    "You can join together, or concatenate, several numpy arrays with the numpy `concatenate` function. If you specify an axis, it will concatenate it along that axis; otherwise it will default to concatenation along the `0`th axis."
   ]
  },
  {
   "cell_type": "code",
   "execution_count": null,
   "metadata": {},
   "outputs": [],
   "source": [
    "zero_array = np.zeros((2, 3))\n",
    "one_array = np.ones((2, 3))\n",
    "\n",
    "print('Column-wise concatenation:')\n",
    "print(np.concatenate((zero_array, one_array), axis=1))\n",
    "\n",
    "print('Row-wise concatenation:')\n",
    "print(np.concatenate((zero_array, one_array), axis=0))\n",
    "\n",
    "print('(Default) Row-wise concatenation:')\n",
    "print(np.concatenate((zero_array, one_array)))\n"
   ]
  },
  {
   "cell_type": "markdown",
   "metadata": {},
   "source": [
    "The `hstack`, `vstack` and `dstack` functions also perform array concatenation along the first, second, or third dimension respectively:"
   ]
  },
  {
   "cell_type": "code",
   "execution_count": null,
   "metadata": {},
   "outputs": [],
   "source": [
    "zero_array = np.zeros((2, 3))\n",
    "one_array = np.ones((2, 3))\n",
    "\n",
    "# Stack on first dimension\n",
    "hstacked = np.hstack((zero_array, one_array))\n",
    "print('hstacked shape: ', hstacked.shape)\n",
    "print('hstacked:')\n",
    "print( hstacked)\n",
    "print('--------------------------------------------')\n",
    "\n",
    "# Stack on second dimension\n",
    "vstacked = np.vstack((zero_array, one_array))\n",
    "print('vstacked shape: ', vstacked.shape)\n",
    "print('vstacked:')\n",
    "print( vstacked)\n",
    "print('--------------------------------------------')\n",
    "\n",
    "# Stack on third dimension\n",
    "dstacked = np.dstack((zero_array, one_array))\n",
    "print('dstacked shape: ', dstacked.shape)\n",
    "print('dstacked:')\n",
    "print( dstacked)"
   ]
  },
  {
   "cell_type": "markdown",
   "metadata": {},
   "source": [
    "## Operating on arrays"
   ]
  },
  {
   "cell_type": "markdown",
   "metadata": {},
   "source": [
    "`numpy` provides a wide and powerful range of operations you can perform on arrays. However, especially if you are coming from having previously worked in different languages, some of the syntax might not be completely ituitive."
   ]
  },
  {
   "cell_type": "markdown",
   "metadata": {},
   "source": [
    "### Scalar operations"
   ]
  },
  {
   "cell_type": "markdown",
   "metadata": {},
   "source": [
    "All of the standard mathematical operators in Python also exist in `numpy`."
   ]
  },
  {
   "cell_type": "code",
   "execution_count": null,
   "metadata": {},
   "outputs": [],
   "source": [
    "example_array = np.arange(1, 10).reshape((3, 3))\n",
    "print('example_array:')\n",
    "print(example_array)\n",
    "print('example_array + 2:')\n",
    "print( example_array + 2)\n",
    "print('example_array * 3:')\n",
    "print( example_array * 3)\n",
    "print('example_array ** 3:')\n",
    "print( example_array ** 3)\n",
    "print('example_array % 2:')\n",
    "print( example_array % 2)\n"
   ]
  },
  {
   "cell_type": "markdown",
   "metadata": {},
   "source": [
    " > **Note**: Again, in Python exponentiation is performed with the `**` operator and not the `^`! Do not fall for this trap!"
   ]
  },
  {
   "cell_type": "code",
   "execution_count": null,
   "metadata": {},
   "outputs": [],
   "source": [
    "print('example_array ^ 3:')\n",
    "print( example_array ^ 3)"
   ]
  },
  {
   "cell_type": "markdown",
   "metadata": {},
   "source": [
    " > **Note**: If you have worked in `matlab` previous you may be used to using the `*` operator for matrix multiplication. Be careful here as, as we saw above, in Python **\\* is elementwise not matrix** multiplication."
   ]
  },
  {
   "cell_type": "markdown",
   "metadata": {},
   "source": [
    "### Matrix multiplication"
   ]
  },
  {
   "cell_type": "markdown",
   "metadata": {},
   "source": [
    "In Python, matrix multiplication can be performed with the `@` symbol. This feature is pretty new in Python and if you are working in older versions of python you may wish to use the `matmul` or `dot` functions:"
   ]
  },
  {
   "cell_type": "code",
   "execution_count": null,
   "metadata": {},
   "outputs": [],
   "source": [
    "a = np.arange(9).reshape(3,3)\n",
    "b = np.arange(3,12).reshape(3,3)\n",
    "print('a')\n",
    "print(a)\n",
    "print('b')\n",
    "print(b)\n",
    "print('@ operator:')\n",
    "print(a @ b)\n",
    "print('dot function:')\n",
    "print(a.dot(b))\n",
    "print('matmul function:')\n",
    "print(np.matmul(a,b))"
   ]
  },
  {
   "cell_type": "markdown",
   "metadata": {},
   "source": [
    " > **Note:** We reiterate, in Python matrix multiplication is done with the `@` operator, not the `*` operator! `numpy` does have an alternative datatype called the `matrix` which follows more matlab-like conventions; however, we will not cover that here as the `numpy` `array` is a much more developed and well-maintained datatype."
   ]
  },
  {
   "cell_type": "markdown",
   "metadata": {},
   "source": [
    "## Broadcasting"
   ]
  },
  {
   "cell_type": "markdown",
   "metadata": {},
   "source": [
    "One of the most powerful and important tools to know about in `numpy` is *broadcasting*. Broadcasting allows you to perform arithmetic operations on arrays with different shapes to one another. Given two numpy arrays, for each axis in the two arrays, numpy will implicitly expand the shape of the smaller axis to match the shape of the larger one. This may become clearer with a few examples."
   ]
  },
  {
   "cell_type": "markdown",
   "metadata": {},
   "source": [
    " > **Note:** Those who are familiar with recent versions matlab may know `broadcasting` as `implicit expansion`."
   ]
  },
  {
   "cell_type": "markdown",
   "metadata": {},
   "source": [
    "For arrays of a low dimension, broadcasting has many uses. For example, you could add the elements of a 1D vector to all of the rows or columns of a 2D array:"
   ]
  },
  {
   "cell_type": "code",
   "execution_count": null,
   "metadata": {},
   "outputs": [],
   "source": [
    "a = np.arange(9).reshape((3, 3))\n",
    "b = np.array([[1,0,2]])\n",
    "print('a:')\n",
    "print(a)\n",
    "print('b:')\n",
    "print(b)\n",
    "print('a + b (row-wise):')\n",
    "print(a + b)\n",
    "print('a + b.T (column-wise):')\n",
    "print(a + b.T)"
   ]
  },
  {
   "cell_type": "markdown",
   "metadata": {},
   "source": [
    "This is an extremely powerful tool. For example, we could use it to demean (i.e. subtract the mean from each column) a 2d array like so:"
   ]
  },
  {
   "cell_type": "code",
   "execution_count": null,
   "metadata": {},
   "outputs": [],
   "source": [
    "example_array = np.arange(9).reshape((3, 3))\n",
    "print('example_array:')\n",
    "print(example_array)\n",
    "\n",
    "print('example_array (cols demeaned):')\n",
    "print(example_array - example_array.mean(axis=0))"
   ]
  },
  {
   "cell_type": "markdown",
   "metadata": {},
   "source": [
    "In higher dimensions this is also extremely useful. Say for instance we have three, 2 by 2 numpy arrays and from each array we wish to subtract the 2 x 2 identity matrix. We could do this like so:"
   ]
  },
  {
   "cell_type": "code",
   "execution_count": null,
   "metadata": {},
   "outputs": [],
   "source": [
    "# Make 3 2 by 2 matrices\n",
    "example_array = np.arange(12).reshape(3,2,2)\n",
    "print('example_array')\n",
    "print(example_array)\n",
    "\n",
    "print('\\nidentity matrix')\n",
    "print(np.eye(2))\n",
    "\n",
    "# Subtract identity\n",
    "print('\\nexample_array-identity')\n",
    "print(example_array-np.eye(2))"
   ]
  },
  {
   "cell_type": "markdown",
   "metadata": {},
   "source": [
    "Broadcasting is an extremely powerful tool and can be used in many more situations than those we have discussed above. It can be confusing at first but we strongly recommend you take the time to understand and work through as much information about broadcasting as you can. Broadcasting will make your code much cleaner and potentially **much** faster. To learn more see the [`numpy` broadcasting documentation](https://docs.scipy.org/doc/numpy/user/basics.broadcasting.html)."
   ]
  },
  {
   "cell_type": "markdown",
   "metadata": {},
   "source": [
    "## Linear algebra"
   ]
  },
  {
   "cell_type": "markdown",
   "metadata": {},
   "source": [
    "Numpy provides a range of linear algebra and matrix functions. Most of these functions live in the `linalg` module."
   ]
  },
  {
   "cell_type": "code",
   "execution_count": null,
   "metadata": {},
   "outputs": [],
   "source": [
    "import numpy.linalg as npla"
   ]
  },
  {
   "cell_type": "markdown",
   "metadata": {},
   "source": [
    "Below are a few examples of some `numpy` linear algebra functions. The syntax for these functions should seem fairly intuitive and full documentation can be found [here](https://docs.scipy.org/doc/numpy/reference/routines.linalg.html)."
   ]
  },
  {
   "cell_type": "code",
   "execution_count": null,
   "metadata": {},
   "outputs": [],
   "source": [
    "example_array = np.array([[1, 0, 2],\n",
    "                          [3, 2, 6],\n",
    "                          [0, 5, 8]])\n",
    "print('example_array')\n",
    "print(example_array)\n",
    "\n",
    "print('example_array determinant')\n",
    "print(npla.det(example_array))\n",
    "\n",
    "print('example_array rank')\n",
    "print(npla.matrix_rank(example_array))\n",
    "\n",
    "print('example_array inverse')\n",
    "print(npla.inv(example_array))\n",
    "\n",
    "print('example_array qr decomposition')\n",
    "print(npla.qr(example_array))"
   ]
  },
  {
   "cell_type": "markdown",
   "metadata": {},
   "source": [
    " > **Warning:** As can be seen in the above example, `numpy` functions, just like any other pieces of code, are not infallible and are prone to machine error. In our example, we know that the determinant should be `16` but in this case `numpy` has very slightly underestimated it. Bear this in mind if you ever start seeing very small numerical differences in your results."
   ]
  },
  {
   "cell_type": "markdown",
   "metadata": {},
   "source": [
    "## Random Numbers in `numpy`"
   ]
  },
  {
   "cell_type": "markdown",
   "metadata": {},
   "source": [
    "Another useful feature in `numpy` we will briefly mention here is the `random` module which allows you to generate random numbers. Some examples of how this works are given below but the full documentation can be found [here](https://docs.scipy.org/doc/numpy-1.14.0/reference/routines.random.html)."
   ]
  },
  {
   "cell_type": "code",
   "execution_count": null,
   "metadata": {},
   "outputs": [],
   "source": [
    "import numpy.random\n",
    "\n",
    "print('Standard normal random sample:')\n",
    "print(np.random.randn(4))\n",
    "print('Uniform sample of integers between 0 and 9:')\n",
    "print(np.random.randint(10,size=4))\n",
    "print('Binomial (10, 0.2) random sample:')\n",
    "print(np.random.binomial(10,0.2,size=4))"
   ]
  },
  {
   "cell_type": "markdown",
   "metadata": {},
   "source": [
    "## Array Indexing"
   ]
  },
  {
   "cell_type": "markdown",
   "metadata": {},
   "source": [
    "`numpy` arrays support a wide range of useful and convenient indexing features including those supported in standard Python. To get started, lets look at a one-dimensional array. We can index a one-dimensional `numpy` array in all the same ways we could index the Python `list` (see notebook 1 for more details on indexing the Python `list`)."
   ]
  },
  {
   "cell_type": "code",
   "execution_count": null,
   "metadata": {},
   "outputs": [],
   "source": [
    "example_array = np.arange(8)\n",
    "\n",
    "print('example_array:                  ', example_array)\n",
    "print('first element:                  ', example_array[0])\n",
    "print('first three elements:           ', example_array[:3])\n",
    "print('last element (using shape):     ', example_array[example_array.shape[0] - 1])\n",
    "print('last element (using -1 index):  ', example_array[-1])\n",
    "print('last three elements:            ', example_array[-3:])\n",
    "print('middle two elements:            ', example_array[3:5])\n",
    "print('Every second element:           ', example_array[1::2])\n",
    "print('Every second element, reversed: ', example_array[-1::-2])"
   ]
  },
  {
   "cell_type": "markdown",
   "metadata": {},
   "source": [
    " > **Warning:** Again we have a mutability-based issue here. Indexing only creates a view into an array; not a copy! See the below for an example of the dangers here. For more information see the **Important: Copying and references** section of notebook 1."
   ]
  },
  {
   "cell_type": "code",
   "execution_count": null,
   "metadata": {},
   "outputs": [],
   "source": [
    "# Here is an example array\n",
    "example_array = np.arange(8)\n",
    "\n",
    "# Here are 3 elements from that array\n",
    "threeElements = example_array[2:5]\n",
    "print(threeElements)\n",
    "\n",
    "# We now change an element in the original array\n",
    "example_array[4] = -9\n",
    "\n",
    "# And our `threeElements` array has also changed!\n",
    "print(threeElements)\n",
    "\n",
    "# To overcome this, use the np.array function to make\n",
    "# a copy rather than a reference\n",
    "threeElements = np.array(example_array[2:5])"
   ]
  },
  {
   "cell_type": "markdown",
   "metadata": {},
   "source": [
    "### Indexing multi-dimensional arrays"
   ]
  },
  {
   "cell_type": "markdown",
   "metadata": {},
   "source": [
    "Multidimensional array indexing in Python can be performed much in the same way as for a one-dimensional array. The only difference is now we have expressions for indices in each dimension. The syntax for this is to seperate indices by commas. For example;"
   ]
  },
  {
   "cell_type": "code",
   "execution_count": null,
   "metadata": {},
   "outputs": [],
   "source": [
    "example_array = np.arange(16).reshape((4, 4))\n",
    "print('example_array:')\n",
    "print(example_array)\n",
    "print('-----------------------------------------')\n",
    "print('First row:')\n",
    "print(example_array[  0, :])\n",
    "print('-----------------------------------------')\n",
    "print('Last row:')\n",
    "print(example_array[ -1, :])\n",
    "print('-----------------------------------------')\n",
    "print('Second and third columns: ')\n",
    "print(example_array[2:3, 1])\n",
    "print('-----------------------------------------')\n",
    "print('2 by 2 sub-block:')\n",
    "print(example_array[0:2, 0:2])"
   ]
  },
  {
   "cell_type": "markdown",
   "metadata": {},
   "source": [
    " > **Warning:** Again watch out for mutability problems and remember we are using zero indexing!\n",
    " \n",
    " > **Note:** The syntax to access a the `(i,j)`th element in a `list` is \n",
    " > - `listname[i][j]` \n",
    " >\n",
    " > Whereas for an `array` the syntax is: \n",
    "   - `arrayname[i,j]`. \n",
    " >\n",
    " > This can be confusing at first but remember, in general for scientific computing it is better to use the `array`. You will probably find you use the `list` syntax a lot less frequently than the `array` syntax."
   ]
  },
  {
   "cell_type": "markdown",
   "metadata": {},
   "source": [
    "You can also use ellipses, i.e. `...`, to return all elements from all remaining dimensions. E.g."
   ]
  },
  {
   "cell_type": "code",
   "execution_count": null,
   "metadata": {},
   "outputs": [],
   "source": [
    "example_array = np.arange(12).reshape((2, 2, 3))\n",
    "print(example_array)\n",
    "print('------------------------------')\n",
    "\n",
    "# This gives all elements which have index zero in \n",
    "# the first dimension (equivalent to example_array[0,:,:]\n",
    "# in this case)\n",
    "print(example_array[0, ...])\n",
    "print('------------------------------')\n",
    "\n",
    "# This gives all elements which have index one in \n",
    "# the last dimension (equivalent to example_array[:,:,1]\n",
    "# in this case)\n",
    "print(example_array[..., 1])\n",
    "print('------------------------------')\n",
    "\n",
    "# This gives all elements which have index one in \n",
    "# the first dimension and index two in the last \n",
    "# dimension (equivalent to example_array[1,:,2]\n",
    "# in this case)\n",
    "print(example_array[1, ..., 2])\n",
    "print('------------------------------')"
   ]
  },
  {
   "cell_type": "markdown",
   "metadata": {},
   "source": [
    "### Coordinate array indexing"
   ]
  },
  {
   "cell_type": "markdown",
   "metadata": {},
   "source": [
    "`numpy` also allows you to use lists or other `numpy` arrays as indices! This is an extremely useful feature as it allows us to return all sorts of subsets of an array. For example;"
   ]
  },
  {
   "cell_type": "code",
   "execution_count": null,
   "metadata": {},
   "outputs": [],
   "source": [
    "# Example array\n",
    "example_array = np.arange(16).reshape((4, 4))\n",
    "print('example_array:')\n",
    "print(example_array)\n",
    "print('-----------------------------------------')\n",
    "\n",
    "# Make some row and column coordinates\n",
    "row = [1,2,0]\n",
    "col = [2,3,1]\n",
    "print('Here are some elements we selected:')\n",
    "print(example_array[row,col])\n",
    "print('-----------------------------------------')\n",
    "\n",
    "# Get diagonal elements (note we can use a list\n",
    "# or numpy array for the row/column indices!)\n",
    "row = np.array([0,1,2,3]) \n",
    "col = np.array([0,1,2,3])\n",
    "print('Here are the diagonal elements:')\n",
    "print(example_array[row,col])\n",
    "print('-----------------------------------------')\n",
    "\n",
    "# Get anti-diagonal elements \n",
    "row = np.array([0,1,2,3]) \n",
    "col = np.array([3,2,1,0])\n",
    "print('Here are the anti-diagonal elements:')\n",
    "print(example_array[row,col])\n",
    "print('-----------------------------------------')\n"
   ]
  },
  {
   "cell_type": "markdown",
   "metadata": {},
   "source": [
    " > **Warning:** It may be tempting to think that the syntax `1:4` is the same as using the list `[0,1,2,3]`. However, there are subtle differences. \n",
    " >\n",
    " > For example `array[1:4,1:4]` will give the 4 by 4 sub-block of an array whilst `array[[0,1,2,3],[0,1,2,3]]` will give you only the first 4 diagonal elements. Some good practical advice is to print out your arrays as you write code to check you are definitely indexing the elements you think you are indexing."
   ]
  },
  {
   "cell_type": "markdown",
   "metadata": {},
   "source": [
    "A related useful function is the `numpy.where` function. This gives us a list of indices for all elements in an array where a boolean condition is true. For example;"
   ]
  },
  {
   "cell_type": "code",
   "execution_count": null,
   "metadata": {},
   "outputs": [],
   "source": [
    "# Example array\n",
    "example_array = np.arange(16).reshape((4, 4))\n",
    "print('example_array:')\n",
    "print(example_array)\n",
    "print('-----------------------------------------')\n",
    "\n",
    "rows, cols = np.where(example_array>10)\n",
    "print('row indices of example elements with value > 10:')\n",
    "print(rows)\n",
    "print('column indices of example elements with value > 10:')\n",
    "print(cols)"
   ]
  },
  {
   "cell_type": "markdown",
   "metadata": {},
   "source": [
    "The `numpy.where` function can be combined with array indexing to give us all values in an `array` which satisfy a certain condition. For example, we could return all the elements of an array whose square is less than `20` like so:"
   ]
  },
  {
   "cell_type": "code",
   "execution_count": null,
   "metadata": {},
   "outputs": [],
   "source": [
    "# Example array\n",
    "example_array = np.arange(16).reshape((4, 4))\n",
    "print('example_array:')\n",
    "print(example_array)\n",
    "print('-----------------------------------------')\n",
    "\n",
    "print('elements whose square is less than 20:')\n",
    "print(example_array[np.where(example_array**2<20)])"
   ]
  },
  {
   "cell_type": "markdown",
   "metadata": {},
   "source": [
    "Often, however, it is easier and more direct to use boolean indexing."
   ]
  },
  {
   "cell_type": "markdown",
   "metadata": {},
   "source": [
    "### Boolean indexing"
   ]
  },
  {
   "cell_type": "markdown",
   "metadata": {},
   "source": [
    "We can index a `numpy` `array` directly with a boolean array of the same shape. For example:"
   ]
  },
  {
   "cell_type": "code",
   "execution_count": null,
   "metadata": {},
   "outputs": [],
   "source": [
    "example_array = np.arange(8)\n",
    "\n",
    "print('example_array:')\n",
    "print(example_array)\n",
    "print('example_array > 4:')\n",
    "print(example_array > 4)\n",
    "print('elements in example_array that are > 4:')\n",
    "print(example_array[example_array > 4])"
   ]
  },
  {
   "cell_type": "markdown",
   "metadata": {},
   "source": [
    " > **Note:** Unlike in the previous sections on indexing, Boolean indexing **does** return a copy of the original array as opposed to just another view/reference of the object. For example:"
   ]
  },
  {
   "cell_type": "code",
   "execution_count": null,
   "metadata": {},
   "outputs": [],
   "source": [
    "example_array = np.arange(8)\n",
    "\n",
    "print('example_array:')\n",
    "print(example_array)\n",
    "\n",
    "# Get the elements less than 4\n",
    "less_than_four = example_array[example_array < 4]\n",
    "print('elements in example_array that are < 4:')\n",
    "print(less_than_four)\n",
    "\n",
    "# Change an element in the original array\n",
    "example_array[1]=200\n",
    "# Our result did not change this time!\n",
    "print(less_than_four)\n"
   ]
  },
  {
   "cell_type": "markdown",
   "metadata": {},
   "source": [
    "You can also use the `all` and `any` functions to assess whether all elements satisfy a condition or any elements satisfy a condition respectively (much like the existential and universal quantifiers in first order logic)."
   ]
  },
  {
   "cell_type": "code",
   "execution_count": null,
   "metadata": {},
   "outputs": [],
   "source": [
    "# Make a 3 by 3 array of random normal variables\n",
    "x = np.random.randn(3,4)\n",
    "print(x)\n",
    "\n",
    "# Check if all values are greater than -1.5\n",
    "print('\\nAll > -1.5:')\n",
    "print(np.all(x>-1.5))\n",
    "\n",
    "# Check if any values are greater than 1.5\n",
    "print('\\nAny > 1.5:')\n",
    "print(np.any(x>1.5))\n",
    "\n",
    "# Check if all values in each row are greater than -1.5\n",
    "print('\\nAll in each row > -1.5:')\n",
    "print(np.all(x>-1.5,axis=1))\n",
    "\n",
    "# Check if any values in each column are greater than 1.5\n",
    "print('\\nAny in each column > 1.5:')\n",
    "print(np.any(x>1.5,axis=0))\n"
   ]
  },
  {
   "cell_type": "markdown",
   "metadata": {},
   "source": [
    "## Getting Help"
   ]
  },
  {
   "cell_type": "markdown",
   "metadata": {},
   "source": [
    "This notebook aims to give a basic understanding of some of the most commonly used `numpy` functions. However, there is much more to learn and you will likely always find yourself looking for documentation. For more information on `numpy` features, see the [documentation here](https://docs.scipy.org/doc/numpy/user/index.html) or use the help function like below."
   ]
  },
  {
   "cell_type": "code",
   "execution_count": null,
   "metadata": {},
   "outputs": [],
   "source": [
    "help(np.kron)"
   ]
  },
  {
   "cell_type": "markdown",
   "metadata": {},
   "source": [
    "# Exercises"
   ]
  },
  {
   "cell_type": "markdown",
   "metadata": {},
   "source": [
    "**Question 1:** In the file `triangle.txt` you will find a list of [triangular numbers](https://en.wikipedia.org/wiki/Triangular_number). Load this file in as a numpy array using the `np.loadtxt` function. You will notice that the array is a strange shape. Save the original shape of the array as a variable in your workspace and then reshape the array into a row vector."
   ]
  },
  {
   "cell_type": "code",
   "execution_count": null,
   "metadata": {},
   "outputs": [],
   "source": [
    "# Write your code here"
   ]
  },
  {
   "cell_type": "markdown",
   "metadata": {},
   "source": [
    "One of the values in the array is incorrect. See if you can work out which value it is and replace it in your array. You will need the formula for a triangle number;\n",
    "\n",
    "$T(n) = \\frac{n(n+1)}{2}$\n",
    "\n",
    "*Extra challenge: Save the triangular numbers back to `triangle.txt` in integer format (i.e. without any decimal points. You may need the [numpy documentation](https://docs.scipy.org/doc/numpy/reference/generated/numpy.savetxt.html) for this.)*"
   ]
  },
  {
   "cell_type": "code",
   "execution_count": null,
   "metadata": {},
   "outputs": [],
   "source": [
    "# Write your code here"
   ]
  },
  {
   "cell_type": "markdown",
   "metadata": {},
   "source": [
    "**Question 2:** Using array broadcasting, demean and rescale all the columns of the below numpy array (i.e. subtract the mean from each column and then divide each column by it's standard deviation). Print the new mean and standard deviation of each column to demonstrate your code worked. *Hint: look at the previous sections for help with this.*"
   ]
  },
  {
   "cell_type": "code",
   "execution_count": null,
   "metadata": {},
   "outputs": [],
   "source": [
    "# Matrix to demean\n",
    "X = np.random.randn(100,10)\n",
    "\n",
    "# Write your code here"
   ]
  },
  {
   "cell_type": "markdown",
   "metadata": {},
   "source": [
    "Now, by transposing, demean and rescale `X` *row-wise*."
   ]
  },
  {
   "cell_type": "code",
   "execution_count": null,
   "metadata": {},
   "outputs": [],
   "source": [
    "# Write your code here"
   ]
  },
  {
   "cell_type": "markdown",
   "metadata": {},
   "source": [
    "**Question 3:** Write a function, `divisors`, which given an integer $k$, returns a numpy array of all [divisors](https://en.wikipedia.org/wiki/Divisor) of $k$. *Hint: The `%` operator may be useful here*."
   ]
  },
  {
   "cell_type": "code",
   "execution_count": null,
   "metadata": {},
   "outputs": [],
   "source": [
    "def divisors(k):\n",
    "    \n",
    "    # Write your code here\n",
    "\n",
    "# Example \n",
    "print(divisors(100)) # Should give [  1   2   4   5  10  20  25  50 100]"
   ]
  },
  {
   "cell_type": "markdown",
   "metadata": {},
   "source": [
    "**Question 4:** Write a function which as input takes in a square matrix (in numpy array format) of arbitrary size and transforms it into a vector of each of the columns of the matrix stacked on top of one another. For example, given a matrix of the below form, your function should return a column vector like so:\n",
    "\n",
    "$$\\begin{bmatrix} a & b & c \\\\ d & e & f \\\\ g & h & i \\\\\\end{bmatrix} \\rightarrow \\begin{bmatrix} a \\\\ d \\\\ g \\\\ b \\\\ e \\\\ h \\\\ c \\\\ f \\\\ i \\end{bmatrix}$$."
   ]
  },
  {
   "cell_type": "code",
   "execution_count": null,
   "metadata": {},
   "outputs": [],
   "source": [
    "def mat2vec(matrix):\n",
    "  \n",
    "  # Write your function here\n",
    "\n",
    "# Use this example to test your code\n",
    "matrix = np.random.randn(3,3)\n",
    "print(matrix)\n",
    "print(mat2vec(matrix))"
   ]
  },
  {
   "cell_type": "markdown",
   "metadata": {},
   "source": [
    "Now, write a function which does the reverse. I.e. your fuction should take as input a vector of size $k^2$ by 1, for some arbitrary integer $k$, and return a $k$ by $k$ matrix such that the original vector is each of the columns of the matrix stacked on top of one another. \n",
    "\n",
    "For example, given a vector of the below form, your function should return a matrix like so:\n",
    "\n",
    "$$\\begin{bmatrix} a \\\\ d \\\\ g \\\\ b \\\\ e \\\\ h \\\\ c \\\\ f \\\\ i \\end{bmatrix} \\rightarrow \\begin{bmatrix} a & b & c \\\\ d & e & f \\\\ g & h & i \\\\\\end{bmatrix}$$."
   ]
  },
  {
   "cell_type": "code",
   "execution_count": null,
   "metadata": {},
   "outputs": [],
   "source": [
    "def vec2mat(matrix):\n",
    "  \n",
    "  # Write your function here\n",
    "\n",
    "# Use this example to test your code\n",
    "vec = np.array([[1,2,3,4]]).transpose()\n",
    "mat = vec2mat(vec)\n",
    "print(vec)\n",
    "print(mat)"
   ]
  },
  {
   "cell_type": "markdown",
   "metadata": {},
   "source": [
    "As a final test, check that running `vec2mat` followed by `mat2vec` on a numpy array of appropriate size gives the same numpy array you started with:"
   ]
  },
  {
   "cell_type": "code",
   "execution_count": null,
   "metadata": {},
   "outputs": [],
   "source": [
    "print(vec2mat(mat2vec(matrix))==matrix)\n",
    "print(mat2vec(vec2mat(vec))==vec)"
   ]
  },
  {
   "cell_type": "markdown",
   "metadata": {},
   "source": [
    "**Question 5 (hard):** Assume in this question that, for simplicity, that $X$, $A$, $B$ and $C$ are all square matrices of size $n$ by $n$. The [Lyapunov Equation](https://www.math.uwaterloo.ca/~hwolkowi/matrixcookbook.pdf) tells us the following: if we have a matrix equation of the form;\n",
    "\n",
    "$AX + XB = C$\n",
    "\n",
    "Then it can be rearranged to obtain $X$ in the following way:\n",
    "\n",
    "$\\text{vec}(X) = (I \\otimes A + B^T \\otimes I)^{-1}\\text{vec}(C)$\n",
    "\n",
    "Where;\n",
    " - $\\otimes$ is the [kronecker product](https://en.wikipedia.org/wiki/Kronecker_product).\n",
    " - $I$ is the $n$ by $n$ identity matrix.\n",
    " - `vec` represents the vec operator, which performs the same operation as the `mat2vec` function we wrote in question 4.\n",
    " \n",
    "Write a function, `lyapunov`, which, given $A$, $B$ and $C$ as numpy arrays returns $X$ as a numpy array. You will need the following functions;\n",
    " - [`np.linalg.inv`](https://docs.scipy.org/doc/numpy/reference/generated/numpy.linalg.inv.html?highlight=inv#numpy.linalg.inv): This inverts a matrix.\n",
    " - [`np.eye`](docs.scipy.org/doc/numpy/reference/generated/numpy.eye.html?highlight=eye#numpy.eye): This gives an identity matrix of a specified size, e.g. `np.eye(3)` gives the 3 by 3 identity matrix.\n",
    " - [`np.kron`](https://docs.scipy.org/doc/numpy/reference/generated/numpy.kron.html#numpy.kron): This gives the kronecker product of two matrices, i.e. `np.kron(A,B)`=$A \\otimes B$\n",
    " - The `mat2vec` and `vec2mat` functions you wrote in question 4."
   ]
  },
  {
   "cell_type": "code",
   "execution_count": null,
   "metadata": {},
   "outputs": [],
   "source": [
    "def lyapunov(A,B,C):\n",
    "    \n",
    "    # Write your function here\n",
    "\n",
    "# Example for you to test on; random A B and X\n",
    "A = np.random.randn(5,5)\n",
    "B = np.random.randn(5,5)\n",
    "X = np.random.randn(5,5)\n",
    "\n",
    "# Work out C\n",
    "C = A @ X + X @ B\n",
    "\n",
    "# Check if your output looks like the X we used!\n",
    "print('Our calculated X:')\n",
    "print(lyapunov(A,B,C))\n",
    "print('The true X:')\n",
    "print(X)"
   ]
  }
 ],
 "metadata": {
  "kernelspec": {
   "display_name": "Python 3",
   "language": "python",
   "name": "python3"
  },
  "language_info": {
   "codemirror_mode": {
    "name": "ipython",
    "version": 3
   },
   "file_extension": ".py",
   "mimetype": "text/x-python",
   "name": "python",
   "nbconvert_exporter": "python",
   "pygments_lexer": "ipython3",
   "version": "3.6.9"
  }
 },
 "nbformat": 4,
 "nbformat_minor": 2
}
