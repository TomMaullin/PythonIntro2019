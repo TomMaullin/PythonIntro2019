{
 "cells": [
  {
   "cell_type": "markdown",
   "metadata": {},
   "source": [
    "# Notebook 2: Functions, Modules and Packages"
   ]
  },
  {
   "cell_type": "markdown",
   "metadata": {},
   "source": [
    "This section introduces functions, modules and packages. If you are not familiar with any of these terms it is highly recommended that you read through this section and, as always, attempt the exercises.\n",
    "\n",
    "To get started please run the below (this code changes our working directory to the folder `PythonIntro2022/02_functions_modules_and_packages`). Don't worry if you don't understand how this works yet; changing paths will be covered in Notebook 3."
   ]
  },
  {
   "cell_type": "code",
   "execution_count": null,
   "metadata": {},
   "outputs": [],
   "source": [
    "import os\n",
    "os.chdir('02_functions_modules_and_packages')"
   ]
  },
  {
   "cell_type": "markdown",
   "metadata": {},
   "source": [
    "### Table of Contents\n",
    "\n",
    " - [Notebook 0: Introduction](./nb_00_introduction.ipynb)\n",
    " - [Notebook 1: Datatypes, loops and logic](./nb_01_datatypes_loops_and_logic.ipynb)\n",
    " - [**Notebook 2: Functions, modules and packages**](./nb_02_functions_modules_and_packages.ipynb)\n",
    "   - [Defining a function](#Defining-a-function)\n",
    "     - [Function Inputs and Ouputs](#Function-Inputs-and-Ouputs)\n",
    "     - [Variable number of input arguments](#Variable-number-of-input-arguments)\n",
    "   - [Modules](#Modules)\n",
    "     - [Aliases](#Aliases)\n",
    "     - [How to make modules importable](#How-to-make-modules-importable)\n",
    "   - [Packages](#Packages)\n",
    "     - [Installing packages](#Installing-packages)\n",
    "   - [Brief Recap](#Brief-Recap)\n",
    "   - [Exercises](#Exercises) (Recommended)\n",
    "   \n",
    "   \n",
    " - [Notebook 3: Managing files](./nb_03_managing_files.ipynb)\n",
    " - [Notebook 4: Numpy](./nb_04_numpy.ipynb)\n",
    " - [Notebook 5: Pandas](./nb_05_pandas.ipynb)\n",
    " - [Notebook 6: Scipy](./nb_06_scipy.ipynb)\n",
    " - [Notebook 7: Plotting and images](./nb_07_plotting_and_images.ipynb)\n",
    " - [Notebook 8: Object Oriented Programming](./nb_08_object_oriented_programming.ipynb)"
   ]
  },
  {
   "cell_type": "markdown",
   "metadata": {},
   "source": [
    "## Defining a function"
   ]
  },
  {
   "cell_type": "markdown",
   "metadata": {},
   "source": [
    "In Python a function can be defined using the `def` keyword (which stands for \"definition\") and indentation. The function begins when the `def` keyword is used and ends when the code is no longer indented. For example;"
   ]
  },
  {
   "cell_type": "code",
   "execution_count": null,
   "metadata": {},
   "outputs": [],
   "source": [
    "# This is a function:\n",
    "def PrintDoubleAndAddOne(x):\n",
    "\n",
    "  # Double x and add 1\n",
    "  y = x*2 + 1\n",
    "  \n",
    "  print(y)\n",
    "\n",
    "# This is not part of the function, as\n",
    "# the code is no longer indented.\n",
    "k = 3\n",
    "PrintDoubleAndAddOne(k)"
   ]
  },
  {
   "cell_type": "markdown",
   "metadata": {},
   "source": [
    " > **Note:** Indentation is very important for functions. Whilst in other languages such as `Matlab` there are keywords signifying when a function ends (such as `end`); in Python the only way to tell which code is and is not inside a function is through indentation. In short, make sure your indentation is present and consistent! Also, don't forget the colon after the `def` expression!"
   ]
  },
  {
   "cell_type": "markdown",
   "metadata": {},
   "source": [
    "### Function Inputs and Ouputs"
   ]
  },
  {
   "cell_type": "markdown",
   "metadata": {},
   "source": [
    "The `return` keyword can be used in a function to specify values which the function outputs. For example, the below function has one input, `x`, and one output, `y`;"
   ]
  },
  {
   "cell_type": "code",
   "execution_count": null,
   "metadata": {},
   "outputs": [],
   "source": [
    "def DoubleAndAddOne(x):\n",
    "\n",
    "  # Double x and add 1\n",
    "  y = x*2 + 1\n",
    "    \n",
    "  # Return y as an output\n",
    "  return(y)\n",
    "\n",
    "# Test the function\n",
    "k = 3\n",
    "m = DoubleAndAddOne(k)\n",
    "print(m)"
   ]
  },
  {
   "cell_type": "markdown",
   "metadata": {},
   "source": [
    "Multiple inputs to a function can be specified like so:"
   ]
  },
  {
   "cell_type": "code",
   "execution_count": null,
   "metadata": {},
   "outputs": [],
   "source": [
    "def AddTogetherAndSquare(x,y):\n",
    "\n",
    "  # Double x and add 1\n",
    "  z = (x+y)**2\n",
    "  \n",
    "  return(z)\n",
    "\n",
    "k = 3\n",
    "j = 2\n",
    "m = AddTogetherAndSquare(k,j)\n",
    "print(m)"
   ]
  },
  {
   "cell_type": "markdown",
   "metadata": {},
   "source": [
    "And multiple arguments can also be returned:"
   ]
  },
  {
   "cell_type": "code",
   "execution_count": null,
   "metadata": {},
   "outputs": [],
   "source": [
    "def DoubleAndAddOneAndTwo(x):\n",
    "\n",
    "  # Double x and add 1\n",
    "  y = x*2 + 1\n",
    "    \n",
    "  # Double x and add 2\n",
    "  z = x*2 + 2\n",
    "\n",
    "  # Return y and z\n",
    "  return(y,z)\n",
    "\n",
    "k = 3\n",
    "m, n = DoubleAndAddOneAndTwo(k)\n",
    "print(m)\n",
    "print(n)"
   ]
  },
  {
   "cell_type": "markdown",
   "metadata": {},
   "source": [
    "If we don't want a certain output we can ignore it using the underscore character, `_`, like so:"
   ]
  },
  {
   "cell_type": "code",
   "execution_count": null,
   "metadata": {},
   "outputs": [],
   "source": [
    "# This only gives us the second output of our function\n",
    "_, n = DoubleAndAddOneAndTwo(k)"
   ]
  },
  {
   "cell_type": "markdown",
   "metadata": {},
   "source": [
    "Input arguments are named, meaning you can call the function on inputs by using their names, rather than by using the order they were defined in. For example;"
   ]
  },
  {
   "cell_type": "code",
   "execution_count": null,
   "metadata": {},
   "outputs": [],
   "source": [
    "def Exponentiation(base,exponent):\n",
    "  \n",
    "  # Work out x to the power of y\n",
    "  z = base**exponent\n",
    "\n",
    "  return(z)\n",
    "\n",
    "# These will give the same result\n",
    "print(Exponentiation(base=2,exponent=3))\n",
    "print(Exponentiation(exponent=3,base=2))"
   ]
  },
  {
   "cell_type": "markdown",
   "metadata": {},
   "source": [
    "You can also specify default values for inputs so that if an input is not entered, the function will assume it takes some predefined value. For example:"
   ]
  },
  {
   "cell_type": "code",
   "execution_count": null,
   "metadata": {},
   "outputs": [],
   "source": [
    "def printArguments(a=1, b=2, c=3):\n",
    "  \n",
    "  print('First argument: ', a)\n",
    "  print('Second argument:', b)\n",
    "  print('Third argument: ', c)\n",
    "    \n",
    "print(\"We called 'printArguments()'\")\n",
    "printArguments()\n",
    "print('-------------------')\n",
    "print(\"We called 'printArguments(4)'\")\n",
    "printArguments(4)\n",
    "print('-------------------')\n",
    "print(\"We called 'printArguments(4, c=8)'\")\n",
    "printArguments(4,c=8)\n",
    "print('-------------------')\n",
    "print(\"We called 'printArguments(4, 'j', 8)'\")\n",
    "printArguments(4,'j',8)"
   ]
  },
  {
   "cell_type": "markdown",
   "metadata": {},
   "source": [
    " > **Warning:** Never define a function with a mutable default value (e.g. a `list`, `dict`, etc) as doing so can lead to unexpected behaviour. For example consider the following function:"
   ]
  },
  {
   "cell_type": "code",
   "execution_count": null,
   "metadata": {},
   "outputs": [],
   "source": [
    "# This function should just add B to a list and then print the result\n",
    "# By default we add B to an empty list so it should just print [B]...right?\n",
    "def addBtolist(a=[]):\n",
    "    \n",
    "  a.append('B')\n",
    "  output = ', '.join([str(elem) for elem in a])\n",
    "  print(output)"
   ]
  },
  {
   "cell_type": "markdown",
   "metadata": {},
   "source": [
    "When we run the above function specifying the input `a` explicitly everything seems to run correctly:"
   ]
  },
  {
   "cell_type": "code",
   "execution_count": null,
   "metadata": {},
   "outputs": [],
   "source": [
    "addBtolist(['A', 2, 3, [1,2], 'k'])\n",
    "addBtolist([1, 'C', True])"
   ]
  },
  {
   "cell_type": "markdown",
   "metadata": {},
   "source": [
    "However, if we call the function without specifying the input we observe this behaviour:"
   ]
  },
  {
   "cell_type": "code",
   "execution_count": null,
   "metadata": {},
   "outputs": [],
   "source": [
    "addBtolist()\n",
    "addBtolist()\n",
    "addBtolist()\n",
    "addBtolist()"
   ]
  },
  {
   "cell_type": "markdown",
   "metadata": {},
   "source": [
    "This is clearly undesirable behaviour. The cause of this is that `a` is mutable. For more information on this behaviour see \"Important: Copying and references\" in Notebook 1."
   ]
  },
  {
   "cell_type": "markdown",
   "metadata": {},
   "source": [
    "Another useful feature for specifying inputs to a function in Python is the `*` operator. Using this, Python allows us to pass positional arguments from a list or tuple into a function. In other words you can store input arguments in a list or tuple, and then enter them straight into a function as inputs like so:"
   ]
  },
  {
   "cell_type": "code",
   "execution_count": null,
   "metadata": {},
   "outputs": [],
   "source": [
    "def AddTogetherAndSquare(x,y):\n",
    "\n",
    "  # Double x and add 1\n",
    "  z = (x+y)**2\n",
    "  \n",
    "  return(z)\n",
    "\n",
    "# Make a list of inputs to the function\n",
    "inputList = [1,2]\n",
    "\n",
    "# Run the function on the inputs using the * operator\n",
    "b = AddTogetherAndSquare(*inputList)\n",
    "print(b)"
   ]
  },
  {
   "cell_type": "markdown",
   "metadata": {},
   "source": [
    "A similar feature is available for dictionary objects; this time using the double asterisk (`**`) operator. The main difference here is that variables are named with `key`s in the `dictionary`, and these `key`s are treated as the names of the inputs in the function. For example:"
   ]
  },
  {
   "cell_type": "code",
   "execution_count": null,
   "metadata": {},
   "outputs": [],
   "source": [
    "def Exponentiation(base,exponent):\n",
    "  \n",
    "  # Work out x to the power of y\n",
    "  z = base**exponent\n",
    "  \n",
    "  return(z)\n",
    "\n",
    "# Make a list of inputs to the function\n",
    "inputDict = {'exponent':8, 'base':2}\n",
    "\n",
    "# Run the function on the inputs using the * operator\n",
    "b = Exponentiation(**inputDict)\n",
    "print(b)\n",
    "\n",
    "# Using the dictionary is equivalent to doing the below\n",
    "b = Exponentiation(base=2,exponent=8)\n",
    "print(b)"
   ]
  },
  {
   "cell_type": "markdown",
   "metadata": {},
   "source": [
    "You can think of the asterisk operator (`*`) as \"unpacking\" the contents of the\n",
    "list and the double asterisk operator (`**`) as \"unpacking\" the contents of the\n",
    "dictionary. The asterisk and double asterisk operators can also be used together like so:"
   ]
  },
  {
   "cell_type": "code",
   "execution_count": null,
   "metadata": {},
   "outputs": [],
   "source": [
    "def aPlusctoThebPlusd(a,b,c,d):\n",
    "  \n",
    "  # Work out (a+b) to the power of (c+d)\n",
    "  z = (a+c)**(b+d)\n",
    "  \n",
    "  return(z)\n",
    "\n",
    "# Make a list of inputs to the function\n",
    "inputDict = {'d':8, 'c':2}\n",
    "inputList = [1,4]\n",
    "\n",
    "# Run the function on the inputs using the * operator\n",
    "b = aPlusctoThebPlusd(*inputList,**inputDict)\n",
    "print(b)\n",
    "\n",
    "# Quick check\n",
    "print((1+2)**(4+8))"
   ]
  },
  {
   "cell_type": "markdown",
   "metadata": {},
   "source": [
    " > **Note:** The asterisk (`*`) and double asterisk (`**`) are also used for multiplication and exponentiation in Python. Be extra careful to make sure you are using the correct operator in the correct context!"
   ]
  },
  {
   "cell_type": "markdown",
   "metadata": {},
   "source": [
    "### Variable number of input arguments"
   ]
  },
  {
   "cell_type": "markdown",
   "metadata": {},
   "source": [
    "The asterisk (`*`) and double asterisk (`**`) operators discussed in the previous subsection can also be used to represent inputs for functions which might take a variable number of inputs. For example, the below function takes in an unknown number of arguments and sums them:"
   ]
  },
  {
   "cell_type": "code",
   "execution_count": null,
   "metadata": {},
   "outputs": [],
   "source": [
    "def sumAll(*args):\n",
    "   \n",
    "  # We will sum up each of the arguments\n",
    "  currentSum = 0\n",
    "  \n",
    "  # Loop through the arguments\n",
    "  for arg in args:\n",
    "    \n",
    "    # Add each argument to our running sum\n",
    "    currentSum = currentSum + arg\n",
    "    \n",
    "  # Return the sum\n",
    "  return(currentSum)\n",
    "      \n",
    "\n",
    "print(sumAll())\n",
    "print(sumAll(1))\n",
    "print(sumAll(1, 2, 3, 4, 10))"
   ]
  },
  {
   "cell_type": "markdown",
   "metadata": {},
   "source": [
    "Similarly, the below function takes as inputs all elements in a dictionary and prints them;"
   ]
  },
  {
   "cell_type": "code",
   "execution_count": null,
   "metadata": {},
   "outputs": [],
   "source": [
    "def printArguments(**kwargs):\n",
    "  \n",
    "  # Print how the function was called\n",
    "  print('printArguments({})'.format(kwargs))\n",
    "  \n",
    "  # Print each argument\n",
    "  for k, v in kwargs.items():\n",
    "    print('  Argument {} = {}'.format(k, v))\n",
    "\n",
    "printArguments()\n",
    "printArguments(a=1, b=2)\n",
    "printArguments(a='abc', foo=123)\n"
   ]
  },
  {
   "cell_type": "markdown",
   "metadata": {},
   "source": [
    "Again, both can be used simultaneously, like so:"
   ]
  },
  {
   "cell_type": "code",
   "execution_count": null,
   "metadata": {},
   "outputs": [],
   "source": [
    "def printArguments(*args, **kwargs):\n",
    "  \n",
    "  # Print how the function was called\n",
    "  print('printArguments({}, {})'.format(args,kwargs))\n",
    "  \n",
    "  for i, arg in enumerate(args):\n",
    "    print('  Argument {:1d}: {}'.format(i, arg))\n",
    "  \n",
    "  # Print each argument\n",
    "  for k, v in kwargs.items():\n",
    "    print('  Argument {} = {}'.format(k, v))\n",
    "\n",
    "printArguments()\n",
    "printArguments(9, a=1, b=2)\n",
    "printArguments(10, True, a='abc', foo=123)"
   ]
  },
  {
   "cell_type": "markdown",
   "metadata": {},
   "source": [
    "## Modules"
   ]
  },
  {
   "cell_type": "markdown",
   "metadata": {},
   "source": [
    "A module in Python is any file ending in `.py`. An example is given in `PythonIntro2019/02_functions_modules_and_packages/example_module.py`. Have a look at this code and ensure you understand it!\n",
    "\n",
    "Inside `example_module.py` you will find one variable (or \"attribute\"), `attribute1`, and one function, `sign`. To use these here we must \"import\" `example_module`. The phrase \"import\" simply means make the contents of a module available to us locally. For example;"
   ]
  },
  {
   "cell_type": "code",
   "execution_count": null,
   "metadata": {},
   "outputs": [],
   "source": [
    "import example_module"
   ]
  },
  {
   "cell_type": "markdown",
   "metadata": {},
   "source": [
    "We can now access the functions and attributes in `example_module` like so:"
   ]
  },
  {
   "cell_type": "code",
   "execution_count": null,
   "metadata": {},
   "outputs": [],
   "source": [
    "print(example_module.attribute1)\n",
    "\n",
    "b = 7\n",
    "print(example_module.sign(b))"
   ]
  },
  {
   "cell_type": "markdown",
   "metadata": {},
   "source": [
    "If we only want to import some of the `function`s/`attribute`s from `example_module` we can do this using the `from` keyword. For example, if we only wanted to import the `sign` function from `example_module` we could do the below:"
   ]
  },
  {
   "cell_type": "code",
   "execution_count": null,
   "metadata": {},
   "outputs": [],
   "source": [
    "from example_module import sign\n",
    "\n",
    "print(sign(-3))\n",
    "\n",
    "from example_module import attribute1\n",
    "\n",
    "print(attribute1)"
   ]
  },
  {
   "cell_type": "markdown",
   "metadata": {},
   "source": [
    "This also gives us the nice behaviour that we only have to write `attribute1` or `sign` instead of `example_module.attribute1` or `example_module.sign` when we wish to access these items. Another useful shorthand is that multiple items can be imported in one line from a module by using a comma like so:"
   ]
  },
  {
   "cell_type": "code",
   "execution_count": null,
   "metadata": {},
   "outputs": [],
   "source": [
    "from example_module import sign, attribute1\n",
    "\n",
    "print(attribute1)\n",
    "print(sign(0))"
   ]
  },
  {
   "cell_type": "markdown",
   "metadata": {},
   "source": [
    "We can even import everything in one go using an asterisk (`*`). **However**, this is not recommended as it makes it difficult for other programmers to tell which module functions came from. For example, in the below it is now difficult to tell which function and attributes came from which module without looking at the original `.py` files:"
   ]
  },
  {
   "cell_type": "code",
   "execution_count": null,
   "metadata": {},
   "outputs": [],
   "source": [
    "from example_module import *\n",
    "from example_module2 import *\n",
    "\n",
    "print(attribute1)\n",
    "print(sign(99))\n",
    "print(attribute2)\n",
    "print(minusSign(99))"
   ]
  },
  {
   "cell_type": "markdown",
   "metadata": {},
   "source": [
    "### Aliases"
   ]
  },
  {
   "cell_type": "markdown",
   "metadata": {},
   "source": [
    "Python also allows you to rename or \"alias\" modules when you import them. For example:"
   ]
  },
  {
   "cell_type": "code",
   "execution_count": null,
   "metadata": {},
   "outputs": [],
   "source": [
    "import example_module as em1\n",
    "import example_module2 as em2\n",
    "\n",
    "print(em1.sign(-2))\n",
    "print(em2.attribute2)"
   ]
  },
  {
   "cell_type": "markdown",
   "metadata": {},
   "source": [
    "### How to make modules importable"
   ]
  },
  {
   "cell_type": "markdown",
   "metadata": {},
   "source": [
    "A common (and rather frustrating) issue you will most likely experience when you first start with Python is an `ImportError` or `ModuleNotFoundError`. These are extremely common and are usually caused by Python simply not knowing where your code is.\n",
    "\n",
    "When you first import a module, Python will look for it in the following locations:\n",
    "\n",
    " - First, it will look at built-in modules (e.g. `os`, `sys`, etc.).\n",
    " - Then it will look in the current directory or, if a script has been executed, in the directory which contains the script.\n",
    " - Next it will look in directories listed in the `$PYTHONPATH` environment variable.\n",
    " - Finally, it will look in installed third-party libraries/packages (e.g. `numpy`, `scipy`,...etc. See below for more information on importing these).\n",
    "\n",
    "The simplest fix to make your module importable is to add it's location to the `$PYTHONPATH` environment variable or change directory so you are working in the same location as your module (we did this at the start of the notebook). \n",
    "\n",
    "However, if working on a large project with lots of moving parts it may be worthwhile organising your modules into packages to save time. Packages are described in depth in the next section."
   ]
  },
  {
   "cell_type": "markdown",
   "metadata": {},
   "source": [
    "## Packages"
   ]
  },
  {
   "cell_type": "markdown",
   "metadata": {},
   "source": [
    "We now arrive at packages. Described simply, a package is a collection of modules grouped together in a convenient way.\n",
    "\n",
    "To specify a package in Python all you need to do is make a directory which contains:\n",
    "\n",
    " - A special file called `__init__.py`\n",
    " - One or more module files (files ending in `.py`)\n",
    " - (Optional) Other package directories.\n",
    "\n",
    "The `__init__.py` file is mandatory but will often just be an empty file which is used just to tell Python to treat the directory as a package. You can use the `__init__.py` to perform more specialist installation operations but this is beyond the scope of this practical and will not be covered here.\n",
    "\n",
    "The predominant reason for grouping modules as a package is that we can now import multiple modules at once. For example in the `example_package` folder you will find `example_module3.py` and `example_module4.py`;"
   ]
  },
  {
   "cell_type": "code",
   "execution_count": null,
   "metadata": {},
   "outputs": [],
   "source": [
    "from example_package import example_module3, example_module4\n",
    "\n",
    "# We can now access both modules inside the example\n",
    "# package folder\n",
    "print(example_module3.examplefunc1(2))\n",
    "print(example_module4.examplefunc3(2))"
   ]
  },
  {
   "cell_type": "markdown",
   "metadata": {},
   "source": [
    "The other major benefit to using packages is that we can now easily share and distribute code! \n",
    "\n",
    "In fact, the world of Python is built on packages and it is very likely that more often than not you will find yourself working with packages instead of original in-built python functions!\n",
    "\n",
    "Some examples of commonly used packages include:\n",
    "\n",
    " - `time`: This is useful for timing code.\n",
    " - `os` and `shutil`: These are very useful for working with and changing directories and editing files.\n",
    " - `subprocess`: This is very useful for communicating with the terminal.\n",
    " - `matplotlib`: This is useful for plotting and graphing data.\n",
    " - `numpy`: This is an extremely important package for working with numerical data.\n",
    " - `scipy`: This is useful for more advanced mathematical operations.\n",
    " - `pandas`: This package provides many high-performance, easy-to-use data structures and data analysis tools.\n",
    " - `tensorflow` and `pytorch`: These are extremely popular for machine learning.\n",
    " - And many, many, (many,  many) more...\n",
    " \n",
    "We will meet some of these packages in the following tutorials. For more information and a complete list of publically available packages visit [the Python Package Index](https://pypi.org/)."
   ]
  },
  {
   "cell_type": "markdown",
   "metadata": {},
   "source": [
    "### Installing packages"
   ]
  },
  {
   "cell_type": "markdown",
   "metadata": {},
   "source": [
    "Many packages you will find you already have in your Python install. For example the `os` package is in-built;"
   ]
  },
  {
   "cell_type": "code",
   "execution_count": null,
   "metadata": {},
   "outputs": [],
   "source": [
    "import os"
   ]
  },
  {
   "cell_type": "markdown",
   "metadata": {},
   "source": [
    "However, some packages you will find you have to install yourself from the bash terminal. Typically, this is done with **pip** (which stands, confusingly, for Pip Installs Packages). For example, `numpy` can be installed like so:"
   ]
  },
  {
   "cell_type": "code",
   "execution_count": null,
   "metadata": {},
   "outputs": [],
   "source": [
    "!pip install numpy"
   ]
  },
  {
   "cell_type": "markdown",
   "metadata": {},
   "source": [
    " > **Note:** The above is not a python command and cannot be run in standard Python code. It must be run in the bash terminal without the `!` character at the front. We can only run a `pip` install here, in this fashion, due to the amazing features built into Jupyter Notebooks."
   ]
  },
  {
   "cell_type": "markdown",
   "metadata": {},
   "source": [
    "We can now import `numpy` in Python like so: "
   ]
  },
  {
   "cell_type": "code",
   "execution_count": null,
   "metadata": {},
   "outputs": [],
   "source": [
    "import numpy as np"
   ]
  },
  {
   "cell_type": "markdown",
   "metadata": {},
   "source": [
    "This process is the same for all modules in the Python Package Index."
   ]
  },
  {
   "cell_type": "markdown",
   "metadata": {},
   "source": [
    "## Brief Recap"
   ]
  },
  {
   "cell_type": "markdown",
   "metadata": {},
   "source": [
    "The terms `function`, `module` and `package` are often confused by new users of Python and this can result in a lot of frustration and fear of the `import` keyword. To make sure these 3 concepts are completely clear we will briefly recap them here:\n",
    "\n",
    " - `function`: A function is an indented block of code which starts with the `def` keyword and ends when the indentation stops or a value has been returned using the `return` keyword.\n",
    " \n",
    " \n",
    " - `module`: A module is a file ending in `.py`. We can import variables and functions from a module (i.e. make the variables and functions available in our local workspace) using the `import` keyword.\n",
    " \n",
    " \n",
    " - `package`: A package is a directory containing one or more modules and a file named `__init__.py`. We can also import packages (and the modules, variables and functions they contain) using the `import` keyword. A package may also contain another package directory. \n",
    " \n",
    "It is extremely common to import and work with packages made by other people and importing packages is nothing to be afraid of."
   ]
  },
  {
   "cell_type": "markdown",
   "metadata": {},
   "source": [
    "# Exercises"
   ]
  },
  {
   "cell_type": "markdown",
   "metadata": {},
   "source": [
    "**Question 1:** From the package `time`, try importing the function `time`. See if you can work out what this function does (you may have to look online)."
   ]
  },
  {
   "cell_type": "code",
   "execution_count": null,
   "metadata": {},
   "outputs": [],
   "source": [
    "# Try importing time; the python help function might be useful here"
   ]
  },
  {
   "cell_type": "markdown",
   "metadata": {},
   "source": [
    "**Question 2:** The $n$th Fibonnaci number, $F(n)$, is defined by the following recurrence relation;\n",
    "\n",
    "$F(0)=0, F(1)=1$ and $F(n)=F(n-1)+F(n-2)$ for $n>1$\n",
    "\n",
    "Write a function `Fibonnaci` which takes in a list of integers `[x1,x2,...,xk]` of arbitrary length and returns their corresponding fibonnaci numbers, i.e. `[F(x1),F(x2),...,F(xk)]`."
   ]
  },
  {
   "cell_type": "code",
   "execution_count": null,
   "metadata": {},
   "outputs": [],
   "source": [
    "# Here is some example input\n",
    "exampleInput = [3,1,2,7]\n",
    "\n",
    "# And it's expected output\n",
    "expectedOutput = [2,1,1,13]\n",
    "\n",
    "# Write your function here\n",
    "def Fibonnaci(inputList):\n",
    "    \n",
    "    # ...\n",
    "    \n",
    "\n",
    "\n",
    "# Check your answer against this expected output\n",
    "print(Fibonnaci(exampleInput))\n",
    "print(expectedOutput)\n"
   ]
  },
  {
   "cell_type": "markdown",
   "metadata": {},
   "source": [
    "**Question 3:** Write a function, `sumstrings` which takes in an arbitrary number of arguments, each a string which represents an integer between 1 and 10 (e.g. `one`, `two`, `three`,... `ten`), and returns the sum of the strings in numeric form. e.g. `sumstrings('ten', 'five', 'eight')` should return the integer 23. \n",
    "\n",
    "*Extra challenge: Make it so that your function inputs are not case sensitive. I.e. an input of 'ten' should be treated the same as 'tEn', 'TEn', 'TEN', etc.*"
   ]
  },
  {
   "cell_type": "code",
   "execution_count": null,
   "metadata": {},
   "outputs": [],
   "source": [
    "def sumstrings(*args):\n",
    "    \n",
    "    # Write your function here\n",
    "\n",
    "print(sumstrings('one', 'one', 'nine',)) # This should give 11\n",
    "print(sumstrings('three', 'seVen',)) # This should give 10\n"
   ]
  },
  {
   "cell_type": "markdown",
   "metadata": {},
   "source": [
    "**Question 4 (hard):** The [\"Look and Say\"](https://en.wikipedia.org/wiki/Look-and-say_sequence) sequence is a sequence of integers defined in the following way.\n",
    "\n",
    " - The first member of the \"Look and Say\" sequence is 1, i.e. $l(1) = 1$.\n",
    " - To generate a member of the sequence from the previous member, read the digits of the previous member, counting the number of digits in groups of the same digit. For example:\n",
    "   - 1 is read off as \"one 1\" or 11 ($l(2) = 11$).\n",
    "   - 11 is read off as \"two 1s\" or 21 ($l(3) = 21$).\n",
    "   - 21 is read off as \"one 2, then one 1\" or 1211 ($l(4) = 1211$).\n",
    "   - 1211 is read off as \"one 1, one 2, then two 1s\" or 111221 ($l(5) = 111221$).\n",
    "   - 111221 is read off as \"three 1s, two 2s, then one 1\" or 312211 ($l(6) = 312211$).\n",
    "\n",
    "Write a function which, given the kth integer from the look and say sequence, $l(k)$, computes the (k+1)th integer in the sequence, $l(k+1)$. *Hint: The `str` constructor may be helpful for this task!*"
   ]
  },
  {
   "cell_type": "code",
   "execution_count": null,
   "metadata": {},
   "outputs": [],
   "source": [
    "# This function must take in a look and say number, l(k),\n",
    "# and return the next number in the sequence, l(k+1).\n",
    "def next_las(las_k):\n",
    "    \n",
    "    # Write your function here\n",
    "\n",
    "    \n",
    "# Test - to check your answer try it on the examples listed above\n",
    "print(next_las(1))\n",
    "print(next_las(11))\n",
    "print(next_las(21))\n",
    "print(next_las(1211))\n",
    "print(next_las(111221))"
   ]
  },
  {
   "cell_type": "markdown",
   "metadata": {},
   "source": [
    "Using your function from the above, now write a function `las_k` which given an integer, $k$, returns the kth look and say number, $l(k)$."
   ]
  },
  {
   "cell_type": "code",
   "execution_count": null,
   "metadata": {},
   "outputs": [],
   "source": [
    "# This function must take in an integer k and return the\n",
    "# kth look and say number, l(k).\n",
    "def get_las_k(k):\n",
    "    \n",
    "    # Write your function here\n",
    "    \n",
    "\n",
    "# Test your function here:\n",
    "print(get_las_k(1)) # This should give 1\n",
    "print(get_las_k(2)) # This should give 11\n",
    "print(get_las_k(5)) # This should give 111221"
   ]
  },
  {
   "cell_type": "markdown",
   "metadata": {},
   "source": [
    "Finally, using your function from the previous part, `get_las_k`, write a function which takes in a list of integers of arbitrary length, `[k1, k2,...kn]`, and returns the corresponding \"look and say\" number for each integer in the list, i.e. `[l(k1), l(k2),...l(kn)]`. *Note: Do not worry about trying to make your code fast/efficient - the purpose of this exercise is just to return the numbers*."
   ]
  },
  {
   "cell_type": "code",
   "execution_count": null,
   "metadata": {},
   "outputs": [],
   "source": [
    "# This function must take in a list of integers and \n",
    "# return the corresponding list of look and say numbers\n",
    "def get_las_list(inputlist):\n",
    "    \n",
    "    # Write your function here\n",
    "    \n",
    "# Test - try your function on the below\n",
    "print(get_las_list([10, 1, 4])) # This should give [13211311123113112211, 1, 1211]"
   ]
  },
  {
   "cell_type": "markdown",
   "metadata": {},
   "source": [
    "Give 3 reasons why you think it may be better to lay out your code in functions in this way. "
   ]
  }
 ],
 "metadata": {
  "kernelspec": {
   "display_name": "Python 3 (ipykernel)",
   "language": "python",
   "name": "python3"
  },
  "language_info": {
   "codemirror_mode": {
    "name": "ipython",
    "version": 3
   },
   "file_extension": ".py",
   "mimetype": "text/x-python",
   "name": "python",
   "nbconvert_exporter": "python",
   "pygments_lexer": "ipython3",
   "version": "3.7.2"
  }
 },
 "nbformat": 4,
 "nbformat_minor": 2
}
