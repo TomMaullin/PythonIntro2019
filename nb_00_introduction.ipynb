{
 "cells": [
  {
   "cell_type": "markdown",
   "metadata": {},
   "source": [
    "# Introduction to Python\n",
    "\n",
    "Welcome to the Introduction to Python course 2019!\n",
    "\n",
    "In the `PythonIntro2019` folder you will find this and 5 other notebooks, each of which contains an introduction to and description of a different lanuguage feature of python, as well as exercises and practical advice for avoiding common mistakes often made by new users. Roughly speaking, as the section numbers increase the difficulty will increase so there should be something for users of all ability. \n",
    "\n",
    "Of particular importance is the subsection of Notebook 1 called **IMPORTANT: Copying and References**; we strongly recommend everyone looks at this section."
   ]
  },
  {
   "cell_type": "markdown",
   "metadata": {},
   "source": [
    "## Using the Notebooks"
   ]
  },
  {
   "cell_type": "markdown",
   "metadata": {},
   "source": [
    "Inside each section, you will find text blocks and code blocks. The text blocks will describe and introduce new topics and the code blocks will give interactive demonstrations of how various features work. Once you have clicked inside a code block, you can edit the code and run the block by simply pressing `shift` and `enter`. Try this in the below block!"
   ]
  },
  {
   "cell_type": "code",
   "execution_count": null,
   "metadata": {
    "scrolled": false
   },
   "outputs": [],
   "source": [
    "print('Hello World')"
   ]
  },
  {
   "cell_type": "markdown",
   "metadata": {},
   "source": [
    "## Exercises"
   ]
  },
  {
   "cell_type": "markdown",
   "metadata": {},
   "source": [
    "At the end of each section you will find some exercises. Some of the questions are labelled as **Hard**; these questions are aimed at those with previous programming experience, whilst the other questions should be accessible to everyone. We strongly recommend you attempt at least the non-**Hard** exercises to gain the full benefit of this notebook. \n",
    "\n",
    "Solutions will be made available during the second session at https://github.com/TomMaullin/PythonIntro2019_Solutions."
   ]
  },
  {
   "cell_type": "markdown",
   "metadata": {},
   "source": [
    "## Contact and Feedback"
   ]
  },
  {
   "cell_type": "markdown",
   "metadata": {},
   "source": [
    "If anyone has any further questions on or requests regarding the course please ask one of the tutors present or feel free to email myself at `TomMaullin@gmail.com`.\n",
    "\n",
    "If you would like to leave feedback on the course please let us know your thoughts on this [google form here](https://docs.google.com/forms/d/e/1FAIpQLSeNC-98zUFWAYvXAECozSvF4-zfffSjaDeqcuPAsVlN-Ld-5Q/viewform?usp=sf_link)! (The form is anonymous so please speak freely!)"
   ]
  },
  {
   "cell_type": "markdown",
   "metadata": {},
   "source": [
    "## Acknowledgements"
   ]
  },
  {
   "cell_type": "markdown",
   "metadata": {},
   "source": [
    "This notebook borrows heavily from the following resources:\n",
    "\n",
    " - [The W3 Schools Python documentation](https://www.w3schools.com/python/)\n",
    " - [Python 3.7.5rc1 documentation](https://docs.python.org/3/)\n",
    " - [The fMRIB 2018 PyTreat](https://git.fmrib.ox.ac.uk/fsl/pytreat-2018-practicals)\n",
    " - [The Python Data Science Handbook](https://jakevdp.github.io/PythonDataScienceHandbook/)"
   ]
  },
  {
   "cell_type": "code",
   "execution_count": null,
   "metadata": {},
   "outputs": [],
   "source": []
  }
 ],
 "metadata": {
  "kernelspec": {
   "display_name": "Python 3",
   "language": "python",
   "name": "python3"
  },
  "language_info": {
   "codemirror_mode": {
    "name": "ipython",
    "version": 3
   },
   "file_extension": ".py",
   "mimetype": "text/x-python",
   "name": "python",
   "nbconvert_exporter": "python",
   "pygments_lexer": "ipython3",
   "version": "3.6.8"
  }
 },
 "nbformat": 4,
 "nbformat_minor": 2
}
