{
 "cells": [
  {
   "cell_type": "markdown",
   "id": "54c6a1db",
   "metadata": {},
   "source": [
    "# Notebook 8: Object Oriented Programming"
   ]
  },
  {
   "cell_type": "markdown",
   "id": "a5cb995d",
   "metadata": {},
   "source": [
    "This notebook introduces the concept of Object Oriented Programming (OOP) and describes how to create objects from classes in Python. If you have previous experience with OOP some of this may be familiar to you already. However, much of the following is Python-specific and worth a read even if you've done OOP in other languages before!"
   ]
  },
  {
   "cell_type": "code",
   "execution_count": null,
   "id": "8b797b02",
   "metadata": {},
   "outputs": [],
   "source": [
    "import numpy as np\n",
    "import os\n",
    "os.chdir('08_object_oriented_programming')"
   ]
  },
  {
   "cell_type": "markdown",
   "id": "998db14c",
   "metadata": {},
   "source": [
    "### Table of Contents\n",
    "\n",
    " - [Notebook 0: Introduction](./nb_00_introduction.ipynb)\n",
    " - [Notebook 1: Datatypes, loops and logic](./nb_01_datatypes_loops_and_logic.ipynb)\n",
    " - [Notebook 2: Functions, modules and packages](./nb_02_functions_modules_and_packages.ipynb)\n",
    " - [Notebook 3: Managing files](./nb_03_managing_files.ipynb)\n",
    " - [Notebook 4: Numpy](./nb_04_numpy.ipynb)\n",
    " - [Notebook 5: Pandas](./nb_05_pandas.ipynb)\n",
    " - [Notebook 6: Scipy](./nb_06_scipy.ipynb)\n",
    " - [Notebook 7: Plotting and images](./nb_07_plotting_and_images.ipynb)\n",
    " - [**Notebook 8: Object Oriented Programming**](./nb_08_object_oriented_programming.ipynb)\n",
    "   - [What is Object Oriented Programming?](#What-is-Object-Oriented-Programming?)\n",
    "   - [Objects](#Objects)\n",
    "   - [Classes](#Classes)\n",
    "   - [Methods](#Methods)\n",
    "   - [Creating a Class](#Creating-a-Class)\n",
    "   - [The init and repr Method](#The-__init__-and-__repr__-Method)\n",
    "   - [The self Argument](#The-self-Argument)\n",
    "   - [Object Methods and Attributes](#Object-Methods-and-Attributes)\n",
    "     - [Attributes](#Attributes)\n",
    "     - [Methods](#Methods)\n",
    "     - [Private Methods and Attributes](#Private-Methods-and-Attributes)\n",
    "   - [Class Methods and Attributes](#Class-Methods-and-Attributes)\n",
    "   - [Special Methods and Operator Overloading](#Special-Methods-and-Operator-Overloading)\n",
    "   - [Properties, Getters and Setters](#Properties,-Getters-and-Setters)\n",
    "   - [Inheritance](#Inheritance)\n",
    "   - [Critiques](#Critiques)\n",
    "   - [Exercises](#Exercises)\n",
    "     \n",
    "   "
   ]
  },
  {
   "cell_type": "markdown",
   "id": "ec023b02",
   "metadata": {},
   "source": [
    "## What is Object Oriented Programming?"
   ]
  },
  {
   "cell_type": "markdown",
   "id": "a2d14ee9",
   "metadata": {},
   "source": [
    "Before we dive into some code, let's take a brief moment to talk about what Object Oriented Programming is. \n",
    "\n",
    "If you were to look on wikipedia, you would be told that Object Oriented Programming is:\n",
    "\n",
    "> *Object-oriented programming (OOP) is a programming paradigm based on the concept of \"objects\", which can contain data and code: data in the form of fields (often known as attributes or properties), and code, in the form of procedures (often known as methods).*\n",
    "\n",
    "(src: https://en.wikipedia.org/wiki/Object-oriented_programming)\n",
    "\n",
    "But this may only be useful to you if you are already comfortable with the phrases `objects`, `attributes`, `properties`, `methods` and so forth. So let's take a look at what each of these mean in the context of OOP in Python."
   ]
  },
  {
   "cell_type": "markdown",
   "id": "93bf8039",
   "metadata": {},
   "source": [
    "## Objects"
   ]
  },
  {
   "cell_type": "markdown",
   "id": "c7d23973",
   "metadata": {},
   "source": [
    "One of the central concepts in OOP is that of `objects` and `classes`. In Python, an object may be thought of as *anything which made up of data (variables) and methods (functions which, in some sense, \"belong\" to the object)*. We have already met many objects in these notebooks. For example;"
   ]
  },
  {
   "cell_type": "code",
   "execution_count": null,
   "id": "c3d7972c",
   "metadata": {},
   "outputs": [],
   "source": [
    "# Here's an object\n",
    "int_object = 1\n",
    "\n",
    "# Here's another\n",
    "str_object = \"string\"\n",
    "\n",
    "# Here's one more\n",
    "np_object = np.array([1,2,3,4])"
   ]
  },
  {
   "cell_type": "markdown",
   "id": "2b7542fc",
   "metadata": {},
   "source": [
    "Each of the variables above is an object which stores data. You can also call methods for each object. For example;"
   ]
  },
  {
   "cell_type": "code",
   "execution_count": null,
   "id": "d31f9d2b",
   "metadata": {},
   "outputs": [],
   "source": [
    "# Add 2 to 1\n",
    "int_object2 = int_object.__add__(2)\n",
    "print(int_object2)\n",
    "\n",
    "# Replace some letters\n",
    "str_object2 = str_object.replace('t', 'o this is a st')\n",
    "print(str_object2)\n",
    "\n",
    "# Numpy reshape\n",
    "np_object2 = np_object.reshape((2,2))\n",
    "print(np_object2)"
   ]
  },
  {
   "cell_type": "markdown",
   "id": "2defc610",
   "metadata": {},
   "source": [
    "You might have heard people say that Python is an \"*Object Oriented Language*\"! All this means is that in Python supports object oriented programming - i.e. you can create and use your own types of objects!"
   ]
  },
  {
   "cell_type": "markdown",
   "id": "bbe8981a",
   "metadata": {},
   "source": [
    "## Classes"
   ]
  },
  {
   "cell_type": "markdown",
   "id": "d87b0cce",
   "metadata": {},
   "source": [
    "But how can you create your own *type* of object? Well to do this, you define a **class**. You can think of a class a bit like blueprint.\n",
    "\n",
    "Suppose you were building a house. First, you would draw up a blueprint. In this blueprint you might record all sorts of details that you want your house to have, such as for example:\n",
    "\n",
    " - Address\n",
    " - Number of floors\n",
    " - Height\n",
    " - Width\n",
    " - Location\n",
    " - Number of doors\n",
    " - Number of windows\n",
    "\n",
    "These would be the `attributes` of the house you plan to build. Similarly, your house may be able to perform several functions. For example, you may wish to be able to;\n",
    "\n",
    " - Open the front door\n",
    " - Draw the curtains\n",
    " - Burn it to the ground (although... hopefully not)\n",
    " - Turn the sprinklers on\n",
    " \n",
    "These would be the `methods` of the house you plan to build. You can think of a class as a bit like the blueprint for the house in this example; outlining everything you need to make a house. The `Object`, on the other hand, would be the physical house itself. In the next section, we will describe how you can code a `class` representing a blueprint for a house in Python."
   ]
  },
  {
   "cell_type": "markdown",
   "id": "3a25d229",
   "metadata": {},
   "source": [
    "For now though, it is important to note the following:\n",
    "\n",
    " - A blueprint is just a blueprint. All it tells you is how to make a house. You haven't actually made one yet. A house is only created when you *build* it. Similarly, a class tells you how to make an object but an object is only physically created in memory once you *instantiate* a class (we will talk about this shortly).\n",
    " - You can make many houses using the same blueprint. Similarly, you can make many objects using the same class. \n",
    " - You might want to make changes to your house at some point. Perhaps you want to add an extra window. Ideally, your blueprint (class) will be flexible enough to allow small changes like this without changing the entire design. This is worth considering when designing classes."
   ]
  },
  {
   "cell_type": "markdown",
   "id": "4f842a70",
   "metadata": {},
   "source": [
    "By the end of this tutorial, you should feel comfortable creating and using classes to make your own objects!"
   ]
  },
  {
   "cell_type": "markdown",
   "id": "f047fa48",
   "metadata": {},
   "source": [
    "## Methods"
   ]
  },
  {
   "cell_type": "markdown",
   "id": "11263d7e",
   "metadata": {},
   "source": [
    "Before we turn to making a class, it's worth just quicky going over a few points on `Methods`.\n",
    "\n",
    "Much like normal functions, methods may output another variable (such as `object4` above) or output nothing. However, in addition a method may also affect the value of the object which it is being called on! For example;"
   ]
  },
  {
   "cell_type": "code",
   "execution_count": null,
   "id": "429741f1",
   "metadata": {},
   "outputs": [],
   "source": [
    "# Make an example list\n",
    "example_list = [1,3,2,4]\n",
    "\n",
    "# Call the method `sort`\n",
    "output = example_list.sort()\n",
    "\n",
    "# Print the list\n",
    "print(example_list)\n",
    "\n",
    "# Print the function output\n",
    "print(output)"
   ]
  },
  {
   "cell_type": "markdown",
   "id": "6156dac0",
   "metadata": {},
   "source": [
    "In the above example, calling sort has *changed the value of* `example_list`, instead of outputting the result!"
   ]
  },
  {
   "cell_type": "markdown",
   "id": "a4ad4bd9",
   "metadata": {},
   "source": [
    "When a method changes a objects value in this way, it is often referred to as *in-place*. \n",
    "\n",
    "> **Warning:** Often, new users to Python find they are getting unexpected behaviour because they have mistaken an *in-place* method for one that returns a value! Always make sure to double check that the method you are calling is returning what you expect! If left unchecked, such errors can often be very tricky to spot later on!"
   ]
  },
  {
   "cell_type": "markdown",
   "id": "ba518288",
   "metadata": {},
   "source": [
    "Here's a handy piece of code that lists an objects methods (I'm sure you won't need this later!). In general, it's a bit tricky to list an objects methods as some may be private (hidden from you) or the objects' class may have redefined functions unexpectedly, but roughly speaking this code does an okay job!"
   ]
  },
  {
   "cell_type": "code",
   "execution_count": null,
   "id": "a4aaa190",
   "metadata": {},
   "outputs": [],
   "source": [
    "# What is the object we're looking at\n",
    "object_looking_at = int\n",
    "\n",
    "# Get the methods\n",
    "object_methods = [method_name for method_name in dir(object_looking_at)\n",
    "                  if callable(getattr(object_looking_at, method_name))]\n",
    "\n",
    "# Print the methods\n",
    "for object_method in object_methods:\n",
    "    print(object_method)"
   ]
  },
  {
   "cell_type": "markdown",
   "id": "01d66dab",
   "metadata": {},
   "source": [
    "> Note: You won't find any in-place methods for immutable objects. Why do you think this is? If you are unsure take a look back at the [Copying and References Section of Notebook 1: Datatypes, loops and logic](./nb_01_datatypes_loops_and_logic.ipynb#IMPORTANT:-Copying-and-References) or ask one of us for some help!"
   ]
  },
  {
   "cell_type": "markdown",
   "id": "0c67205c",
   "metadata": {},
   "source": [
    "# Creating a Class"
   ]
  },
  {
   "cell_type": "markdown",
   "id": "fd64d58d",
   "metadata": {},
   "source": [
    "Okay! Now we've got all that out of the way let's make a class! In this Section we'll make a class describing the house from the previous section. To make a class, we use the `class` keyword like so:"
   ]
  },
  {
   "cell_type": "code",
   "execution_count": null,
   "id": "b8397208",
   "metadata": {},
   "outputs": [],
   "source": [
    "# A new class describing houses\n",
    "class House(object):\n",
    "    \n",
    "    pass"
   ]
  },
  {
   "cell_type": "markdown",
   "id": "8a0baa7a",
   "metadata": {},
   "source": [
    "Okay, so above we have defined a class which represents the abstract idea of a \"House\". All good so far... but how to we now use this? Well, first let's talk about instantiation/initialising."
   ]
  },
  {
   "cell_type": "markdown",
   "id": "5ca0eb1b",
   "metadata": {},
   "source": [
    "> **Note**: You may wonder why we write `object` in the above. Essentially, this is just telling us that the House must be an object (which is the most general thing it can be). The reason for this syntax become more obvious once we start talking about [**inheritance**](#Inheritance). It is worth noting that we can delete `(object)` from the above code and it will not change anything. However, for reasons we will discuss later, the above syntax is generally considered better practice."
   ]
  },
  {
   "cell_type": "markdown",
   "id": "348a677b",
   "metadata": {},
   "source": [
    "## The `__init__` and `__repr__` Method"
   ]
  },
  {
   "cell_type": "markdown",
   "id": "12a56f1c",
   "metadata": {},
   "source": [
    "To be able to use our class we need to be able to instantiate it. Here the phrase instantiate roughly means \"create a new object according to the class\". For example, in the below code we instantiate the class \"int\" to create a new integer."
   ]
  },
  {
   "cell_type": "code",
   "execution_count": null,
   "id": "d7fe26cd",
   "metadata": {},
   "outputs": [],
   "source": [
    "x = int(3)"
   ]
  },
  {
   "cell_type": "markdown",
   "id": "a837e708",
   "metadata": {},
   "source": [
    "> **Note**: The word instantiate here often goes by many different names; initialize, create an instance of, etc. For our purposes, you can think of these terms as essentially all meaning the same thing!"
   ]
  },
  {
   "cell_type": "markdown",
   "id": "94194697",
   "metadata": {},
   "source": [
    "To tell our class how to \"create a new object\" we need to define a special method called the `__init__` method. This is the method that will be called when we first create the object (e.g. like in the above example when we called `int`). For example, in our `House` class we can include an initialize method (`__init__`) as follows:"
   ]
  },
  {
   "cell_type": "code",
   "execution_count": null,
   "id": "28709652",
   "metadata": {},
   "outputs": [],
   "source": [
    "# A new class describing houses\n",
    "class House(object):\n",
    "    \n",
    "    # Method to create a new house\n",
    "    def __init__(self):\n",
    "        \n",
    "        print('Wahey! We just made a house!')"
   ]
  },
  {
   "cell_type": "markdown",
   "id": "24b538f5",
   "metadata": {},
   "source": [
    "Now that we have the above, let's try making a house!\n"
   ]
  },
  {
   "cell_type": "code",
   "execution_count": null,
   "id": "8342fe01",
   "metadata": {},
   "outputs": [],
   "source": [
    "myNewHouse = House()"
   ]
  },
  {
   "cell_type": "markdown",
   "id": "f4db0188",
   "metadata": {},
   "source": [
    "We now have an object named `myNewHouse`. Note how when we created a new `House` object, the `__init__` function was called automatically. We can have a look at our new objects `type` below to confirm that it is definitely a house. "
   ]
  },
  {
   "cell_type": "code",
   "execution_count": null,
   "id": "93d7a03d",
   "metadata": {},
   "outputs": [],
   "source": [
    "type(myNewHouse)"
   ]
  },
  {
   "cell_type": "markdown",
   "id": "6e3d01e8",
   "metadata": {},
   "source": [
    "This may seems a little strange. We wanted to create a `House` but we seem to have created a `__main__.House`. \n",
    "\n",
    "The reason for this is that `__main__` is the name which is used to signify the module we are running right now (i.e. here, this notebook) so the above is telling us that we created an object from a class definition named `House` which lives in this module. \n",
    "\n",
    "We can also print a representation of our House using `print` like so!"
   ]
  },
  {
   "cell_type": "code",
   "execution_count": null,
   "id": "a49d87a8",
   "metadata": {},
   "outputs": [],
   "source": [
    "print(myNewHouse)"
   ]
  },
  {
   "cell_type": "markdown",
   "id": "b5526909",
   "metadata": {},
   "source": [
    "This seems a little messy... but don't fret as there is another special method we can call which will change how our object is represented by the `print` function; the `__repr__` function. We can use this like so:"
   ]
  },
  {
   "cell_type": "code",
   "execution_count": null,
   "id": "8f723178",
   "metadata": {},
   "outputs": [],
   "source": [
    "# A new class describing houses\n",
    "class House(object):\n",
    "    \n",
    "    # Method to create a new house\n",
    "    def __init__(self):\n",
    "        \n",
    "        print('Wahey! We just made a house!')\n",
    "        \n",
    "    # Method naming the class\n",
    "    def __repr__(self):\n",
    "        \n",
    "        return('Houseee')"
   ]
  },
  {
   "cell_type": "markdown",
   "id": "d81c456d",
   "metadata": {},
   "source": [
    "Now let's try displaying the `House` again."
   ]
  },
  {
   "cell_type": "code",
   "execution_count": null,
   "id": "8e0f05c8",
   "metadata": {},
   "outputs": [],
   "source": [
    "# Make a new house\n",
    "myNewHouse = House()\n",
    "\n",
    "# Print the house\n",
    "print(myNewHouse)"
   ]
  },
  {
   "cell_type": "markdown",
   "id": "40db2774",
   "metadata": {},
   "source": [
    "## The `self` Argument"
   ]
  },
  {
   "cell_type": "markdown",
   "id": "07ec1f37",
   "metadata": {},
   "source": [
    "We now have made our first `House`! However, you may be wondering at this point what the argument `self` means which keeps appearing in the code above...\n",
    "\n",
    "The first argument inside a method, which by convention is named `self` (although you could name it anything you like in theory), is a special argument in Python; simply put, the `self` argument refers to *the object we have just instantiated*. For example, consider the below class:"
   ]
  },
  {
   "cell_type": "code",
   "execution_count": null,
   "id": "abb7c1c7",
   "metadata": {},
   "outputs": [],
   "source": [
    "# A new class describing houses\n",
    "class House(object):\n",
    "    \n",
    "    # Method to create a new house\n",
    "    def __init__(self):\n",
    "        \n",
    "        # Set a description for the house\n",
    "        self.descrip = 'This is a lovely new house; one room, four solid-ish walls, almost minimal mould, no hidden extras (such as working heating or running water) and £1000 per month. Top of the range according to any local estate agent, no doubt!'\n",
    "        \n",
    "        print('Wahey! We just made a house!')\n",
    "        \n",
    "    # Method naming the class\n",
    "    def __repr__(self):\n",
    "        \n",
    "        return('Houseee')"
   ]
  },
  {
   "cell_type": "markdown",
   "id": "75887a8c",
   "metadata": {},
   "source": [
    "In the above we gave the keyword `self` a description. Let's see what this does:"
   ]
  },
  {
   "cell_type": "code",
   "execution_count": null,
   "id": "20e879cf",
   "metadata": {},
   "outputs": [],
   "source": [
    "# Make another house\n",
    "myNewHouse = House()\n",
    "\n",
    "# Print description\n",
    "print(myNewHouse.descrip)"
   ]
  },
  {
   "cell_type": "markdown",
   "id": "3fc23487",
   "metadata": {},
   "source": [
    "As we can see, any properties which we assigned to `self` have been assigned to `myNewHouse`. Essentially, `self` is just a pseudonym for the object we are creating! "
   ]
  },
  {
   "cell_type": "markdown",
   "id": "87446c45",
   "metadata": {},
   "source": [
    "## Object Methods and Attributes"
   ]
  },
  {
   "cell_type": "markdown",
   "id": "2c91eded",
   "metadata": {},
   "source": [
    "So far we have seen that we can we can create a new `House` and change how it is displayed. However, our `House` class is pretty useless at the moment. How can we make it do things and store information?\n",
    "\n",
    "This is where our `Attributes` and `Methods` come in. In this section, we'll start creating our own functions and variables which our objects can use."
   ]
  },
  {
   "cell_type": "markdown",
   "id": "4a08c878",
   "metadata": {},
   "source": [
    "### Attributes"
   ]
  },
  {
   "cell_type": "markdown",
   "id": "5bdb8684",
   "metadata": {},
   "source": [
    "The word `Attribute` is just a fancy name for a piece of information associated with an object. We've actually already seen an example of this in the previous section when we added a description to our object! Here's another example;"
   ]
  },
  {
   "cell_type": "code",
   "execution_count": null,
   "id": "248f3037",
   "metadata": {},
   "outputs": [],
   "source": [
    "# A new class describing houses\n",
    "class House(object):\n",
    "    \n",
    "    # Method to create a new house\n",
    "    def __init__(self, nWin=None):\n",
    "        \n",
    "        # Save the number of windows, if we have them\n",
    "        if nWin:\n",
    "            self.numWindows = nWin\n",
    "        else:\n",
    "            self.numWindows = np.nan\n",
    "        \n",
    "        print('Wahey! We just made a house!')\n",
    "        \n",
    "    # Method naming the class\n",
    "    def __repr__(self):\n",
    "        \n",
    "        return('Houseee')"
   ]
  },
  {
   "cell_type": "markdown",
   "id": "b68e07d5",
   "metadata": {},
   "source": [
    "We have now created an attribute named `numWindows` which records the number of windows in the `House`."
   ]
  },
  {
   "cell_type": "code",
   "execution_count": null,
   "id": "95abeae0",
   "metadata": {},
   "outputs": [],
   "source": [
    "# Make a new house with 10 windows\n",
    "newHouse = House(10)\n",
    "\n",
    "# Print the number of windows\n",
    "print(newHouse.numWindows)"
   ]
  },
  {
   "cell_type": "markdown",
   "id": "1cca808d",
   "metadata": {},
   "source": [
    "> **Note:** In the above examples we always defined our attributes inside the `__init__` function. You may be wondering if we can define them elsewhere in the class definition. The short answer to this question is; yes! But in general it is considered best practice to do this on initialisation so that you can always tell what properties your objects should have from the moment they are created."
   ]
  },
  {
   "cell_type": "markdown",
   "id": "f1e23dce",
   "metadata": {},
   "source": [
    "It is pointing out here that Python is a bit more relaxed than other programming languages are when it comes to defining attributes. If you were working in Java or C++, for example, you could only define object attributes *inside* a class definition.\n",
    "\n",
    "Python, on the other hand, lets you add attributes to an object pretty much whenever you like. It even let's you do this *outside* the class definition! For example;"
   ]
  },
  {
   "cell_type": "code",
   "execution_count": null,
   "id": "f31cff01",
   "metadata": {},
   "outputs": [],
   "source": [
    "# Make a new house with 10 windows\n",
    "newHouse = House()\n",
    "\n",
    "# Add number of doors\n",
    "newHouse.numDoors = 2\n",
    "\n",
    "# Print the number of doors\n",
    "print(newHouse.numDoors)"
   ]
  },
  {
   "cell_type": "markdown",
   "id": "a76d8e12",
   "metadata": {},
   "source": [
    "> **Note**: Attributes cannot be added in this way for many of the built-in types, such as\n",
    "`list`s and `dict`s, nor with types that are defined in Python extensions (Python modules that are written in C)."
   ]
  },
  {
   "cell_type": "markdown",
   "id": "58ce37ec",
   "metadata": {},
   "source": [
    "### Methods"
   ]
  },
  {
   "cell_type": "markdown",
   "id": "7fa3fe46",
   "metadata": {},
   "source": [
    "Now we come to one of the central selling points of OOP; We can add functions to our objects! Let's say we want to add the address to our `House` object. We might make a function to do this like so:"
   ]
  },
  {
   "cell_type": "code",
   "execution_count": null,
   "id": "fc622b37",
   "metadata": {},
   "outputs": [],
   "source": [
    "# A new class describing houses\n",
    "class House(object):\n",
    "    \n",
    "    # Method to create a new house\n",
    "    def __init__(self, nWin=None):\n",
    "        \n",
    "        # Save the number of windows, if we have them\n",
    "        if nWin:\n",
    "            self.numWindows = nWin\n",
    "        else:\n",
    "            self.numWindows = np.nan\n",
    "            \n",
    "        # Initialize address parts\n",
    "        self.no = None\n",
    "        self.street = None\n",
    "        self.town = None\n",
    "        self.postcode = None\n",
    "        \n",
    "        # Room list\n",
    "        self.rooms = ['Kitchen', 'Bathroom', 'Bedroom']\n",
    "        \n",
    "        print('Wahey! We just made a house!')\n",
    "        \n",
    "    # Method naming the class\n",
    "    def __repr__(self):\n",
    "        \n",
    "        return('Houseee')\n",
    "    \n",
    "    # Add address\n",
    "    def addAddress(self,addressStr):\n",
    "        \n",
    "        # Split up the string\n",
    "        addressParts = addressStr.split(\",\")\n",
    "        \n",
    "        # Strip out trailing whitespace\n",
    "        for i, addressPart in enumerate(addressParts):\n",
    "            addressParts[i]=addressPart.strip(' ')\n",
    "            \n",
    "        \n",
    "        # Save address parts\n",
    "        self.no = int(addressParts[0])\n",
    "        self.street = addressParts[1]\n",
    "        self.town = addressParts[2]\n",
    "        self.postcode = addressParts[3]\n",
    "        \n",
    "    # Check if two houses are neighbours\n",
    "    def isNeighbour(self, house):\n",
    "        \n",
    "        # Check if we have an address for both houses\n",
    "        if self.no and house.no:\n",
    "            # Check if the house numbers are one apart\n",
    "            if np.abs(self.no-house.no)==1:\n",
    "                return(True)\n",
    "            else:\n",
    "                return(False)\n",
    "        else:\n",
    "            raise ValueError('Addresses missing.')\n",
    "        \n",
    "    # Retreive house number\n",
    "    def getNo(self):\n",
    "\n",
    "        if self.no:\n",
    "            # Return number\n",
    "            return(self.no)\n",
    "        else:\n",
    "            print('No number here boss.')\n",
    "            return(0)\n",
    "        \n",
    "    # Add a new room\n",
    "    def addRoom(self, roomStr):\n",
    "        \n",
    "        # Add room to list\n",
    "        self.rooms = self.rooms + [roomStr]\n",
    "        \n",
    "    # Get number of rooms\n",
    "    def numRoom(self):\n",
    "        \n",
    "        # Return number of rooms\n",
    "        return(len(self.rooms))\n",
    "    \n",
    "    "
   ]
  },
  {
   "cell_type": "markdown",
   "id": "6dc8b6fa",
   "metadata": {},
   "source": [
    "Let's see if it works!"
   ]
  },
  {
   "cell_type": "code",
   "execution_count": null,
   "id": "88f41bd1",
   "metadata": {},
   "outputs": [],
   "source": [
    "# Create a house\n",
    "myNewHouse = House()\n",
    "\n",
    "# Add an address\n",
    "myNewHouse.addAddress('123,random street, some town, RANL0C')"
   ]
  },
  {
   "cell_type": "markdown",
   "id": "4900def9",
   "metadata": {},
   "source": [
    "Let's check it stored the address correctly!"
   ]
  },
  {
   "cell_type": "code",
   "execution_count": null,
   "id": "bbd0ff9c",
   "metadata": {},
   "outputs": [],
   "source": [
    "# Print house number\n",
    "print(myNewHouse.no)\n",
    "\n",
    "# Print street\n",
    "print(myNewHouse.street)\n",
    "\n",
    "# Print town\n",
    "print(myNewHouse.town)\n",
    "\n",
    "# Print postcode\n",
    "print(myNewHouse.postcode)"
   ]
  },
  {
   "cell_type": "markdown",
   "id": "dfaa619b",
   "metadata": {},
   "source": [
    "Take a look at some of the other functions in the `House` class above and see if you can work out what they are doing! Try adding a method which saves some homeowner details! Try adding another method which checks whether two houses have the same homeowner! Test your code below!\n"
   ]
  },
  {
   "cell_type": "code",
   "execution_count": null,
   "id": "a364157a",
   "metadata": {},
   "outputs": [],
   "source": [
    "# Create a house\n",
    "myNewHouse = House()\n",
    "\n",
    "# --------------------------------------------------\n",
    "# Test code\n",
    "# --------------------------------------------------\n",
    "# e.g. myNewHouse.setHomeOwner()\n",
    "#\n",
    "#      anotherHouse = House()\n",
    "#      ...\n",
    "#      myNewHouse.sameHomerOwner(AnotherHouse)"
   ]
  },
  {
   "cell_type": "markdown",
   "id": "57e7c592",
   "metadata": {},
   "source": [
    "Alright, now we've seen how a simple example works, let's import a more complex house with all the attributes and methods we originally laid out in the [Classes](#Classes) section, and more."
   ]
  },
  {
   "cell_type": "code",
   "execution_count": null,
   "id": "412e388b",
   "metadata": {},
   "outputs": [],
   "source": [
    "from HouseFile import House"
   ]
  },
  {
   "cell_type": "markdown",
   "id": "312f76a3",
   "metadata": {},
   "source": [
    "> **Note**: You can import classes just like you can import functions! The syntax is exactly the same! For further details on importing see [Notebook 2: Functions, modules and packages](./nb_02_functions_modules_and_packages.ipynb)."
   ]
  },
  {
   "cell_type": "markdown",
   "id": "d491ebf1",
   "metadata": {},
   "source": [
    "Let's make a new house and check out what's going on with this one!"
   ]
  },
  {
   "cell_type": "code",
   "execution_count": null,
   "id": "9c26e558",
   "metadata": {},
   "outputs": [],
   "source": [
    "house = House()"
   ]
  },
  {
   "cell_type": "markdown",
   "id": "8105529d",
   "metadata": {},
   "source": [
    "**Pssst**...\n",
    "\n",
    "Hey... \n",
    "\n",
    "Run this:"
   ]
  },
  {
   "cell_type": "code",
   "execution_count": null,
   "id": "1a203cef",
   "metadata": {},
   "outputs": [],
   "source": [
    "house.burnToGround()"
   ]
  },
  {
   "cell_type": "markdown",
   "id": "197f12a5",
   "metadata": {},
   "source": [
    "Ah shit! What did you do that for?! You've gone and set your house on fire you absolute nutter! (Seriously, what the hell man!)\n",
    "\n",
    "Right, you're on the clock now! You've got to save the house! Try turning on the sprinklers!"
   ]
  },
  {
   "cell_type": "code",
   "execution_count": null,
   "id": "ab77a978",
   "metadata": {},
   "outputs": [],
   "source": [
    "house.turnOnSprinklers()"
   ]
  },
  {
   "cell_type": "markdown",
   "id": "d3969812",
   "metadata": {},
   "source": [
    "Try to solve this without looking at the `HouseFile.py`! Check if you've saved the house using the below function:"
   ]
  },
  {
   "cell_type": "code",
   "execution_count": null,
   "id": "ae4876ad",
   "metadata": {},
   "outputs": [],
   "source": [
    "house.status()"
   ]
  },
  {
   "cell_type": "code",
   "execution_count": null,
   "id": "a92b1d71",
   "metadata": {},
   "outputs": [],
   "source": [
    "# You can code here..."
   ]
  },
  {
   "cell_type": "code",
   "execution_count": null,
   "id": "dac41605",
   "metadata": {},
   "outputs": [],
   "source": [
    "# And here..."
   ]
  },
  {
   "cell_type": "markdown",
   "id": "925c4c9a",
   "metadata": {},
   "source": [
    "Once you've saved the House, check out the `HouseFile.py` file to see how all of this worked behind the scenes!"
   ]
  },
  {
   "cell_type": "markdown",
   "id": "cb4d6383",
   "metadata": {},
   "source": [
    "### Private Methods and Attributes"
   ]
  },
  {
   "cell_type": "markdown",
   "id": "e859ec30",
   "metadata": {},
   "source": [
    "In the previous sections, we saw that it is easy to read and change the attributes of an object (we could even do it from outside the object). A natural question you might ask, especially if you have done some OOP in other languages, is how can I make my methods and attributes private (i.e. so people can't access and change them easily)?"
   ]
  },
  {
   "cell_type": "markdown",
   "id": "a50fd56a",
   "metadata": {},
   "source": [
    "The short answer is, if you're using just the basic Python tools you can't. Unlike in other languages, Python tends not to restrict access to class attributes and methods. This is in contrast to langauges like C++ and Java, in which security is tantamount and access can be handled strictly by features of the language.\n"
   ]
  },
  {
   "cell_type": "markdown",
   "id": "2a231ac4",
   "metadata": {},
   "source": [
    "However, there are some things you can do to restrict users from accessing the data inside your class. you may have noticed by this point that the names of several of the methods and attributes we have been looking at contain a double underscore, e.g. `__`. \n",
    "\n",
    "In general, methods and attributes with names containing underscores, e.g. containing `_` or `__` are, by convention, treated differently to others:\n",
    "\n",
    " - Method/attribute names which begin with a single underscore (`_`), are typically considered protected - they are intended for internal use only, and should not be considered part of the public API of a class or module. This is not enforced by the language in any way though; it is just convention.\n",
    " - Method/attribute names which which begin with a double-underscore (`__`) are typically considered private. Python does provide a weak form of enforcement for this rule - any attribute or method with such a name is actually renamed (in a standardised manner, usually to `_classname__attributename`) at runtime, so that it cannot be accessed through its original name (it is still accessible via the new, slightly mangled name though).\n",
    "\n"
   ]
  },
  {
   "cell_type": "markdown",
   "id": "dd078abb",
   "metadata": {},
   "source": [
    "Here's an example:"
   ]
  },
  {
   "cell_type": "code",
   "execution_count": null,
   "id": "ab2ee1d9",
   "metadata": {},
   "outputs": [],
   "source": [
    "# A class for a simple example\n",
    "class simpleObject(object):\n",
    "    \n",
    "    # Initialize class\n",
    "    def __init__(self):\n",
    "        self._exampleAttribute = \"This should be accessible using it's name.\"\n",
    "        self.__exampleAttribute2 = \"This should not be accessible using it's name.\"\n",
    "    "
   ]
  },
  {
   "cell_type": "code",
   "execution_count": null,
   "id": "ac6ad2d6",
   "metadata": {},
   "outputs": [],
   "source": [
    "simpleObj = simpleObject()\n",
    "\n",
    "print(simpleObj._exampleAttribute)\n",
    "print(simpleObj.__exampleAttribute2)"
   ]
  },
  {
   "cell_type": "markdown",
   "id": "9a5cab15",
   "metadata": {},
   "source": [
    "We can still use the slightly mangled name as follows though:"
   ]
  },
  {
   "cell_type": "code",
   "execution_count": null,
   "id": "2aa990ab",
   "metadata": {},
   "outputs": [],
   "source": [
    "print(simpleObj._simpleObject__exampleAttribute2)"
   ]
  },
  {
   "cell_type": "markdown",
   "id": "3a5f41b5",
   "metadata": {},
   "source": [
    "You can see some more examples of this convention in use in the `HouseFile.py` file from earlier. There is a better way of doing this, which we explore shortly in the [Special Methods and Operation Overloading](#Special-Methods-and-Operation-Overloading) Section."
   ]
  },
  {
   "cell_type": "markdown",
   "id": "dc33f55f",
   "metadata": {},
   "source": [
    "## Class Methods and Attributes"
   ]
  },
  {
   "cell_type": "markdown",
   "id": "0e9d6f99",
   "metadata": {},
   "source": [
    "So far we have been talking about how to add attributes and methods to an *object*. However, you can also add methods and attributes to a *class* (e.g. methods and attributes which will appear for *any* object instantiated for that class)!\n",
    "\n",
    "Class attributes and methods can also be accessed without having to create an instance of the class - they are not associated with individual objects, but rather with the class itself. \n",
    "\n",
    "Class attributes and functions can be manipulated by using the class name; Here's an example!"
   ]
  },
  {
   "cell_type": "code",
   "execution_count": null,
   "id": "87443802",
   "metadata": {},
   "outputs": [],
   "source": [
    "# A class for a simple object\n",
    "class simpleObj(object):\n",
    "    \n",
    "    # Set a class attribute\n",
    "    classAttribute = 'Default Attribute'\n",
    "    \n",
    "    # Basic initialization function\n",
    "    def __init__(self):\n",
    "        pass\n",
    "    \n",
    "    # Let's change the class attribute value!\n",
    "    def changeClassAttribute(self):\n",
    "        simpleObj.classAttribute = simpleObj.classAttribute + ' changed'"
   ]
  },
  {
   "cell_type": "markdown",
   "id": "a0017c6c",
   "metadata": {},
   "source": [
    "Let's see what happens when we try to change the class attribute using the `changeClassAttribute` function."
   ]
  },
  {
   "cell_type": "code",
   "execution_count": null,
   "id": "611c564e",
   "metadata": {},
   "outputs": [],
   "source": [
    "# Print the class attribute\n",
    "print(simpleObj.classAttribute)\n",
    "\n",
    "# Change the attribute\n",
    "simpleObject = simpleObj()\n",
    "simpleObject.changeClassAttribute()\n",
    "\n",
    "# Print the class attribute - note how it changed!\n",
    "print(simpleObj.classAttribute)\n",
    "\n",
    "# Try it again but with a new object\n",
    "simpleObject2 = simpleObj()\n",
    "simpleObject2.changeClassAttribute()\n",
    "\n",
    "# Print the class attribute - note how the change is independent of which object instance we used!\n",
    "print(simpleObj.classAttribute)"
   ]
  },
  {
   "cell_type": "markdown",
   "id": "b6a05f37",
   "metadata": {},
   "source": [
    "We can do something similar with methods as well! \n",
    "\n",
    "A class method can be created using the `@classmethod` decorator\\*. Note that, in the same way as an object is passed in as the first argument into a method, `self`, a class will be passed into a `@classmethod` as the first argument, which by standard convention is called `cls`.\n",
    "\n",
    "> **Note**: \\*We haven't spoken about decorators in these notebooks (sorry about that!) but they provide another powerful way of adding new functionality to an existing object without modifying its structure. If you want to gain more experience in Python following these notebooks, we recommend you start by doing your own research into decorators!\n",
    "\n",
    "For example;"
   ]
  },
  {
   "cell_type": "code",
   "execution_count": null,
   "id": "7ba6a4e1",
   "metadata": {},
   "outputs": [],
   "source": [
    "# Here's a simple class with it's own method\n",
    "class simpleObj(object):\n",
    "\n",
    "    \n",
    "    # Simple initialize\n",
    "    def __init__(self):\n",
    "        pass\n",
    "\n",
    "    # Class method \n",
    "    @classmethod\n",
    "    def usage(cls):\n",
    "        print(\"You can call the function 'helloWorld' on a simple object to print 'Hello world!'\")\n",
    "        \n",
    "    # Object method\n",
    "    def helloWorld(self):\n",
    "        print('Hello world!')"
   ]
  },
  {
   "cell_type": "markdown",
   "id": "b5b4c7b8",
   "metadata": {},
   "source": [
    "Let's check it works!"
   ]
  },
  {
   "cell_type": "code",
   "execution_count": null,
   "id": "626ef9fa",
   "metadata": {},
   "outputs": [],
   "source": [
    "# Run the class method\n",
    "simpleObj.usage()\n",
    "\n",
    "# Run the object method\n",
    "simpleObject = simpleObj()\n",
    "simpleObject.helloWorld()"
   ]
  },
  {
   "cell_type": "markdown",
   "id": "ee859d56",
   "metadata": {},
   "source": [
    "## Special Methods and Operator Overloading"
   ]
  },
  {
   "cell_type": "markdown",
   "id": "be2039e3",
   "metadata": {},
   "source": [
    "Earlier on, we met two special functions `__init__` and `__repr__`. You might be wondering if there are any more methods which are \"special\" in Python. Well, there are! \n",
    "\n",
    "In fact, using special functions like this we can define a whole load of custom behaviour in Python works, such as for example, how the `+, -` and `&`, symbols work. Let's try and build an example!\n"
   ]
  },
  {
   "cell_type": "markdown",
   "id": "bd99f27a",
   "metadata": {},
   "source": [
    "For this example, let's make a class which represents a fruitbowl. Here's how we might go about building such a class:"
   ]
  },
  {
   "cell_type": "code",
   "execution_count": null,
   "id": "0fe57d85",
   "metadata": {},
   "outputs": [],
   "source": [
    "# Here's a class representing an apple\n",
    "class apple(object):\n",
    "    \n",
    "    # Initalize apple\n",
    "    def __init__(self):\n",
    "        pass\n",
    "    \n",
    "# Here's a class representing an orange\n",
    "class orange(object):\n",
    "    \n",
    "    # Initialize orange\n",
    "    def __init__(self):\n",
    "        pass\n",
    "    \n",
    "# Here's a class representing a saxophone\n",
    "class saxophone(object):\n",
    "    \n",
    "    # Initialize saxophone\n",
    "    def __init__(self):\n",
    "        pass\n",
    "    \n",
    "    \n",
    "# Fruitbowl class\n",
    "class fruitbowl(object):\n",
    "    \n",
    "    # Initialize fruit bowl\n",
    "    def __init__(self, fruit = None):\n",
    "        self.fruit = fruit\n",
    "        \n",
    "    # Add method\n",
    "    def __add__(self, fruit):\n",
    "        \n",
    "        # Let's make a new bowl\n",
    "        all_fruit = self.fruit\n",
    "        \n",
    "        # If it's fruit lets add it to a new bowl\n",
    "        if type(fruit) in [apple, orange]:\n",
    "            if not all_fruit:\n",
    "                all_fruit = [fruit]\n",
    "            else:\n",
    "                all_fruit.append(fruit)\n",
    "        else:\n",
    "            \n",
    "            raise ValueError(\"That's not a fruit! You can't put that in a fruitbowl!\")\n",
    "        \n",
    "        # Return fruitbowl\n",
    "        return(fruitbowl(all_fruit))\n",
    "            \n",
    "    # Print the contents of the fruitbowl\n",
    "    def contents(self):\n",
    "        \n",
    "        print('This fruitbowl contains: ')\n",
    "        \n",
    "        if self.fruit:\n",
    "            for fruit in self.fruit:\n",
    "\n",
    "                if type(fruit)==apple:\n",
    "                    print(' - An apple')\n",
    "                if type(fruit)==orange:\n",
    "                    print(' - An orange')\n",
    "        else:\n",
    "            print('   Nothing!')\n",
    "            "
   ]
  },
  {
   "cell_type": "markdown",
   "id": "0b730d00",
   "metadata": {},
   "source": [
    "The above class has a special `_add_` definition. Let's make some objects to see how this can be used!"
   ]
  },
  {
   "cell_type": "code",
   "execution_count": null,
   "id": "d4273f45",
   "metadata": {},
   "outputs": [],
   "source": [
    "# Let's make an apple, orange and an empty fruitbowl.\n",
    "a = apple()\n",
    "o = orange()\n",
    "f = fruitbowl()\n",
    "\n",
    "# New saxophone\n",
    "s = saxophone()\n",
    "\n",
    "# Let's list the contents of the fruitbowl\n",
    "f.contents()"
   ]
  },
  {
   "cell_type": "markdown",
   "id": "1dd1d2f5",
   "metadata": {},
   "source": [
    "So far, our fruitbowl contains nothing. Let's see how the `__add__` method has defined the `+` symbol for our fruitbowl."
   ]
  },
  {
   "cell_type": "code",
   "execution_count": null,
   "id": "31b8b10a",
   "metadata": {},
   "outputs": [],
   "source": [
    "# Now lets add some fruit\n",
    "f = f + o \n",
    "\n",
    "# Let's check the updated bowl\n",
    "f.contents()\n",
    "\n",
    "# Try some more examples\n",
    "f = f + a\n",
    "f = f + o + a\n",
    "\n",
    "# Let's check the updated bowl\n",
    "f.contents()"
   ]
  },
  {
   "cell_type": "markdown",
   "id": "abec6215",
   "metadata": {},
   "source": [
    "Addition works for frut! Awesome! Let's try adding a saxophone to our fruit bowl!"
   ]
  },
  {
   "cell_type": "code",
   "execution_count": null,
   "id": "357bee17",
   "metadata": {},
   "outputs": [],
   "source": [
    "# Make a new saxophone\n",
    "s = saxophone()\n",
    "\n",
    "# Try adding the saxophone to the fruitbowl\n",
    "f = f + s"
   ]
  },
  {
   "cell_type": "markdown",
   "id": "73317f0c",
   "metadata": {},
   "source": [
    "Great! We've built a fruitbowl which only accepts fruit! However, look what happens if we now were to try adding an apple and fruitbowl *the other way around*!"
   ]
  },
  {
   "cell_type": "code",
   "execution_count": null,
   "id": "ddc71648",
   "metadata": {},
   "outputs": [],
   "source": [
    "f = a + f"
   ]
  },
  {
   "cell_type": "markdown",
   "id": "1da567a2",
   "metadata": {},
   "source": [
    "Why do you think this has happened? Ask one of us if you're unsure!"
   ]
  },
  {
   "cell_type": "markdown",
   "id": "82793315",
   "metadata": {},
   "source": [
    "In general, this process of replacing symbols such as `+`, known as operators, in Python, is known as *operator overloading*. Here's a brief list of the operators you can overload in Python using methods:\n",
    "\n",
    "| Operator | Method name   |\n",
    "| -------- | ------------- |\n",
    "| `+`      | `__add__`     |\n",
    "| `-`      | `__sub__`     |\n",
    "| `*`      | `__mul__`     |\n",
    "| `**`     | `__pow__`     |\n",
    "| `/`      | `__truediv__` |\n",
    "| `//`     | `__floordiv__`|\n",
    "| `%`      | `__mod__`     |\n",
    "| `<<`     | `__lshift__`  |\n",
    "| `>>`     | `__rshift__`  |\n",
    "| `&`      | `__and__`     |\n",
    "| `\\|`     | `__or__`      |\n",
    "| `^`      | `__xor__`     |\n",
    "| `~`      | `__invert__`  |"
   ]
  },
  {
   "cell_type": "markdown",
   "id": "abb13a75",
   "metadata": {},
   "source": [
    "You can also overload other operators such as `==` by using the [`functools` package](https://docs.python.org/3/library/functools.html#partial-objects) and make your own slice notation like with array indexing by using `__getitem__` and `__setitem__`! We won't go into that here though!"
   ]
  },
  {
   "cell_type": "markdown",
   "id": "4731f9af",
   "metadata": {},
   "source": [
    "Try testing a few of these out in some of the classes we've defined already in this document! Can you think of some applications where you may with to redefine some of these symbols?"
   ]
  },
  {
   "cell_type": "markdown",
   "id": "6d162708",
   "metadata": {},
   "source": [
    "## Properties, Getters and Setters"
   ]
  },
  {
   "cell_type": "markdown",
   "id": "a7f23089",
   "metadata": {},
   "source": [
    "You may have spotted a while back, right at the start of this document, we mentioned the word `properties` and said we would define it shortly! Well, better late than never!\n",
    "\n",
    "In general OOP, people often tend to use the words `property` and `attribute` interchangeably. In this notebook, I have tried to stray away from doing this as, in Python at least, `property` has a very specific meaning which is based on the property decorator. \n",
    "\n",
    "Let's have a look at how the `property` decorator is used in practice and see if we can work out what it's doing."
   ]
  },
  {
   "cell_type": "code",
   "execution_count": null,
   "id": "17d306c3",
   "metadata": {},
   "outputs": [],
   "source": [
    "# Example class\n",
    "class exampleClass(object):\n",
    "    \n",
    "    # Basic initialize with one attribute\n",
    "    def __init__(self):\n",
    "        self.__exampleAttribute = 'ExampleAttribute'\n",
    "    \n",
    "    # Property returning attribute\n",
    "    @property\n",
    "    def exampleProperty(self):\n",
    "        return self.__exampleAttribute"
   ]
  },
  {
   "cell_type": "markdown",
   "id": "2d3c1dee",
   "metadata": {},
   "source": [
    "You may be wondering what makes the above any different to anything we have done so far... well let's have a look at how we get `exampleProperty` for an object now. "
   ]
  },
  {
   "cell_type": "code",
   "execution_count": null,
   "id": "2e7fc68a",
   "metadata": {},
   "outputs": [],
   "source": [
    "# Make example object\n",
    "exampleObject = exampleClass()\n",
    "\n",
    "# Get example property\n",
    "print(exampleObject.exampleProperty)"
   ]
  },
  {
   "cell_type": "markdown",
   "id": "e3a971e8",
   "metadata": {},
   "source": [
    "We just retrieved the property in the same way we retrieve attributes! You might be thinking \"So? What's so special about that?\". Well, we define the `exampleProperty` as a method, not an attribute! \n",
    "\n",
    "Let's see what happens if we try to write over `exampleObject.exampleProperty` the way we normally would with an attribute. "
   ]
  },
  {
   "cell_type": "code",
   "execution_count": null,
   "id": "3c30f690",
   "metadata": {},
   "outputs": [],
   "source": [
    "exampleObject.exampleProperty=2"
   ]
  },
  {
   "cell_type": "markdown",
   "id": "214f7cf7",
   "metadata": {},
   "source": [
    "An error! This is great!\n",
    "\n",
    "Why? Well, in the [Private Methods and Attributes](#Private-Methods-and-Attributes), we found that attributes can be written over and changed *from the outside*! \n",
    "\n",
    "This was terrible as anyone could make an object but then start writing over it's attributes whenever and however they liked! But here instead we can make a property, which cannot be written over! This gives us much finer control over what we let people access and change inside a class."
   ]
  },
  {
   "cell_type": "markdown",
   "id": "07e34ccc",
   "metadata": {},
   "source": [
    "You might hear a method which uses the `property` decorator referred to as a `getter` method. This terminology comes from languages like javascript, where functions are sometimes thought about as either assigning value to a variable (`setting`) or retreiving the value of a variable (`getting`).\n",
    "\n",
    "Python also has a setter decorator, which may be used alongside a property. For example;"
   ]
  },
  {
   "cell_type": "code",
   "execution_count": null,
   "id": "6582270f",
   "metadata": {},
   "outputs": [],
   "source": [
    "# Example class\n",
    "class exampleClass(object):\n",
    "    \n",
    "    # Basic initialize with one attribute\n",
    "    def __init__(self):\n",
    "        self.__exampleAttribute = 'ExampleAttribute'\n",
    "    \n",
    "    # Property returning attribute\n",
    "    @property\n",
    "    def exampleProperty(self):\n",
    "        return self.__exampleAttribute\n",
    "    \n",
    "    # Setter for attribute\n",
    "    @exampleProperty.setter\n",
    "    def exampleProperty(self, value):\n",
    "        if type(value) is not str:\n",
    "            raise ValueError('Only strings allowed!')\n",
    "        self.__exampleAttribute = value"
   ]
  },
  {
   "cell_type": "markdown",
   "id": "1efe240a",
   "metadata": {},
   "source": [
    "In the above code, we have defined a `setter` method for our `exampleProperty` property. Let's see what happens if we try to set the value of `exampleProperty` now."
   ]
  },
  {
   "cell_type": "code",
   "execution_count": null,
   "id": "92ad2f7d",
   "metadata": {},
   "outputs": [],
   "source": [
    "# Make example object\n",
    "exampleObject = exampleClass()\n",
    "\n",
    "# Get example property\n",
    "print(exampleObject.exampleProperty)\n",
    "\n",
    "# Set the exampleProperty \n",
    "exampleObject.exampleProperty = 'New String'\n",
    "\n",
    "# Get example property\n",
    "print(exampleObject.exampleProperty)"
   ]
  },
  {
   "cell_type": "markdown",
   "id": "1bb0bc6b",
   "metadata": {},
   "source": [
    "\"Wait!\" You might be thinking \"Wasn't the point that we couldn't set property values?\". Well, yes but the difference is, here we can let the user set the property *if we like* and *only if it* matches our requirements! For example, suppose they were to try and change `ExampleProperty` to an integer now:"
   ]
  },
  {
   "cell_type": "code",
   "execution_count": null,
   "id": "014718ef",
   "metadata": {},
   "outputs": [],
   "source": [
    "# Set the exampleProperty \n",
    "exampleObject.exampleProperty = 5"
   ]
  },
  {
   "cell_type": "markdown",
   "id": "cdeac189",
   "metadata": {},
   "source": [
    "Again, we now have a much finer control over what the user can change from outside the class! This is extremely useful for managing code!"
   ]
  },
  {
   "cell_type": "markdown",
   "id": "35a747dd",
   "metadata": {},
   "source": [
    "# Inheritance"
   ]
  },
  {
   "cell_type": "markdown",
   "id": "75e758c3",
   "metadata": {},
   "source": [
    "We now come to one of the central concepts in OOP; Inheritance. Inheritance in OOP provides a way of structuring your classes as a heirachy so that they may borrow methods and attributes from one another. Inheritance is particularly useful when the objects you want to create are special cases of some more abstract concept. \n",
    "\n",
    "For example, consider the below;"
   ]
  },
  {
   "cell_type": "code",
   "execution_count": null,
   "id": "182ead59",
   "metadata": {},
   "outputs": [],
   "source": [
    "# Abstract shape class\n",
    "class shape(object):\n",
    "    \n",
    "    # initialize a shape\n",
    "    def __init__(self, area=0, perimeter=0):\n",
    "        self.area = area\n",
    "        self.perimeter = perimeter\n",
    "        self.name = 'shape'\n",
    "        \n",
    "    # Describe shape properties\n",
    "    def describe(self):\n",
    "        \n",
    "        print('This shape is a ' +  self.name + \n",
    "              ' with area ' + str(self.area) + \n",
    "              ' and perimeter ' + str(self.perimeter) + '.')\n",
    "        \n",
    "\n",
    "# Rectangle class\n",
    "class rectangle(shape):\n",
    "    \n",
    "    # Initialize a rectangle\n",
    "    def __init__(self, width=0, height=0):\n",
    "        \n",
    "        # Initialize the super class (shape)\n",
    "        self.area = width*height\n",
    "        self.perimeter = 2*width + 2*height\n",
    "        self.name = 'rectangle'\n",
    "        self.height = height\n",
    "        self.width = width\n",
    "        \n",
    "\n",
    "# Triangle class\n",
    "class triangle(shape):\n",
    "    \n",
    "    # Initialize a rectangle\n",
    "    def __init__(self, a=0, b=0, c=0):\n",
    "        \n",
    "        # Initialize the super class (shape)\n",
    "        p = (a + b + c)/2\n",
    "        self.perimeter = 2*p\n",
    "        self.area = np.sqrt(p*(p-a)*(p-b)*(p-c))\n",
    "        self.name = 'triangle'\n",
    "    \n",
    "# square class\n",
    "class square(rectangle):\n",
    "    \n",
    "    # Initialize a rectangle\n",
    "    def __init__(self, height=0):\n",
    "        \n",
    "        # Initialize the super class (rectangle)\n",
    "        super().__init__(height,height)\n",
    "        self.name = 'square'   "
   ]
  },
  {
   "cell_type": "markdown",
   "id": "fb6208da",
   "metadata": {},
   "source": [
    "There's a lot to unpack here! So let's start with the basics. \n",
    "\n",
    "In the above we say that the `rectangle` and `triangle` classes \"inherit\" from the `shape` class, whilst the `square` class \"inherits\" from the `rectangle` class. You can tell which class inherits from which by looking at the class definitions (e.g. `class rectange(shape):`).\n",
    "\n",
    "What does this mean? Well, conceptually you can think of `rectangle` and `triangle` as special cases of a `shape`. Similarly, you can think of a `Square` as a special case of a `rectangle`.\n",
    "\n",
    "In terms of code however, what this means is that all the methods and attributes which you can use on a `shape` object, you can now also use on the `rectangle` and `triangle` objects."
   ]
  },
  {
   "cell_type": "code",
   "execution_count": null,
   "id": "c02af75f",
   "metadata": {},
   "outputs": [],
   "source": [
    "# Create shape\n",
    "exampleShape = shape()\n",
    "\n",
    "# Create rectangle\n",
    "exampleRectangle = rectangle(2,4)\n",
    "\n",
    "# Create triangle\n",
    "exampleTriangle = triangle(3,4,5)\n",
    "\n",
    "# Create square\n",
    "exampleSquare = square(3)"
   ]
  },
  {
   "cell_type": "markdown",
   "id": "81a4f4c2",
   "metadata": {},
   "source": [
    "For example, we can see that in the above code, we have only defined the method `describe` for the `shape` class. But the `rectangle` and `triangle` classes inherit from `shape` and `square` inherits from `rectange`. This means that the `shape` class is essentially \"handing-down\" all of it's methods and attributes to the other classes and therefore, all of the classes can run the `describe` method:"
   ]
  },
  {
   "cell_type": "code",
   "execution_count": null,
   "id": "3ab29d1d",
   "metadata": {},
   "outputs": [],
   "source": [
    "# Describe shape\n",
    "exampleShape.describe()\n",
    "\n",
    "# Describe rectangle\n",
    "exampleRectangle.describe()\n",
    "\n",
    "# Describe Triangle\n",
    "exampleTriangle.describe()\n",
    "\n",
    "# Describe square\n",
    "exampleSquare.describe()"
   ]
  },
  {
   "cell_type": "markdown",
   "id": "8471d97d",
   "metadata": {},
   "source": [
    "Similarly, we did not define `self.width` in the `square` class, but since the `square` class inherits from the `rectangle` class, it has it anyway! "
   ]
  },
  {
   "cell_type": "code",
   "execution_count": null,
   "id": "7c006120",
   "metadata": {},
   "outputs": [],
   "source": [
    "print(exampleSquare.width)"
   ]
  },
  {
   "cell_type": "markdown",
   "id": "59b33a1f",
   "metadata": {},
   "source": [
    "Hopefully it is now clear that inheritance is just a way for classes to borrow methods and attributes from one another. Often, when talking about inheritance it is useful to describe things in terms of *sub-classes* and *super-classes*. These are defined as follows;\n",
    "\n",
    " - *sub-class*: A class which inherits from another class.\n",
    " - *super-class*: A class which another class inherits from.\n",
    " \n",
    "For example, in the above `triangle` is a *sub-class* of `shape`, whilst `shape` is a *super-class* of `triangle`. Similarly, `rectangle` is both a *sub-class* of `shape` and a *super-class* of `square`.\n",
    "\n",
    "You may be wondering at this point what the line `super().__init__(height,height)` is doing in the `square` class. Well, when we call `super().methodName(arguments)` all we are doing is running `methodName(arguments)` from the super-class of the class we are in. \n",
    "\n",
    "`rectangle` is a super-class of `square` and, as a result, all this means in this instance is that `super().__init__(height,height)` runs the code in `rectangle.__init__` as though it were in the `square` class."
   ]
  },
  {
   "cell_type": "markdown",
   "id": "de60edf0",
   "metadata": {},
   "source": [
    "Inheritance can be incredibly useful as it allows you to share information between classes without repeating code. However, if you are not careful over-reliance on inheritance can lead you to very complicated and difficult to track code."
   ]
  },
  {
   "cell_type": "markdown",
   "id": "d8102b8b",
   "metadata": {},
   "source": [
    "# Critiques"
   ]
  },
  {
   "cell_type": "markdown",
   "id": "6b104b3f",
   "metadata": {},
   "source": [
    "In this section, I will take a brief detour to give a more subjective view than you would usually find in your average computing course. I opted to include this as I believe many beginner courses on OOP often do not do a good job of conveying the true utility of OOP. \n",
    "\n",
    "Indeed, if you talk to a computer scientist, there is a good chance they may tell you that OOP is an extremely important and central part of modern day coding. This is certainly how it was taught to me when I took my first course on OOP in Java back in 2014. And, especially when I first started working on imaging data, it felt like a common view among my computer-science oriented colleagues. In fact, many may even tell you today that OOP is the \"gold-standard\" practice for organizing code.\n",
    "\n",
    "**However**, if you have made it this far into the course, I do not wish to leave you with any **false impressions**."
   ]
  },
  {
   "cell_type": "markdown",
   "id": "d8466436",
   "metadata": {},
   "source": [
    "It seems to me that object oriented programming certainly does have **some utility**. For example, we are all grateful that someone has gone to extreme lengths to create the `np.array` class so that we don't have to. And I hope that some of the examples given in this document and the exercises may have convinced you that classes are certainly useful for some applications.\n",
    "\n",
    "However, OOP has come under fire in recent years for essentially **over-complicating** simple tasks. Personally, I believe in many cases there is a lot of truth to this. In my experience, when people first learn OOP there is often an extreme temptation to suddenly start wrapping everything up in classes and object definitions. I don't believe this practice is efficient, and I am not alone in this."
   ]
  },
  {
   "cell_type": "markdown",
   "id": "bd8c4fdd",
   "metadata": {},
   "source": [
    "For example, some studies have concluded that using OOP provides no significant difference in productivity from other approaches [(src)](http://www.csm.ornl.gov/~v8q/Homepage/Papers%20Old/spetep-%20printable.pdf) and many researchers have criticised OOP on conceptual grounds.\n",
    "\n",
    "For example, Joe Armstrong, the inventor of the Erlang programming language, raises the following argument against OOP:\n",
    "\n",
    "> The problem with object-oriented languages is they've got all this implicit environment that they carry around with them. You wanted a banana but what you got was a gorilla holding the banana and the entire jungle. [(src)](https://codersatwork.com/)\n",
    "\n",
    "One researcher, Alexander Stepanov, was even lead to conclude the following:\n",
    "\n",
    ">  I find OOP philosophically unsound. It claims that everything is an object. Even if it is true it is not very interesting — saying that everything is an object is saying nothing at all. [(src)](http://www.stlport.org/resources/StepanovUSA.html)"
   ]
  },
  {
   "cell_type": "markdown",
   "id": "4a5af72c",
   "metadata": {},
   "source": [
    "Personally, I think these views are a little extreme... there is certainly some utility to OOP, but I do think people often tend to overstate it's utility and overuse the concept. \n",
    "\n",
    "The main takeaway I am trying to convey here is that, if you are thinking of using OOP for your application, ask yourself first \"is it really necessary for my application, or will it just make life more difficult?\". If you're not sure of the answer, honestly I'd advise against it. Maintaining classes is a lot of work and, in practice, using OOP often results in having to keep track of lots of unnecessary additional pieces of code. \n",
    "\n",
    "Also, do not let someone talk you into using classes just \"for the sake of organization\". It may not help you in the long run! By all means use classes, but only if you are sure that they are **right for your application**."
   ]
  },
  {
   "cell_type": "markdown",
   "id": "4a155b16",
   "metadata": {},
   "source": [
    "Here are some key considerations to think about if you are considering using OOP for an application:\n",
    "\n",
    " - Will I need to use this class **repeatedly**? Or is it **single-use**? If it is the latter, maybe it's not worth it?\n",
    " \n",
    " - Will I need to go back and **update** this class **regularly**? If so, maybe it's **too specific**?\n",
    " \n",
    " - Can people who are new to my code **understand** what my class **represents** easily?\n",
    " \n",
    " - Is this class making my code **more complex**, or is it making it easier to use?\n",
    " \n",
    " - Is it really **necessary** to use a class for this? "
   ]
  },
  {
   "cell_type": "markdown",
   "id": "90e224fb",
   "metadata": {},
   "source": [
    "# Exercises"
   ]
  },
  {
   "cell_type": "markdown",
   "id": "b066c9de",
   "metadata": {},
   "source": [
    "Coming soon... \n",
    "\n",
    "Ignore this for now:\n",
    "\n",
    "---"
   ]
  },
  {
   "cell_type": "markdown",
   "id": "eb929ff8",
   "metadata": {},
   "source": [
    "**Question 1:** In this question we will return to the fruitbowl example of the [Special Methods and Operator Overloading](#Special-Methods and-Operator-Overloading). \n",
    "\n",
    "To start let's revisit the `__add__` function. At the moment when we add an apple to the fruitbowl (e.g. when we run `f =  f + a`), the apple is added to `all_fruit` inside the fruitbowl class. However, if we add the *same apple* to the fruitbowl again we get a second copy of the apple inside `all_fruit`. This doesn't make sense! You can't add the same apple to a fruitbowl twice (unless you remove it at some point)!\n",
    "\n",
    "By modifying `__add__` in the `fruitbowl` class, change this behaviour of this object so that `f = f + a` will add the apple `a` to the fruitbowl `f` if and *only if* there is not already a copy of `a` in the fruitbowl."
   ]
  },
  {
   "cell_type": "code",
   "execution_count": 1,
   "id": "748c8927",
   "metadata": {},
   "outputs": [],
   "source": [
    "# Write your code here!"
   ]
  },
  {
   "cell_type": "code",
   "execution_count": 10,
   "id": "7dafd20a",
   "metadata": {},
   "outputs": [],
   "source": [
    "# Here's a class representing an apple\n",
    "class apple(object):\n",
    "    \n",
    "    # Initalize apple\n",
    "    def __init__(self):\n",
    "        pass\n",
    "    \n",
    "# Here's a class representing an orange\n",
    "class orange(object):\n",
    "    \n",
    "    # Initialize orange\n",
    "    def __init__(self):\n",
    "        pass\n",
    "    \n",
    "# Here's a class representing a saxophone\n",
    "class saxophone(object):\n",
    "    \n",
    "    # Initialize saxophone\n",
    "    def __init__(self):\n",
    "        pass\n",
    "    \n",
    "    \n",
    "# Fruitbowl class\n",
    "class fruitbowl(object):\n",
    "    \n",
    "    # Initialize fruit bowl\n",
    "    def __init__(self, fruit = None):\n",
    "        self.fruit = fruit\n",
    "        \n",
    "    # Add method\n",
    "    def __add__(self, fruit):\n",
    "        \n",
    "        # Let's make a new bowl\n",
    "        all_fruit = self.fruit\n",
    "        \n",
    "        # Check if the fruit is already there\n",
    "        if all_fruit:\n",
    "            if fruit in all_fruit:\n",
    "                raise ValueError(\"That fruit is already in the fruitbowl!\")\n",
    "        \n",
    "        # If it's fruit lets add it to a new bowl\n",
    "        if type(fruit) in [apple, orange]:\n",
    "            if not all_fruit:\n",
    "                all_fruit = [fruit]\n",
    "            else:\n",
    "                all_fruit.append(fruit)\n",
    "        else:\n",
    "            \n",
    "            raise ValueError(\"That's not a fruit! You can't put that in a fruitbowl!\")\n",
    "        \n",
    "        # Return fruitbowl\n",
    "        return(fruitbowl(all_fruit))\n",
    "    \n",
    "    # Subtraction function\n",
    "    def __sub__(self,fruit):\n",
    "        \n",
    "        # Let's make a new bowl\n",
    "        all_fruit = self.fruit\n",
    "        \n",
    "        # Check if the fruit is already there\n",
    "        if all_fruit:\n",
    "            if fruit in all_fruit:\n",
    "                \n",
    "                # Remove the fruit\n",
    "                all_fruit = [f for f in all_fruit if f!= fruit]\n",
    "                \n",
    "            else:\n",
    "                \n",
    "                # Error\n",
    "                raise ValueError(\"That fruit is not in this fruitbowl!\")\n",
    "                \n",
    "        else:\n",
    "            raise ValueError(\"There is no fruit in the fruitbowl!\")\n",
    "                \n",
    "        return(fruitbowl(all_fruit))\n",
    "        \n",
    "            \n",
    "    # Print the contents of the fruitbowl\n",
    "    def contents(self):\n",
    "        \n",
    "        print('This fruitbowl contains: ')\n",
    "        \n",
    "        if self.fruit:\n",
    "            for fruit in self.fruit:\n",
    "\n",
    "                if type(fruit)==apple:\n",
    "                    print(' - An apple')\n",
    "                if type(fruit)==orange:\n",
    "                    print(' - An orange')\n",
    "        else:\n",
    "            print('   Nothing!')\n",
    "            "
   ]
  },
  {
   "cell_type": "code",
   "execution_count": 11,
   "id": "ba0f952d",
   "metadata": {},
   "outputs": [
    {
     "name": "stdout",
     "output_type": "stream",
     "text": [
      "This fruitbowl contains: \n",
      " - An apple\n"
     ]
    },
    {
     "ename": "ValueError",
     "evalue": "That fruit is already in the fruitbowl!",
     "output_type": "error",
     "traceback": [
      "\u001b[0;31m---------------------------------------------------------------------------\u001b[0m",
      "\u001b[0;31mValueError\u001b[0m                                Traceback (most recent call last)",
      "\u001b[0;32m/tmp/ipykernel_5480/4087941881.py\u001b[0m in \u001b[0;36m<module>\u001b[0;34m\u001b[0m\n\u001b[1;32m      8\u001b[0m \u001b[0;34m\u001b[0m\u001b[0m\n\u001b[1;32m      9\u001b[0m \u001b[0;31m# Add the same apple again.\u001b[0m\u001b[0;34m\u001b[0m\u001b[0;34m\u001b[0m\u001b[0;34m\u001b[0m\u001b[0m\n\u001b[0;32m---> 10\u001b[0;31m \u001b[0mf\u001b[0m \u001b[0;34m=\u001b[0m \u001b[0mf\u001b[0m \u001b[0;34m+\u001b[0m \u001b[0ma\u001b[0m\u001b[0;34m\u001b[0m\u001b[0;34m\u001b[0m\u001b[0m\n\u001b[0m",
      "\u001b[0;32m/tmp/ipykernel_5480/2675797037.py\u001b[0m in \u001b[0;36m__add__\u001b[0;34m(self, fruit)\u001b[0m\n\u001b[1;32m     37\u001b[0m         \u001b[0;32mif\u001b[0m \u001b[0mall_fruit\u001b[0m\u001b[0;34m:\u001b[0m\u001b[0;34m\u001b[0m\u001b[0;34m\u001b[0m\u001b[0m\n\u001b[1;32m     38\u001b[0m             \u001b[0;32mif\u001b[0m \u001b[0mfruit\u001b[0m \u001b[0;32min\u001b[0m \u001b[0mall_fruit\u001b[0m\u001b[0;34m:\u001b[0m\u001b[0;34m\u001b[0m\u001b[0;34m\u001b[0m\u001b[0m\n\u001b[0;32m---> 39\u001b[0;31m                 \u001b[0;32mraise\u001b[0m \u001b[0mValueError\u001b[0m\u001b[0;34m(\u001b[0m\u001b[0;34m\"That fruit is already in the fruitbowl!\"\u001b[0m\u001b[0;34m)\u001b[0m\u001b[0;34m\u001b[0m\u001b[0;34m\u001b[0m\u001b[0m\n\u001b[0m\u001b[1;32m     40\u001b[0m \u001b[0;34m\u001b[0m\u001b[0m\n\u001b[1;32m     41\u001b[0m         \u001b[0;31m# If it's fruit lets add it to a new bowl\u001b[0m\u001b[0;34m\u001b[0m\u001b[0;34m\u001b[0m\u001b[0;34m\u001b[0m\u001b[0m\n",
      "\u001b[0;31mValueError\u001b[0m: That fruit is already in the fruitbowl!"
     ]
    }
   ],
   "source": [
    "# Make an apple and a fruitbowl\n",
    "a = apple()\n",
    "f = fruitbowl()\n",
    "\n",
    "# Add an apple to the fruitbowl and check it's contents\n",
    "f = f + a\n",
    "f.contents()\n",
    "\n",
    "# Add the same apple again.\n",
    "f = f + a"
   ]
  },
  {
   "cell_type": "markdown",
   "id": "411ee888",
   "metadata": {},
   "source": [
    "Similarly, by editing the `__sub__` function, define subtraction for the fruitbowl. e.g. make it so we can remove the apple `a` from the fruitbowl `f` using `f=f-a`."
   ]
  },
  {
   "cell_type": "code",
   "execution_count": null,
   "id": "34e12b57",
   "metadata": {},
   "outputs": [],
   "source": [
    "# Write your code here!"
   ]
  },
  {
   "cell_type": "code",
   "execution_count": 19,
   "id": "8fd7cae2",
   "metadata": {},
   "outputs": [
    {
     "name": "stdout",
     "output_type": "stream",
     "text": [
      "This fruitbowl contains: \n",
      " - An apple\n",
      "This fruitbowl contains: \n",
      "   Nothing!\n"
     ]
    },
    {
     "ename": "ValueError",
     "evalue": "That fruit is not in this fruitbowl!",
     "output_type": "error",
     "traceback": [
      "\u001b[0;31m---------------------------------------------------------------------------\u001b[0m",
      "\u001b[0;31mValueError\u001b[0m                                Traceback (most recent call last)",
      "\u001b[0;32m/tmp/ipykernel_5480/1631659635.py\u001b[0m in \u001b[0;36m<module>\u001b[0;34m\u001b[0m\n\u001b[1;32m     14\u001b[0m \u001b[0ma2\u001b[0m \u001b[0;34m=\u001b[0m \u001b[0mapple\u001b[0m\u001b[0;34m(\u001b[0m\u001b[0;34m)\u001b[0m\u001b[0;34m\u001b[0m\u001b[0;34m\u001b[0m\u001b[0m\n\u001b[1;32m     15\u001b[0m \u001b[0mf\u001b[0m \u001b[0;34m=\u001b[0m \u001b[0mf\u001b[0m \u001b[0;34m+\u001b[0m \u001b[0ma\u001b[0m\u001b[0;34m\u001b[0m\u001b[0;34m\u001b[0m\u001b[0m\n\u001b[0;32m---> 16\u001b[0;31m \u001b[0mf\u001b[0m \u001b[0;34m=\u001b[0m \u001b[0mf\u001b[0m \u001b[0;34m-\u001b[0m \u001b[0ma2\u001b[0m\u001b[0;34m\u001b[0m\u001b[0;34m\u001b[0m\u001b[0m\n\u001b[0m",
      "\u001b[0;32m/tmp/ipykernel_5480/2675797037.py\u001b[0m in \u001b[0;36m__sub__\u001b[0;34m(self, fruit)\u001b[0m\n\u001b[1;32m     67\u001b[0m \u001b[0;34m\u001b[0m\u001b[0m\n\u001b[1;32m     68\u001b[0m                 \u001b[0;31m# Error\u001b[0m\u001b[0;34m\u001b[0m\u001b[0;34m\u001b[0m\u001b[0;34m\u001b[0m\u001b[0m\n\u001b[0;32m---> 69\u001b[0;31m                 \u001b[0;32mraise\u001b[0m \u001b[0mValueError\u001b[0m\u001b[0;34m(\u001b[0m\u001b[0;34m\"That fruit is not in this fruitbowl!\"\u001b[0m\u001b[0;34m)\u001b[0m\u001b[0;34m\u001b[0m\u001b[0;34m\u001b[0m\u001b[0m\n\u001b[0m\u001b[1;32m     70\u001b[0m \u001b[0;34m\u001b[0m\u001b[0m\n\u001b[1;32m     71\u001b[0m         \u001b[0;32melse\u001b[0m\u001b[0;34m:\u001b[0m\u001b[0;34m\u001b[0m\u001b[0;34m\u001b[0m\u001b[0m\n",
      "\u001b[0;31mValueError\u001b[0m: That fruit is not in this fruitbowl!"
     ]
    }
   ],
   "source": [
    "# Fruitbowl and apple\n",
    "f = fruitbowl()\n",
    "a = apple()\n",
    "\n",
    "# Add an apple and see contents\n",
    "f = f + a\n",
    "f.contents()\n",
    "\n",
    "# Subtract an apple and see contents\n",
    "f = f - a\n",
    "f.contents()\n",
    "\n",
    "# Second apple test\n",
    "a2 = apple()\n",
    "f = f + a \n",
    "f = f - a2\n"
   ]
  },
  {
   "cell_type": "markdown",
   "id": "bf58b2a9",
   "metadata": {},
   "source": [
    "Q1: Dialeth"
   ]
  },
  {
   "cell_type": "markdown",
   "id": "eb54a6f1",
   "metadata": {},
   "source": [
    "Q2: Contra ints - explain why eq not working trick q"
   ]
  },
  {
   "cell_type": "markdown",
   "id": "2c4331e5",
   "metadata": {},
   "source": [
    "Q3: Quartenions"
   ]
  },
  {
   "cell_type": "markdown",
   "id": "757dff4b",
   "metadata": {},
   "source": [
    "Q4: 3 pros, 3 cons for situation"
   ]
  }
 ],
 "metadata": {
  "kernelspec": {
   "display_name": "Python 3 (ipykernel)",
   "language": "python",
   "name": "python3"
  },
  "language_info": {
   "codemirror_mode": {
    "name": "ipython",
    "version": 3
   },
   "file_extension": ".py",
   "mimetype": "text/x-python",
   "name": "python",
   "nbconvert_exporter": "python",
   "pygments_lexer": "ipython3",
   "version": "3.7.5"
  }
 },
 "nbformat": 4,
 "nbformat_minor": 5
}
