{
 "cells": [
  {
   "cell_type": "markdown",
   "id": "54c6a1db",
   "metadata": {},
   "source": [
    "# Notebook 8: Object Oriented Programming"
   ]
  },
  {
   "cell_type": "markdown",
   "id": "a5cb995d",
   "metadata": {},
   "source": [
    "This notebook introduces the concept of Object Oriented Programming (OOP) and describes how to create objects from classes in Python. If you have previous experience with OOP some of this may be familiar to you already. However, much of the following is Python-specific and worth a read even if you've done OOP in other languages before!"
   ]
  },
  {
   "cell_type": "code",
   "execution_count": 1,
   "id": "8b797b02",
   "metadata": {},
   "outputs": [],
   "source": [
    "import numpy as np\n",
    "import os\n",
    "os.chdir('08_object_oriented_programming')"
   ]
  },
  {
   "cell_type": "markdown",
   "id": "998db14c",
   "metadata": {},
   "source": [
    "### Table of Contents\n",
    "\n",
    " - [Notebook 0: Introduction](./nb_00_introduction.ipynb)\n",
    " - [Notebook 1: Datatypes, loops and logic](./nb_01_datatypes_loops_and_logic.ipynb)\n",
    " - [Notebook 2: Functions, modules and packages](./nb_02_functions_modules_and_packages.ipynb)\n",
    " - [Notebook 3: Managing files](./nb_03_managing_files.ipynb)\n",
    " - [Notebook 4: Numpy](./nb_04_numpy.ipynb)\n",
    " - [Notebook 5: Pandas](./nb_05_pandas.ipynb)\n",
    " - [Notebook 6: Scipy](./nb_06_scipy.ipynb)\n",
    " - [Notebook 7: Plotting and images](./nb_07_plotting_and_images.ipynb)\n",
    " - [**Notebook 8: Object Oriented Programming**](./nb_08_object_oriented_programming.ipynb)"
   ]
  },
  {
   "cell_type": "markdown",
   "id": "ec023b02",
   "metadata": {},
   "source": [
    "## What is Object Oriented Programming?"
   ]
  },
  {
   "cell_type": "markdown",
   "id": "a2d14ee9",
   "metadata": {},
   "source": [
    "Before we dive into some code, let's take a brief moment to talk about what Object Oriented Programming is. \n",
    "\n",
    "If you were to look on wikipedia, you would be told that Object Oriented Programming is:\n",
    "\n",
    "> *Object-oriented programming (OOP) is a programming paradigm based on the concept of \"objects\", which can contain data and code: data in the form of fields (often known as attributes or properties), and code, in the form of procedures (often known as methods).*\n",
    "\n",
    "(src: https://en.wikipedia.org/wiki/Object-oriented_programming)\n",
    "\n",
    "But this may only be useful to you if you are already comfortable with the phrases `objects`, `attributes`, `properties`, `methods` and so forth. So let's take a look at what each of these mean in the context of OOP in Python."
   ]
  },
  {
   "cell_type": "markdown",
   "id": "93bf8039",
   "metadata": {},
   "source": [
    "## Objects"
   ]
  },
  {
   "cell_type": "markdown",
   "id": "c7d23973",
   "metadata": {},
   "source": [
    "One of the central concepts in OOP is that of `objects` and `classes`. In Python, an object may be thought of as *anything which made up of data (variables) and methods (functions which, in some sense, \"belong\" to the object)*. We have already met many objects in these notebooks. For example;"
   ]
  },
  {
   "cell_type": "code",
   "execution_count": null,
   "id": "c3d7972c",
   "metadata": {},
   "outputs": [],
   "source": [
    "# Here's an object\n",
    "int_object = 1\n",
    "\n",
    "# Here's another\n",
    "str_object = \"string\"\n",
    "\n",
    "# Here's one more\n",
    "np_object = np.array([1,2,3,4])"
   ]
  },
  {
   "cell_type": "markdown",
   "id": "2b7542fc",
   "metadata": {},
   "source": [
    "Each of the variables above is an object which stores data. You can also call methods for each object. For example;"
   ]
  },
  {
   "cell_type": "code",
   "execution_count": null,
   "id": "d31f9d2b",
   "metadata": {},
   "outputs": [],
   "source": [
    "# Add 2 to 1\n",
    "int_object2 = int_object.__add__(2)\n",
    "print(int_object2)\n",
    "\n",
    "# Replace some letters\n",
    "str_object2 = str_object.replace('t', 'o this is a st')\n",
    "print(str_object2)\n",
    "\n",
    "# Numpy reshape\n",
    "np_object2 = np_object.reshape((2,2))\n",
    "print(np_object2)"
   ]
  },
  {
   "cell_type": "markdown",
   "id": "2defc610",
   "metadata": {},
   "source": [
    "You might have heard people say that Python is an \"*Object Oriented Language*\"! All this means is that in Python supports object oriented programming - i.e. you can create and use your own types of objects!"
   ]
  },
  {
   "cell_type": "markdown",
   "id": "bbe8981a",
   "metadata": {},
   "source": [
    "## Classes"
   ]
  },
  {
   "cell_type": "markdown",
   "id": "d87b0cce",
   "metadata": {},
   "source": [
    "But how can you create your own *type* of object? Well to do this, you define a **class**. You can think of a class a bit like blueprint.\n",
    "\n",
    "Suppose you were building a house. First, you would draw up a blueprint. In this blueprint you might record all sorts of details that you want your house to have, such as for example:\n",
    "\n",
    " - Address\n",
    " - Number of floors\n",
    " - Height\n",
    " - Width\n",
    " - Location\n",
    " - Number of doors\n",
    " - Number of windows\n",
    "\n",
    "These would be the `attributes` of the house you plan to build. Similarly, your house may be able to perform several functions. For example, you may wish to be able to;\n",
    "\n",
    " - Open the front door\n",
    " - Draw the curtains\n",
    " - Burn it to the ground (although... hopefully not)\n",
    " - Turn the sprinklers on\n",
    " \n",
    "These would be the `methods` of the house you plan to build. You can think of a class as a bit like the blueprint for the house in this example; outlining everything you need to make a house. The `Object`, on the other hand, would be the physical house itself. In the next section, we will describe how you can code a `class` representing a blueprint for a house in Python."
   ]
  },
  {
   "cell_type": "markdown",
   "id": "3a25d229",
   "metadata": {},
   "source": [
    "For now though, it is important to note the following:\n",
    "\n",
    " - A blueprint is just a blueprint. All it tells you is how to make a house. You haven't actually made one yet. A house is only created when you *build* it. Similarly, a class tells you how to make an object but an object is only physically created in memory once you *instantiate* a class (we will talk about this shortly).\n",
    " - You can make many houses using the same blueprint. Similarly, you can make many objects using the same class. \n",
    " - You might want to make changes to your house at some point. Perhaps you want to add an extra window. Ideally, your blueprint (class) will be flexible enough to allow small changes like this without changing the entire design. This is worth considering when designing classes."
   ]
  },
  {
   "cell_type": "markdown",
   "id": "4f842a70",
   "metadata": {},
   "source": [
    "By the end of this tutorial, you should feel comfortable creating and using classes to make your own objects!"
   ]
  },
  {
   "cell_type": "markdown",
   "id": "f047fa48",
   "metadata": {},
   "source": [
    "## Methods"
   ]
  },
  {
   "cell_type": "markdown",
   "id": "11263d7e",
   "metadata": {},
   "source": [
    "Before we turn to making a class, it's worth just quicky going over a few points on `Methods`.\n",
    "\n",
    "Much like normal functions, methods may output another variable (such as `object4` above) or output nothing. However, in addition a method may also affect the value of the object which it is being called on! For example;"
   ]
  },
  {
   "cell_type": "code",
   "execution_count": null,
   "id": "429741f1",
   "metadata": {},
   "outputs": [],
   "source": [
    "# Make an example list\n",
    "example_list = [1,3,2,4]\n",
    "\n",
    "# Call the method `sort`\n",
    "output = example_list.sort()\n",
    "\n",
    "# Print the list\n",
    "print(example_list)\n",
    "\n",
    "# Print the function output\n",
    "print(output)"
   ]
  },
  {
   "cell_type": "markdown",
   "id": "6156dac0",
   "metadata": {},
   "source": [
    "In the above example, calling sort has *changed the value of* `example_list`, instead of outputting the result!"
   ]
  },
  {
   "cell_type": "markdown",
   "id": "a4ad4bd9",
   "metadata": {},
   "source": [
    "When a method changes a objects value in this way, it is often referred to as *in-place*. \n",
    "\n",
    "> **Warning:** Often, new users to Python find they are getting unexpected behaviour because they have mistaken an *in-place* method for one that returns a value! Always make sure to double check that the method you are calling is returning what you expect! If left unchecked, such errors can often be very tricky to spot later on!"
   ]
  },
  {
   "cell_type": "markdown",
   "id": "ba518288",
   "metadata": {},
   "source": [
    "Here's a handy piece of code that lists an objects methods (I'm sure you won't need this later!). In general, it's a bit tricky to list an objects methods as some may be private (hidden from you) or the objects' class may have redefined functions unexpectedly, but roughly speaking this code does an okay job!"
   ]
  },
  {
   "cell_type": "code",
   "execution_count": null,
   "id": "a4aaa190",
   "metadata": {},
   "outputs": [],
   "source": [
    "# What is the object we're looking at\n",
    "object_looking_at = int\n",
    "\n",
    "# Get the methods\n",
    "object_methods = [method_name for method_name in dir(object_looking_at)\n",
    "                  if callable(getattr(object_looking_at, method_name))]\n",
    "\n",
    "# Print the methods\n",
    "for object_method in object_methods:\n",
    "    print(object_method)"
   ]
  },
  {
   "cell_type": "markdown",
   "id": "01d66dab",
   "metadata": {},
   "source": [
    "> Note: You won't find any in-place methods for immutable objects. Why do you think this is? If you are unsure take a look back at the [Copying and References Section of Notebook 1: Datatypes, loops and logic](./nb_01_datatypes_loops_and_logic.ipynb#IMPORTANT:-Copying-and-References) or ask one of us for some help!"
   ]
  },
  {
   "cell_type": "markdown",
   "id": "0c67205c",
   "metadata": {},
   "source": [
    "# Creating a Class"
   ]
  },
  {
   "cell_type": "markdown",
   "id": "fd64d58d",
   "metadata": {},
   "source": [
    "Okay! Now we've got all that out of the way let's make a class! In this Section we'll make a class describing the house from the previous section. To make a class, we use the `class` keyword like so:"
   ]
  },
  {
   "cell_type": "code",
   "execution_count": null,
   "id": "b8397208",
   "metadata": {},
   "outputs": [],
   "source": [
    "# A new class describing houses\n",
    "class House(object):\n",
    "    \n",
    "    pass"
   ]
  },
  {
   "cell_type": "markdown",
   "id": "8a0baa7a",
   "metadata": {},
   "source": [
    "Okay, so above we have defined a class which represents the abstract idea of a \"House\". All good so far... but how to we now use this? Well, first let's talk about instantiation/initialising."
   ]
  },
  {
   "cell_type": "markdown",
   "id": "5ca0eb1b",
   "metadata": {},
   "source": [
    "> **Note**: You may wonder why we write `object` in the above. Essentially, this is just telling us that the House must be an object (which is the most general thing it can be). The reason for this syntax become more obvious once we start talking about [**inheritance**](#Inheritance). It is worth noting that we can delete `(object)` from the above code and it will not change anything. However, for reasons we will discuss later, the above syntax is generally considered better practice."
   ]
  },
  {
   "cell_type": "markdown",
   "id": "348a677b",
   "metadata": {},
   "source": [
    "## The `__init__` and `__repr__` Method"
   ]
  },
  {
   "cell_type": "markdown",
   "id": "12a56f1c",
   "metadata": {},
   "source": [
    "To be able to use our class we need to be able to instantiate it. Here the phrase instantiate roughly means \"create a new object according to the class\". For example, in the below code we instantiate the class \"int\" to create a new integer."
   ]
  },
  {
   "cell_type": "code",
   "execution_count": null,
   "id": "d7fe26cd",
   "metadata": {},
   "outputs": [],
   "source": [
    "x = int(3)"
   ]
  },
  {
   "cell_type": "markdown",
   "id": "a837e708",
   "metadata": {},
   "source": [
    "> **Note**: The word instantiate here often goes by many different names; initialize, create an instance of, etc. For our purposes, you can think of these terms as essentially all meaning the same thing!"
   ]
  },
  {
   "cell_type": "markdown",
   "id": "94194697",
   "metadata": {},
   "source": [
    "To tell our class how to \"create a new object\" we need to define a special method called the `__init__` method. This is the method that will be called when we first create the object (e.g. like in the above example when we called `int`). For example, in our `House` class we can include an initialize method (`__init__`) as follows:"
   ]
  },
  {
   "cell_type": "code",
   "execution_count": null,
   "id": "28709652",
   "metadata": {},
   "outputs": [],
   "source": [
    "# A new class describing houses\n",
    "class House(object):\n",
    "    \n",
    "    # Method to create a new house\n",
    "    def __init__(self):\n",
    "        \n",
    "        print('Wahey! We just made a house!')"
   ]
  },
  {
   "cell_type": "markdown",
   "id": "24b538f5",
   "metadata": {},
   "source": [
    "Now that we have the above, let's try making a house!\n"
   ]
  },
  {
   "cell_type": "code",
   "execution_count": null,
   "id": "8342fe01",
   "metadata": {},
   "outputs": [],
   "source": [
    "myNewHouse = House()"
   ]
  },
  {
   "cell_type": "markdown",
   "id": "f4db0188",
   "metadata": {},
   "source": [
    "We now have an object named `myNewHouse`. Note how when we created a new `House` object, the `__init__` function was called automatically. We can have a look at our new objects `type` below to confirm that it is definitely a house. "
   ]
  },
  {
   "cell_type": "code",
   "execution_count": null,
   "id": "93d7a03d",
   "metadata": {},
   "outputs": [],
   "source": [
    "type(myNewHouse)"
   ]
  },
  {
   "cell_type": "markdown",
   "id": "6e3d01e8",
   "metadata": {},
   "source": [
    "This may seems a little strange. We wanted to create a `House` but we seem to have created a `__main__.House`. \n",
    "\n",
    "The reason for this is that `__main__` is the name which is used to signify the module we are running right now (i.e. here, this notebook) so the above is telling us that we created an object from a class definition named `House` which lives in this module. \n",
    "\n",
    "We can also print a representation of our House using `print` like so!"
   ]
  },
  {
   "cell_type": "code",
   "execution_count": null,
   "id": "a49d87a8",
   "metadata": {},
   "outputs": [],
   "source": [
    "print(myNewHouse)"
   ]
  },
  {
   "cell_type": "markdown",
   "id": "b5526909",
   "metadata": {},
   "source": [
    "This seems a little messy... but don't fret as there is another special method we can call which will change how our object is represented by the `print` function; the `__repr__` function. We can use this like so:"
   ]
  },
  {
   "cell_type": "code",
   "execution_count": null,
   "id": "8f723178",
   "metadata": {},
   "outputs": [],
   "source": [
    "# A new class describing houses\n",
    "class House(object):\n",
    "    \n",
    "    # Method to create a new house\n",
    "    def __init__(self):\n",
    "        \n",
    "        print('Wahey! We just made a house!')\n",
    "        \n",
    "    # Method naming the class\n",
    "    def __repr__(self):\n",
    "        \n",
    "        return('Houseee')"
   ]
  },
  {
   "cell_type": "markdown",
   "id": "d81c456d",
   "metadata": {},
   "source": [
    "Now let's try displaying the `House` again."
   ]
  },
  {
   "cell_type": "code",
   "execution_count": null,
   "id": "8e0f05c8",
   "metadata": {},
   "outputs": [],
   "source": [
    "# Make a new house\n",
    "myNewHouse = House()\n",
    "\n",
    "# Print the house\n",
    "print(myNewHouse)"
   ]
  },
  {
   "cell_type": "markdown",
   "id": "40db2774",
   "metadata": {},
   "source": [
    "## The `self` Argument"
   ]
  },
  {
   "cell_type": "markdown",
   "id": "07ec1f37",
   "metadata": {},
   "source": [
    "We now have made our first `House`! However, you may be wondering at this point what the argument `self` means which keeps appearing in the code above...\n",
    "\n",
    "The keyword `self` is a special argument in Python; simply put, `self` refers to *the object we have just instantiated*. For example, consider the below class:"
   ]
  },
  {
   "cell_type": "code",
   "execution_count": null,
   "id": "abb7c1c7",
   "metadata": {},
   "outputs": [],
   "source": [
    "# A new class describing houses\n",
    "class House(object):\n",
    "    \n",
    "    # Method to create a new house\n",
    "    def __init__(self):\n",
    "        \n",
    "        # Set a description for the house\n",
    "        self.descrip = 'This is a lovely new house; one room, four solid-ish walls, almost minimal mould, no hidden extras (such as working heating or running water) and £1000 per month. Top of the range according to any local estate agent, no doubt!'\n",
    "        \n",
    "        print('Wahey! We just made a house!')\n",
    "        \n",
    "    # Method naming the class\n",
    "    def __repr__(self):\n",
    "        \n",
    "        return('Houseee')"
   ]
  },
  {
   "cell_type": "markdown",
   "id": "75887a8c",
   "metadata": {},
   "source": [
    "In the above we gave the keyword `self` a description. Let's see what this does:"
   ]
  },
  {
   "cell_type": "code",
   "execution_count": null,
   "id": "20e879cf",
   "metadata": {},
   "outputs": [],
   "source": [
    "# Make another house\n",
    "myNewHouse = House()\n",
    "\n",
    "# Print description\n",
    "print(myNewHouse.descrip)"
   ]
  },
  {
   "cell_type": "markdown",
   "id": "3fc23487",
   "metadata": {},
   "source": [
    "As we can see, any properties which we assigned to `self` have been assigned to `myNewHouse`. Essentially, `self` is just a pseudonym for the object we are creating! "
   ]
  },
  {
   "cell_type": "markdown",
   "id": "87446c45",
   "metadata": {},
   "source": [
    "## Object Methods and Attributes"
   ]
  },
  {
   "cell_type": "markdown",
   "id": "2c91eded",
   "metadata": {},
   "source": [
    "So far we have seen that we can we can create a new `House` and change how it is displayed. However, our `House` class is pretty useless at the moment. How can we make it do things and store information?\n",
    "\n",
    "This is where our `Attributes` and `Methods` come in. In this Section, we'll start creating our own functions and variables which our objects can use."
   ]
  },
  {
   "cell_type": "markdown",
   "id": "4a08c878",
   "metadata": {},
   "source": [
    "### Attributes"
   ]
  },
  {
   "cell_type": "markdown",
   "id": "5bdb8684",
   "metadata": {},
   "source": [
    "The word `Attribute` is just a fancy name for a piece of information associated with an object. We've actually already seen an example of this in the previous section when we added a description to our object! Here's another example;"
   ]
  },
  {
   "cell_type": "code",
   "execution_count": null,
   "id": "248f3037",
   "metadata": {},
   "outputs": [],
   "source": [
    "# A new class describing houses\n",
    "class House(object):\n",
    "    \n",
    "    # Method to create a new house\n",
    "    def __init__(self, nWin=None):\n",
    "        \n",
    "        # Save the number of windows, if we have them\n",
    "        if nWin:\n",
    "            self.numWindows = nWin\n",
    "        else:\n",
    "            self.numWindows = np.nan\n",
    "        \n",
    "        print('Wahey! We just made a house!')\n",
    "        \n",
    "    # Method naming the class\n",
    "    def __repr__(self):\n",
    "        \n",
    "        return('Houseee')"
   ]
  },
  {
   "cell_type": "markdown",
   "id": "b68e07d5",
   "metadata": {},
   "source": [
    "We have now created an attribute named `numWindows` which records the number of windows in the `House`."
   ]
  },
  {
   "cell_type": "code",
   "execution_count": null,
   "id": "95abeae0",
   "metadata": {},
   "outputs": [],
   "source": [
    "# Make a new house with 10 windows\n",
    "newHouse = House(10)\n",
    "\n",
    "# Print the number of windows\n",
    "print(newHouse.numWindows)"
   ]
  },
  {
   "cell_type": "markdown",
   "id": "1cca808d",
   "metadata": {},
   "source": [
    "> **Note:** In the above examples we always defined our attributes inside the `__init__` function. You may be wondering if we can define them elsewhere in the class definition. The short answer to this question is; yes! But in general it is considered best practice to do this on initialisation so that you can always tell what properties your objects should have from the moment they are created."
   ]
  },
  {
   "cell_type": "markdown",
   "id": "f1e23dce",
   "metadata": {},
   "source": [
    "It is pointing out here that Python is a bit more relaxed than other programming languages are when it comes to defining attributes. If you were working in Java or C++, for example, you could only define object attributes *inside* a class definition.\n",
    "\n",
    "Python, on the other hand, lets you add attributes to an object pretty much whenever you like. It even let's you do this *outside* the class definition! For example;"
   ]
  },
  {
   "cell_type": "code",
   "execution_count": null,
   "id": "f31cff01",
   "metadata": {},
   "outputs": [],
   "source": [
    "# Make a new house with 10 windows\n",
    "newHouse = House()\n",
    "\n",
    "# Add number of doors\n",
    "newHouse.numDoors = 2\n",
    "\n",
    "# Print the number of doors\n",
    "print(newHouse.numDoors)"
   ]
  },
  {
   "cell_type": "markdown",
   "id": "a76d8e12",
   "metadata": {},
   "source": [
    "> **Note**: Attributes cannot be added in this way for many of the built-in types, such as\n",
    "`list`s and `dict`s, nor with types that are defined in Python extensions (Python modules that are written in C)."
   ]
  },
  {
   "cell_type": "markdown",
   "id": "58ce37ec",
   "metadata": {},
   "source": [
    "### Methods"
   ]
  },
  {
   "cell_type": "markdown",
   "id": "7fa3fe46",
   "metadata": {},
   "source": [
    "Now we come to one of the central selling points of OOP; We can add functions to our objects! Let's say we want to add the address to our `House` object. We might make a function to do this like so:"
   ]
  },
  {
   "cell_type": "code",
   "execution_count": null,
   "id": "fc622b37",
   "metadata": {},
   "outputs": [],
   "source": [
    "# A new class describing houses\n",
    "class House(object):\n",
    "    \n",
    "    # Method to create a new house\n",
    "    def __init__(self, nWin=None):\n",
    "        \n",
    "        # Save the number of windows, if we have them\n",
    "        if nWin:\n",
    "            self.numWindows = nWin\n",
    "        else:\n",
    "            self.numWindows = np.nan\n",
    "            \n",
    "        # Initialize address parts\n",
    "        self.no = None\n",
    "        self.street = None\n",
    "        self.town = None\n",
    "        self.postcode = None\n",
    "        \n",
    "        # Room list\n",
    "        self.rooms = ['Kitchen', 'Bathroom', 'Bedroom']\n",
    "        \n",
    "        print('Wahey! We just made a house!')\n",
    "        \n",
    "    # Method naming the class\n",
    "    def __repr__(self):\n",
    "        \n",
    "        return('Houseee')\n",
    "    \n",
    "    # Add address\n",
    "    def addAddress(self,addressStr):\n",
    "        \n",
    "        # Split up the string\n",
    "        addressParts = addressStr.split(\",\")\n",
    "        \n",
    "        # Strip out trailing whitespace\n",
    "        for i, addressPart in enumerate(addressParts):\n",
    "            addressParts[i]=addressPart.strip(' ')\n",
    "            \n",
    "        \n",
    "        # Save address parts\n",
    "        self.no = int(addressParts[0])\n",
    "        self.street = addressParts[1]\n",
    "        self.town = addressParts[2]\n",
    "        self.postcode = addressParts[3]\n",
    "        \n",
    "    # Check if two houses are neighbours\n",
    "    def isNeighbour(self, house):\n",
    "        \n",
    "        # Check if we have an address for both houses\n",
    "        if self.no and house.no:\n",
    "            # Check if the house numbers are one apart\n",
    "            if np.abs(self.no-house.no)==1:\n",
    "                return(True)\n",
    "            else:\n",
    "                return(False)\n",
    "        else:\n",
    "            raise ValueError('Addresses missing.')\n",
    "        \n",
    "    # Retreive house number\n",
    "    def getNo(self):\n",
    "\n",
    "        if self.no:\n",
    "            # Return number\n",
    "            return(self.no)\n",
    "        else:\n",
    "            print('No number here boss.')\n",
    "            return(0)\n",
    "        \n",
    "    # Add a new room\n",
    "    def addRoom(self, roomStr):\n",
    "        \n",
    "        # Add room to list\n",
    "        self.rooms = self.rooms + [roomStr]\n",
    "        \n",
    "    # Get number of rooms\n",
    "    def numRoom(self):\n",
    "        \n",
    "        # Return number of rooms\n",
    "        return(len(self.rooms))\n",
    "    \n",
    "    "
   ]
  },
  {
   "cell_type": "markdown",
   "id": "6dc8b6fa",
   "metadata": {},
   "source": [
    "Let's see if it works!"
   ]
  },
  {
   "cell_type": "code",
   "execution_count": null,
   "id": "88f41bd1",
   "metadata": {},
   "outputs": [],
   "source": [
    "# Create a house\n",
    "myNewHouse = House()\n",
    "\n",
    "# Add an address\n",
    "myNewHouse.addAddress('123,random street, some town, RANL0C')"
   ]
  },
  {
   "cell_type": "markdown",
   "id": "4900def9",
   "metadata": {},
   "source": [
    "Let's check it stored the address correctly!"
   ]
  },
  {
   "cell_type": "code",
   "execution_count": null,
   "id": "bbd0ff9c",
   "metadata": {},
   "outputs": [],
   "source": [
    "# Print house number\n",
    "print(myNewHouse.no)\n",
    "\n",
    "# Print street\n",
    "print(myNewHouse.street)\n",
    "\n",
    "# Print town\n",
    "print(myNewHouse.town)\n",
    "\n",
    "# Print postcode\n",
    "print(myNewHouse.postcode)"
   ]
  },
  {
   "cell_type": "markdown",
   "id": "dfaa619b",
   "metadata": {},
   "source": [
    "Take a look at some of the other functions in the `House` class above and see if you can work out what they are doing! Try adding a method which saves some homeowner details! Try adding another method which checks whether two houses have the same homeowner! Test your code below!\n"
   ]
  },
  {
   "cell_type": "code",
   "execution_count": null,
   "id": "a364157a",
   "metadata": {},
   "outputs": [],
   "source": [
    "# Create a house\n",
    "myNewHouse = House()\n",
    "\n",
    "# --------------------------------------------------\n",
    "# Test code\n",
    "# --------------------------------------------------\n",
    "# e.g. myNewHouse.setHomeOwner()\n",
    "#\n",
    "#      anotherHouse = House()\n",
    "#      ...\n",
    "#      myNewHouse.sameHomerOwner(AnotherHouse)"
   ]
  },
  {
   "cell_type": "markdown",
   "id": "57e7c592",
   "metadata": {},
   "source": [
    "Alright, now we've seen how a simple example works, let's import a more complex house with all the attributes and methods we originally laid out in the [Classes](#Classes) section, and more."
   ]
  },
  {
   "cell_type": "code",
   "execution_count": 2,
   "id": "412e388b",
   "metadata": {},
   "outputs": [],
   "source": [
    "from HouseFile import House"
   ]
  },
  {
   "cell_type": "markdown",
   "id": "312f76a3",
   "metadata": {},
   "source": [
    "> **Note**:"
   ]
  },
  {
   "cell_type": "markdown",
   "id": "d491ebf1",
   "metadata": {},
   "source": [
    "Let's make a new house and check out what's going on with this one!"
   ]
  },
  {
   "cell_type": "code",
   "execution_count": 3,
   "id": "9c26e558",
   "metadata": {},
   "outputs": [],
   "source": [
    "house = House()"
   ]
  },
  {
   "cell_type": "markdown",
   "id": "8105529d",
   "metadata": {},
   "source": [
    "Run this box:"
   ]
  },
  {
   "cell_type": "code",
   "execution_count": 4,
   "id": "1a203cef",
   "metadata": {},
   "outputs": [
    {
     "name": "stdout",
     "output_type": "stream",
     "text": [
      "Yup. The house is now on fire. Great job.\n"
     ]
    }
   ],
   "source": [
    "house.burnToGround()"
   ]
  },
  {
   "cell_type": "markdown",
   "id": "197f12a5",
   "metadata": {},
   "source": [
    "Ah shit! What did you do that for?! You've gone and set your house on fire you absolute nutter! (Seriously, what the hell man!)\n",
    "\n",
    "Right, you're on the clock now! You've got to save the house! Try turning on the sprinklers!"
   ]
  },
  {
   "cell_type": "code",
   "execution_count": 5,
   "id": "ab77a978",
   "metadata": {},
   "outputs": [
    {
     "name": "stdout",
     "output_type": "stream",
     "text": [
      "The sprinklers aren't working... You'll have to turn on the water on manually!\n",
      " \n",
      "You might have to work out which room the sprinkler 'Valve' is in... If only there were some useful code given to you earlier in the notebook!\n",
      " \n",
      "Time until total house annihilation:  994.3812890052795  seconds and counting.\n",
      " \n",
      "Hint: The method starting \"howToUse...\" might help if you feed it the names of other methods.\n"
     ]
    }
   ],
   "source": [
    "house.turnOnSprinklers()"
   ]
  },
  {
   "cell_type": "markdown",
   "id": "d3969812",
   "metadata": {},
   "source": [
    "Check if you've saved the house using the below function:"
   ]
  },
  {
   "cell_type": "code",
   "execution_count": 6,
   "id": "ae4876ad",
   "metadata": {},
   "outputs": [
    {
     "name": "stdout",
     "output_type": "stream",
     "text": [
      "Flames licking the walls now!\n",
      " \n",
      "You've only got 986.5172803401947 seconds left!!! Get a move on!\n"
     ]
    }
   ],
   "source": [
    "house.status()"
   ]
  },
  {
   "cell_type": "code",
   "execution_count": 7,
   "id": "ed01125c",
   "metadata": {},
   "outputs": [
    {
     "name": "stdout",
     "output_type": "stream",
     "text": [
      "__class__\n",
      "__delattr__\n",
      "__dir__\n",
      "__eq__\n",
      "__format__\n",
      "__ge__\n",
      "__getattribute__\n",
      "__gt__\n",
      "__hash__\n",
      "__init__\n",
      "__init_subclass__\n",
      "__le__\n",
      "__lt__\n",
      "__ne__\n",
      "__new__\n",
      "__reduce__\n",
      "__reduce_ex__\n",
      "__repr__\n",
      "__setattr__\n",
      "__sizeof__\n",
      "__str__\n",
      "__subclasshook__\n",
      "burnToGround\n",
      "checkBurned\n",
      "howToUseMethodByName\n",
      "isItemInRoom\n",
      "listRooms\n",
      "roomDescription\n",
      "status\n",
      "turnOnSprinklers\n"
     ]
    }
   ],
   "source": [
    "# You can code here..."
   ]
  },
  {
   "cell_type": "code",
   "execution_count": 8,
   "id": "72ce45d7",
   "metadata": {},
   "outputs": [
    {
     "name": "stdout",
     "output_type": "stream",
     "text": [
      "Just call it like 'roomlist=house.listRooms()'!\n",
      "Pass strings representing an item name and a room name; e.g. 'house.isItemInRoom('Cucumber','Attic')'\n",
      "Nope, no valve here!\n",
      "Nope, no valve here!\n",
      "Nope, no valve here!\n",
      "Nope, no valve here!\n",
      "Nope, no valve here!\n",
      "Nope, no valve here!\n",
      "Ah crap! The valves been chained up!\n",
      " \n",
      "Right...\n",
      " \n",
      "Let's give up on that and get to safety!\n",
      " \n",
      "You should find your 'dog' and get out of the house ASAP!!\n",
      "Nope, no valve here!\n",
      "Nope, no valve here!\n",
      "Which Dog? Need to be more specific...\n",
      " \n",
      "Tic toc tic toc! Fires spreading...\n",
      " \n",
      "Maybe there's a clue *described* somewhere!\n",
      "Nothing of interest to report.\n",
      "Nothing of interest to report.\n",
      "Nothing of interest to report.\n",
      "Nothing of interest to report.\n",
      "It says the name \"Spike\" on the wall... I wonder if this information could be useful somewhere else...\n",
      "Nothing of interest to report.\n",
      "Nothing of interest to report.\n",
      "Nothing of interest to report.\n",
      "A big concrete chamber... weird symbols on the walls... cold... so cold... I doubt this place will burn down anytime soon...\n",
      " \n",
      "Hey wait! What's this?! A weird mystical book! Maybe you should keep hold of this... I'd save the result of this function call if I were you!\n",
      " \n",
      "Ah the fumes are coming in!!! You've only got 961.0682573318481 seconds until the whole place goes up in flames!!\n",
      " \n",
      "I wonder if this mystical book has any useful methods...\n"
     ]
    }
   ],
   "source": []
  },
  {
   "cell_type": "code",
   "execution_count": 9,
   "id": "69f5c9f2",
   "metadata": {},
   "outputs": [
    {
     "name": "stdout",
     "output_type": "stream",
     "text": [
      "The dogs not in here!\n",
      " \n",
      "Times running down!! Keep looking!!\n",
      " \n",
      "He's probably moving around a lot in the fire! He might be here in a minute!\n",
      "The dogs not in here!\n",
      " \n",
      "Times running down!! Keep looking!!\n",
      " \n",
      "He's probably moving around a lot in the fire! He might be here in a minute!\n",
      "The dogs not in here!\n",
      " \n",
      "Times running down!! Keep looking!!\n",
      " \n",
      "He's probably moving around a lot in the fire! He might be here in a minute!\n",
      "The dogs not in here!\n",
      " \n",
      "Times running down!! Keep looking!!\n",
      " \n",
      "He's probably moving around a lot in the fire! He might be here in a minute!\n",
      "The dogs not in here!\n",
      " \n",
      "Times running down!! Keep looking!!\n",
      " \n",
      "He's probably moving around a lot in the fire! He might be here in a minute!\n",
      "The dogs not in here!\n",
      " \n",
      "Times running down!! Keep looking!!\n",
      " \n",
      "He's probably moving around a lot in the fire! He might be here in a minute!\n",
      "The dogs not in here!\n",
      " \n",
      "Times running down!! Keep looking!!\n",
      " \n",
      "He's probably moving around a lot in the fire! He might be here in a minute!\n",
      "You caught the dog!\n",
      " \n",
      "Great let's get out of th.... Wait... crap! \n",
      " \n",
      "What about the kid?! \n",
      " \n",
      "You can't leave the 'kid' in the house! Better find him quick!\n",
      "You already found the dog, no?\n"
     ]
    }
   ],
   "source": [
    "for room in roomlist:\n",
    "    house.isItemInRoom('spike',room)"
   ]
  },
  {
   "cell_type": "code",
   "execution_count": 10,
   "id": "efc7a378",
   "metadata": {},
   "outputs": [
    {
     "name": "stdout",
     "output_type": "stream",
     "text": [
      "That damn kid! He's not in here at the moment!! Keep looking!!\n",
      "That damn kid! He's not in here at the moment!! Keep looking!!\n",
      "That damn kid! He's not in here at the moment!! Keep looking!!\n",
      "That damn kid! He's not in here at the moment!! Keep looking!!\n",
      "That damn kid! He's not in here at the moment!! Keep looking!!\n",
      "That damn kid! He's not in here at the moment!! Keep looking!!\n",
      "That damn kid! He's not in here at the moment!! Keep looking!!\n",
      "That damn kid! He's not in here at the moment!! Keep looking!!\n",
      "You found the kid!\n",
      " \n",
      "Man the flames are getting pretty bad now though...\n",
      " \n",
      "Things are starting to get a bit desperate here... Better get out of here!\n",
      " \n",
      "Wait!\n",
      " \n",
      "That damn kid! He's got the key to the padlock for that valve! Kids, eh? Best try the valve again (rerun the same command as last time!)!\n"
     ]
    }
   ],
   "source": []
  },
  {
   "cell_type": "code",
   "execution_count": 11,
   "id": "c47fcdc1",
   "metadata": {},
   "outputs": [
    {
     "name": "stdout",
     "output_type": "stream",
     "text": [
      "Why would anyone ever put a sprinkler valve in a bedro... Wait! Wtf?! It's here!!\n",
      " \n",
      "Unlocking the padlock on the valve with the kids key...\n",
      " \n",
      "Turning valve...\n",
      " \n",
      "Come onnnn...\n",
      " \n",
      "It's on!!\n",
      " \n",
      "WAIT!\n",
      " \n",
      "NOTHINGS HAPPENING!\n",
      " \n",
      "THE FIRES SPEEDING UP!!\n",
      " \n",
      "Things are getting desperate!!\n",
      " \n",
      "Did you check out all of the rooms?! Things are getting real bad here... maybe something about the chamber of death can help... if only you knew how to do a 'raindance' ;)\n"
     ]
    }
   ],
   "source": []
  },
  {
   "cell_type": "code",
   "execution_count": 12,
   "id": "17c8776b",
   "metadata": {},
   "outputs": [
    {
     "name": "stdout",
     "output_type": "stream",
     "text": [
      "A big concrete chamber... weird symbols on the walls... cold... so cold... I doubt this place will burn down anytime soon...\n",
      " \n",
      "Hey wait! What's this?! A weird mystical book! Maybe you should keep hold of this... I'd save the result of this function call if I were you!\n",
      " \n",
      "Ah the fumes are coming in!!! You've only got 862.6336050033569 seconds until the whole place goes up in flames!!\n",
      " \n",
      "I wonder if this mystical book has any useful methods...\n"
     ]
    },
    {
     "data": {
      "text/plain": [
       "MysticalBook"
      ]
     },
     "execution_count": 12,
     "metadata": {},
     "output_type": "execute_result"
    }
   ],
   "source": []
  },
  {
   "cell_type": "code",
   "execution_count": 13,
   "id": "fb9bd898",
   "metadata": {},
   "outputs": [
    {
     "name": "stdout",
     "output_type": "stream",
     "text": [
      "A big concrete chamber... weird symbols on the walls... cold... so cold... I doubt this place will burn down anytime soon...\n",
      " \n",
      "Hey wait! What's this?! A weird mystical book! Maybe you should keep hold of this... I'd save the result of this function call if I were you!\n",
      " \n",
      "Ah the fumes are coming in!!! You've only got 853.068855047226 seconds until the whole place goes up in flames!!\n",
      " \n",
      "I wonder if this mystical book has any useful methods...\n"
     ]
    }
   ],
   "source": []
  },
  {
   "cell_type": "code",
   "execution_count": 14,
   "id": "b3e22c90",
   "metadata": {},
   "outputs": [
    {
     "name": "stdout",
     "output_type": "stream",
     "text": [
      "__class__\n",
      "__delattr__\n",
      "__dir__\n",
      "__eq__\n",
      "__format__\n",
      "__ge__\n",
      "__getattribute__\n",
      "__gt__\n",
      "__hash__\n",
      "__init__\n",
      "__init_subclass__\n",
      "__le__\n",
      "__lt__\n",
      "__ne__\n",
      "__new__\n",
      "__reduce__\n",
      "__reduce_ex__\n",
      "__repr__\n",
      "__setattr__\n",
      "__sizeof__\n",
      "__str__\n",
      "__subclasshook__\n",
      "howToUseMethodByName\n",
      "performIncantation\n"
     ]
    }
   ],
   "source": []
  },
  {
   "cell_type": "code",
   "execution_count": 15,
   "id": "27b2211f",
   "metadata": {},
   "outputs": [
    {
     "name": "stdout",
     "output_type": "stream",
     "text": [
      "Things are getting more desperate than they've ever been...\n",
      " \n",
      "You climb up the stairs...\n",
      " \n",
      "The smoke fumes are making you dizzy...\n",
      " \n",
      "All you wanted to do was learn object oriented programming but now you're an arsonist, a dog hunter and now this...\n",
      " \n",
      "You break a hole in the attic roof! How did things come to this?! You curse your gods and rue the day you chose to learn Python!\n",
      " \n",
      "It's a cold, cold chilly night. You think of the dog and the kid.\n",
      " \n",
      "Oh how you wish it was ten minutes ago when your biggest worry in life was what the 'self' argument meant!\n",
      " \n",
      "You raise your arms to the sky...\n",
      " \n",
      " take a deep breath... \n",
      " \n",
      "... and perform a raindance!\n",
      " \n",
      "Silence.\n",
      " \n",
      "You moron. Did you really think that would work?!\n",
      " \n",
      "Wait...\n",
      " \n",
      "You moron!!\n",
      " \n",
      "Did you turn the 'activateSprinklerSystem' boolean attribute on in the house?!\n",
      " \n",
      "Quick go back and try this and turn on the sprinklers again!!\n"
     ]
    }
   ],
   "source": []
  },
  {
   "cell_type": "code",
   "execution_count": 17,
   "id": "21089546",
   "metadata": {},
   "outputs": [
    {
     "name": "stdout",
     "output_type": "stream",
     "text": [
      "There's a creak...\n",
      " \n",
      "Only 686.5988967418671 seconds left\n",
      " \n",
      "But the sprinklers come on!\n",
      " \n",
      "Phew!\n",
      " \n",
      "The fire is out! Well done!\n",
      " \n",
      "I guess it's time to go back to Python, huh?\n"
     ]
    }
   ],
   "source": []
  },
  {
   "cell_type": "markdown",
   "id": "cb4d6383",
   "metadata": {},
   "source": [
    "### Private Methods and Attributes"
   ]
  },
  {
   "cell_type": "markdown",
   "id": "dc33f55f",
   "metadata": {},
   "source": [
    "## Class Methods and Attributes"
   ]
  },
  {
   "cell_type": "markdown",
   "id": "ee859d56",
   "metadata": {},
   "source": [
    "## Special Methods and Operator Overloading"
   ]
  },
  {
   "cell_type": "markdown",
   "id": "6d162708",
   "metadata": {},
   "source": [
    "## Properties, Getters and Setters"
   ]
  },
  {
   "cell_type": "markdown",
   "id": "85b88b87",
   "metadata": {},
   "source": [
    "## Method Overloading"
   ]
  },
  {
   "cell_type": "markdown",
   "id": "35a747dd",
   "metadata": {},
   "source": [
    "# Inheritance"
   ]
  },
  {
   "cell_type": "code",
   "execution_count": null,
   "id": "182ead59",
   "metadata": {},
   "outputs": [],
   "source": []
  },
  {
   "cell_type": "markdown",
   "id": "56ccba7d",
   "metadata": {},
   "source": [
    "# An Example"
   ]
  },
  {
   "cell_type": "markdown",
   "id": "d88d2e9a",
   "metadata": {},
   "source": [
    "Worked example with complex numbers..."
   ]
  },
  {
   "cell_type": "markdown",
   "id": "d8102b8b",
   "metadata": {},
   "source": [
    "# Critiques"
   ]
  },
  {
   "cell_type": "markdown",
   "id": "6b104b3f",
   "metadata": {},
   "source": [
    "In this section, I will take a brief personal detour to give a more subjective view than you would usually find in your average computing course. This is not because I wanted to take an ego-trip, but because I think many beginner courses on OOP often do not do a good job of conveying the true utility of OOP. \n",
    "\n",
    "Indeed, if you talk to a computer scientist, there is a good chance they may tell you that OOP is an extremely important and central part of modern day coding. This is certainly how it was taught to me when I took my first course on OOP in Java back in 2014. And, especially when I first started working on imaging data, it felt like a common view among my computer-science oriented colleagues. In fact, many may even tell you today that OOP is the \"gold-standard\" practice for organizing code.\n",
    "\n",
    "**However**, if you have made it this far into the course, I do not wish to leave you with any **false impressions**."
   ]
  },
  {
   "cell_type": "markdown",
   "id": "d8466436",
   "metadata": {},
   "source": [
    "It seems to me that object oriented programming certainly does have **some utility**. For example, we are all grateful that someone has gone to extreme lengths to create the `np.array` class so that we don't have to. And I hope that some of the examples given in this document and the exercises may have convinced you that classes are certainly useful for some applications.\n",
    "\n",
    "However, in recent years OOP has come under fire in recent years for essentially **over-complicating** simple tasks. Personally, I believe in many cases there is a lot of truth to this. In my experience, when people first learn OOP there is often an extreme temptation to suddenly start wrapping everything up in classes and object definitions. I don't believe this practice is efficient, and I am not alone in this."
   ]
  },
  {
   "cell_type": "markdown",
   "id": "bd8c4fdd",
   "metadata": {},
   "source": [
    "For example, some studies have concluded that using OOP provides no significant difference in productivity from other approaches [(src)](http://www.csm.ornl.gov/~v8q/Homepage/Papers%20Old/spetep-%20printable.pdf) and many researchers have criticised OOP on conceptual grounds.\n",
    "\n",
    "For example, Joe Armstrong, the inventor of the Erlang programming language, raises the following argument against OOP:\n",
    "\n",
    "> The problem with object-oriented languages is they've got all this implicit environment that they carry around with them. You wanted a banana but what you got was a gorilla holding the banana and the entire jungle. [(src)](https://codersatwork.com/)\n",
    "\n",
    "One researcher, Alexander Stepanov, was even lead to conclude the following:\n",
    "\n",
    ">  I find OOP philosophically unsound. It claims that everything is an object. Even if it is true it is not very interesting — saying that everything is an object is saying nothing at all. [(src)](http://www.stlport.org/resources/StepanovUSA.html)"
   ]
  },
  {
   "cell_type": "markdown",
   "id": "4a5af72c",
   "metadata": {},
   "source": [
    "Personally, I think these views are a little extreme... I believe there is certainly some utility to OOP, but I do think people often tend to overstate it's utility and overuse the concept. \n",
    "\n",
    "The main takeaway I am trying to convey here is that, if you are thinking of using OOP for your application, ask yourself first \"is it really necessary for my application, or will it just make life more difficult?\". If you're not sure of the answer, honestly I'd advise against it. Maintaining classes is a lot of work and, in practice, using OOP often results in having to keep track of lots of unnecessary additional pieces of code. \n",
    "\n",
    "Also, do not let someone talk you into using classes just \"for the sake of organization\". It may not help you in the long run! By all means use classes, but only if you are sure that they are **right for your application**."
   ]
  },
  {
   "cell_type": "markdown",
   "id": "4a155b16",
   "metadata": {},
   "source": [
    "Here are some key considerations to think about if you are considering using OOP for an application:\n",
    "\n",
    " - Will I need to use this class **repeatedly**? Or is it **single-use**? If it is the latter, maybe it's not worth it?\n",
    " \n",
    " - Will I need to go back and **update** this class **regularly**? If so, maybe it's **too specific**?\n",
    " \n",
    " - Can people who are new to my code **understand** what my class **represents** easily?\n",
    " \n",
    " - Is this class making my code **more complex**, or is it making it easier to use?\n",
    " \n",
    " - Is it really **necessary** to use a class for this? "
   ]
  },
  {
   "cell_type": "markdown",
   "id": "90e224fb",
   "metadata": {},
   "source": [
    "# Exercises"
   ]
  },
  {
   "cell_type": "markdown",
   "id": "bf58b2a9",
   "metadata": {},
   "source": [
    "Q1: Dialeth"
   ]
  },
  {
   "cell_type": "markdown",
   "id": "eb54a6f1",
   "metadata": {},
   "source": [
    "Q2: Contra ints - explain why eq not working trick q"
   ]
  },
  {
   "cell_type": "markdown",
   "id": "2c4331e5",
   "metadata": {},
   "source": [
    "Q3: Quartenions"
   ]
  },
  {
   "cell_type": "markdown",
   "id": "757dff4b",
   "metadata": {},
   "source": [
    "Q4: 3 pros, 3 cons for situation"
   ]
  },
  {
   "cell_type": "markdown",
   "id": "e5db967a",
   "metadata": {},
   "source": []
  }
 ],
 "metadata": {
  "kernelspec": {
   "display_name": "Python 3 (ipykernel)",
   "language": "python",
   "name": "python3"
  },
  "language_info": {
   "codemirror_mode": {
    "name": "ipython",
    "version": 3
   },
   "file_extension": ".py",
   "mimetype": "text/x-python",
   "name": "python",
   "nbconvert_exporter": "python",
   "pygments_lexer": "ipython3",
   "version": "3.7.5"
  }
 },
 "nbformat": 4,
 "nbformat_minor": 5
}
