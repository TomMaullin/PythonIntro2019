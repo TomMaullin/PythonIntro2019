{
 "cells": [
  {
   "cell_type": "markdown",
   "metadata": {
    "id": "K8QzT1Ew30dv"
   },
   "source": [
    "# Plotting and images\n",
    "\n",
    "In Python you can make plots using the `matplotlib` package. In this notebook, we will introduce you to the `matplotlib` package and give you an idea of how to use it. For more information see the matplotlib [documentation](https://matplotlib.org/) here.\n",
    "\n",
    "Most of the time you will find that you only use the `pyplot` module of `matplotlib` which is commonly imported as `plt`."
   ]
  },
  {
   "cell_type": "code",
   "execution_count": null,
   "metadata": {
    "id": "-l9tRrFC4XmE"
   },
   "outputs": [],
   "source": [
    "import matplotlib.pyplot as plt"
   ]
  },
  {
   "cell_type": "markdown",
   "metadata": {},
   "source": [
    "### Table of Contents\n",
    "\n",
    " - [Notebook 0: Introduction](./nb_00_introduction.ipynb)\n",
    " - [Notebook 1: Datatypes, loops and logic](./nb_01_datatypes_loops_and_logic.ipynb)\n",
    " - [Notebook 2: Functions, modules and packages](./nb_02_functions_modules_and_packages.ipynb)\n",
    " - [Notebook 3: Managing files](./nb_03_managing_files.ipynb)\n",
    " - [Notebook 4: Numpy](./nb_04_numpy.ipynb)\n",
    " - [Notebook 5: Pandas](./nb_05_pandas.ipynb)\n",
    " - [Notebook 6: Scipy](./nb_06_scipy.ipynb)\n",
    " - [**Notebook 7: Plotting and images**](./nb_07_plotting_and_images.ipynb)\n",
    "   - [2D plots](#2D-plots)\n",
    "   - [Subplots](#Subplots)\n",
    "   - [Images](#Images)\n",
    "   - [3D plots](#3D-plots)\n",
    "   - [Histograms](#Histograms)\n",
    "   - [Boxplots](#Boxplots)\n",
    "   - [Pie charts](#Pie-charts)\n",
    "   - [Polar coordinates](#Polar-coordinates)\n",
    "   - [And much more...](#And-much-more...)\n",
    "   - [Exercises](#Exercises) (Recommended)"
   ]
  },
  {
   "cell_type": "markdown",
   "metadata": {
    "id": "dj2g5FD55ZYa"
   },
   "source": [
    "## 2D plots"
   ]
  },
  {
   "cell_type": "markdown",
   "metadata": {
    "id": "5idchpF75AKz"
   },
   "source": [
    "To show how 2D plots can be created let's generate some example data using numpy. We will make a sine wave and cosine wave"
   ]
  },
  {
   "cell_type": "code",
   "execution_count": null,
   "metadata": {
    "id": "M6Xue3Ly6JP4"
   },
   "outputs": [],
   "source": [
    "import numpy as np\n",
    "\n",
    "x = np.linspace(-np.pi, np.pi, 256)\n",
    "cosx, sinx = np.cos(x), np.sin(x)"
   ]
  },
  {
   "cell_type": "markdown",
   "metadata": {
    "id": "QYSZW9dR6SF0"
   },
   "source": [
    "Next, we will set the \"style\" of the plot. This basically tells us how we want the plot to look. Below we have used \"bmh\" which is a style from the [\"Bayesian Methods for Hackers style sheet\"](https://matplotlib.org/3.2.1/gallery/style_sheets/bmh.html)."
   ]
  },
  {
   "cell_type": "code",
   "execution_count": null,
   "metadata": {
    "id": "aXaoxzXx5Ytg"
   },
   "outputs": [],
   "source": [
    "plt.style.use('bmh')"
   ]
  },
  {
   "cell_type": "markdown",
   "metadata": {
    "id": "aJ8SpcT45tyD"
   },
   "source": [
    "> **Note:** The `plt.style.use('bmh')` command is not necessary, but it\n",
    "does make nicer looking plots in general.  You can use `ggplot`\n",
    "instead of bmh if you want something resembling plots made by `R`.\n",
    "For a list of options try the below:\n"
   ]
  },
  {
   "cell_type": "code",
   "execution_count": null,
   "metadata": {
    "colab": {
     "base_uri": "https://localhost:8080/",
     "height": 54
    },
    "id": "3vySuLY751Wl",
    "outputId": "54c35881-18c2-439d-d6ff-61d387bbcf10"
   },
   "outputs": [],
   "source": [
    "print(plt.style.available)"
   ]
  },
  {
   "cell_type": "markdown",
   "metadata": {
    "id": "zBKsIR116qnZ"
   },
   "source": [
    "Now, lets plot the lines $y=\\cos(x),y=\\sin(x)$ and $y=\\sin^2(x)$. We can specify the limits on the plot with `xlim` and give the plot a title using `title`."
   ]
  },
  {
   "cell_type": "code",
   "execution_count": null,
   "metadata": {
    "colab": {
     "base_uri": "https://localhost:8080/",
     "height": 313
    },
    "id": "XzzkDste6pX7",
    "outputId": "c744f4b8-b97f-4f87-c739-abefcc8c3610"
   },
   "outputs": [],
   "source": [
    "plt.plot(x, cosx)\n",
    "plt.plot(x, sinx, color='red', linewidth=4, linestyle='-.')\n",
    "plt.plot(x, sinx**2)\n",
    "plt.xlim(-np.pi, np.pi)\n",
    "plt.title('Our first plots')"
   ]
  },
  {
   "cell_type": "markdown",
   "metadata": {
    "id": "ByQiuUe-jHxM"
   },
   "source": [
    "The above plot is nice, but we might want to add a legend to tell which line is which. We can do this using the `legend` function, but we must label each line before we can call this!\n"
   ]
  },
  {
   "cell_type": "code",
   "execution_count": null,
   "metadata": {
    "colab": {
     "base_uri": "https://localhost:8080/",
     "height": 296
    },
    "id": "U0YSXWJi516P",
    "outputId": "d65b6f5c-86de-4b77-f810-7b8150ca53c4"
   },
   "outputs": [],
   "source": [
    "plt.plot(x, cosx, label='cos')\n",
    "plt.plot(x, sinx, color='red', linewidth=4, linestyle='-.', label='sin')\n",
    "plt.plot(x, sinx**2, label='sin^2')\n",
    "plt.xlim(-np.pi, np.pi)\n",
    "plt.title('Our first plots')\n",
    "plt.legend(loc=\"upper left\")"
   ]
  },
  {
   "cell_type": "markdown",
   "metadata": {
    "id": "I4K2dOPukEIJ"
   },
   "source": [
    "Let's also add $x$ and $y$ labels!"
   ]
  },
  {
   "cell_type": "code",
   "execution_count": null,
   "metadata": {
    "colab": {
     "base_uri": "https://localhost:8080/",
     "height": 313
    },
    "id": "tnejYheijk_l",
    "outputId": "023585b6-a27e-4a06-e9ed-f8b5b5fd6bd5"
   },
   "outputs": [],
   "source": [
    "plt.plot(x, cosx, label='cos')\n",
    "plt.plot(x, sinx, color='red', linewidth=4, linestyle='-.', label='sin')\n",
    "plt.plot(x, sinx**2, label='sin^2')\n",
    "plt.xlim(-np.pi, np.pi)\n",
    "plt.title('Our first plots')\n",
    "plt.legend(loc=\"upper left\")\n",
    "plt.xlabel(\"x-axis\")\n",
    "plt.ylabel(\"y-axis\")"
   ]
  },
  {
   "cell_type": "markdown",
   "metadata": {
    "id": "L_jsBUdxlWM_"
   },
   "source": [
    "A useful feature in `plt` is that you can retain each plotting object and inspect or change it's properties later on. For example, in the below code we save the $y=\\cos(x)$ line to later change it's color and line width. \n"
   ]
  },
  {
   "cell_type": "code",
   "execution_count": null,
   "metadata": {
    "colab": {
     "base_uri": "https://localhost:8080/",
     "height": 279
    },
    "id": "CEBmop6xk5iz",
    "outputId": "3c3e87c0-8d74-4d73-95ef-b09cbd78dbac"
   },
   "outputs": [],
   "source": [
    "cosline = plt.plot(x, cosx)\n",
    "plt.xlim(-np.pi, np.pi)\n",
    "print(cosline[0].get_color())\n",
    "cosline[0].set_color('#707010')\n",
    "cosline[0].set_linewidth(0.5)"
   ]
  },
  {
   "cell_type": "markdown",
   "metadata": {
    "id": "VFOgeMGWnRh2"
   },
   "source": [
    "## Subplots\n",
    "\n",
    "Often, we might not want to put all our plots on one axis. To overcome this, `matplotlib` provides an option to create \"subplots\" (i.e. multiple plots within one image). If you have worked in `Matlab` before you may be familiar with this concept. To specify where we want an individual subplot to appear in the plot we must use the `subplot` function."
   ]
  },
  {
   "cell_type": "code",
   "execution_count": null,
   "metadata": {
    "colab": {
     "base_uri": "https://localhost:8080/",
     "height": 280
    },
    "id": "TIf78WJlmVjO",
    "outputId": "d08c028c-d682-413d-f64e-9221a045c212"
   },
   "outputs": [],
   "source": [
    "# This tells us that if we have 3 rows of plots and 1 column of plots,\n",
    "# we want to put the next plot in the first position.\n",
    "plt.subplot(3, 1, 1)\n",
    "plt.plot(x,cosx, '.-')\n",
    "plt.xlim(-np.pi, np.pi)\n",
    "\n",
    "# This tells us that if we have 3 rows of plots and 2 column of plots,\n",
    "# we want to put the next plot in the first position.\n",
    "plt.subplot(3, 1, 2)\n",
    "plt.plot(x, sinx, '.-')\n",
    "plt.xlim(-np.pi, np.pi)\n",
    "\n",
    "# This tells us that if we have 3 rows of plots and 3 column of plots,\n",
    "# we want to put the next plot in the first position.\n",
    "plt.subplot(3, 1, 3)\n",
    "plt.plot(x, sinx**2, '.-')\n",
    "plt.xlim(-np.pi, np.pi)"
   ]
  },
  {
   "cell_type": "markdown",
   "metadata": {
    "id": "p5YAsXastmkA"
   },
   "source": [
    "As with the previous plots we can change the line colors, add labels and legends and so forth. Try playing around with the subplots function to see if you can get the $y=sin^2(x)$ plot to appear next to the $y=cos(x)$ plot!\n",
    "\n",
    "You can also make subplots inside subplots using the `gridSpec` module from `matplotlib`."
   ]
  },
  {
   "cell_type": "code",
   "execution_count": null,
   "metadata": {
    "colab": {
     "base_uri": "https://localhost:8080/",
     "height": 330
    },
    "id": "bz3464LkutQx",
    "outputId": "abfc5e6e-a4d5-405b-90d9-cc2e9731efaf"
   },
   "outputs": [],
   "source": [
    "import matplotlib.gridspec as gridspec\n",
    "\n",
    "# Make a new figure with a constrained layout\n",
    "fig = plt.figure(constrained_layout=True)\n",
    "\n",
    "# Add a 3 by 3 grid\n",
    "gs = fig.add_gridspec(3, 3)\n",
    "\n",
    "# We want this subplot to take up the first row\n",
    "f_ax1 = fig.add_subplot(gs[0, :])\n",
    "f_ax1.plot(x,cosx, '.-')\n",
    "f_ax1.set_title('y=cos(x)')\n",
    "\n",
    "# We want this subplot to take up the second row but \n",
    "# not including the last column\n",
    "f_ax2 = fig.add_subplot(gs[1, :-1])\n",
    "f_ax2.plot(x,cosx**2, '.-')\n",
    "f_ax2.set_title('y=cos^2(x)')\n",
    "\n",
    "# We want this subplot to take up the second and\n",
    "# third rows in the last column\n",
    "f_ax3 = fig.add_subplot(gs[1:, -1])\n",
    "f_ax3.plot(x,np.cos(1/x), '.-')\n",
    "f_ax3.set_title('y=cos(1/x)')\n",
    "\n",
    "# We want this subplot to take up the first column on\n",
    "# the bottom row\n",
    "f_ax4 = fig.add_subplot(gs[-1, 0])\n",
    "f_ax4.plot(x,np.sin(x), '.-')\n",
    "f_ax4.set_title('y=sin(x)')\n",
    "\n",
    "# We want this subplot to take up the second column on\n",
    "# the bottom row\n",
    "f_ax5 = fig.add_subplot(gs[-1, -2])\n",
    "f_ax5.plot(x,np.sin(x**2), '.-')\n",
    "f_ax5.set_title('y=sin(x^2)')\n"
   ]
  },
  {
   "cell_type": "markdown",
   "metadata": {
    "id": "lTjiSrmewRSa"
   },
   "source": [
    "Play around with the above example - See if you can move the plot on the first row to the bottom row! How would you add an extra row and column?"
   ]
  },
  {
   "cell_type": "markdown",
   "metadata": {
    "id": "4V_6eHWlwiXQ"
   },
   "source": [
    "## Images"
   ]
  },
  {
   "cell_type": "markdown",
   "metadata": {
    "id": "Kz_J84KVwmN-"
   },
   "source": [
    "`matplotlib` also has an extremely useful module named `image` which lets you loading in and work with image data. "
   ]
  },
  {
   "cell_type": "code",
   "execution_count": null,
   "metadata": {
    "id": "wxArk8DFwhqw"
   },
   "outputs": [],
   "source": [
    "import matplotlib.image as mpimg"
   ]
  },
  {
   "cell_type": "markdown",
   "metadata": {},
   "source": [
    "For example, the below command loads in a picture named `turtle.png`."
   ]
  },
  {
   "cell_type": "code",
   "execution_count": null,
   "metadata": {},
   "outputs": [],
   "source": [
    "# Read in turtle pic\n",
    "turtlepic = mpimg.imread('./07_plotting_and_images/turtle.png')\n",
    "\n",
    "# Let's have a look at turtle pic\n",
    "print(turtlepic)\n",
    "print(turtlepic.shape)"
   ]
  },
  {
   "cell_type": "markdown",
   "metadata": {},
   "source": [
    "As you can see though, when we read in our turtle picture, `matplotlib` gives us a $315$ by $630$ by $3$ numpy array. This is because the image is $315$ by $630$ in dimension and each pixel is represented by a weighted mixture of three colors; red, green and blue (RGB). \n",
    "\n",
    "This makes sense but we still haven't actually displayed the image. To do that, we must use the `imshow` function as shown below:"
   ]
  },
  {
   "cell_type": "code",
   "execution_count": null,
   "metadata": {},
   "outputs": [],
   "source": [
    "plt.imshow(turtlepic)"
   ]
  },
  {
   "cell_type": "markdown",
   "metadata": {},
   "source": [
    "Great! We now have our turtle picture. We can display the different colour channels which make up this image using standard `numpy` array indexing (see [notebook 4](./nb_04_numpy.ipynb)) and the `set_cmap` function like so."
   ]
  },
  {
   "cell_type": "code",
   "execution_count": null,
   "metadata": {},
   "outputs": [],
   "source": [
    "imgplot=plt.imshow(turtlepic[:,:,0]) # This gives us the R (red values)\n",
    "imgplot.set_cmap('Reds')"
   ]
  },
  {
   "cell_type": "code",
   "execution_count": null,
   "metadata": {},
   "outputs": [],
   "source": [
    "imgplot=plt.imshow(turtlepic[:,:,1]) # This gives us the G (green values)\n",
    "imgplot.set_cmap('Greens')"
   ]
  },
  {
   "cell_type": "code",
   "execution_count": null,
   "metadata": {},
   "outputs": [],
   "source": [
    "imgplot=plt.imshow(turtlepic[:,:,2]) # This gives us the B (blue values)\n",
    "imgplot.set_cmap('Blues')"
   ]
  },
  {
   "cell_type": "markdown",
   "metadata": {},
   "source": [
    "If we wanted, we could also edit individual pixels manually using numpy:"
   ]
  },
  {
   "cell_type": "code",
   "execution_count": null,
   "metadata": {},
   "outputs": [],
   "source": [
    "# Lets add a dark green square to the image\n",
    "turtlepic[50:100,50:100,0]=0.1\n",
    "turtlepic[50:100,50:100,1]=0.3\n",
    "turtlepic[50:100,50:100,2]=0.1\n",
    "plt.imshow(turtlepic)"
   ]
  },
  {
   "cell_type": "markdown",
   "metadata": {},
   "source": [
    "The `matplotlib` `imshow` can be very useful when we are working with matrices. Consider the below small example where we have a $10$ by $10$ matrix."
   ]
  },
  {
   "cell_type": "code",
   "execution_count": null,
   "metadata": {},
   "outputs": [],
   "source": [
    "example = np.random.randn(10,10)\n",
    "example[2:5,2:5] = 4+np.random.randn(3,3)\n",
    "example"
   ]
  },
  {
   "cell_type": "markdown",
   "metadata": {},
   "source": [
    "Looking at this matrix in numerical form isn't very informative. It is often more practical to look at an image which represents this matrix like the below:"
   ]
  },
  {
   "cell_type": "code",
   "execution_count": null,
   "metadata": {},
   "outputs": [],
   "source": [
    "plt.imshow(example)\n",
    "plt.colorbar()"
   ]
  },
  {
   "cell_type": "markdown",
   "metadata": {},
   "source": [
    "The above $10$ by $10$ grid represents the $10$ by $10$ `example` matrix. In the above bright colours represent high values in the matrix and dark colours represent low values.\n",
    "\n",
    "In general it is much easier to identify a pattern using an image than it is using the numbers themselves! You can never underestimate the value of looking at your data pictorially!"
   ]
  },
  {
   "cell_type": "markdown",
   "metadata": {},
   "source": [
    "## 3D plots"
   ]
  },
  {
   "cell_type": "markdown",
   "metadata": {},
   "source": [
    "`matplotlib` also supports a range of 3D plotting options. We will only give an example of surface plots here but you can take a look at the full list of available options [here](https://matplotlib.org/3.2.1/gallery/index.html#mplot3d-examples-index) (there's a lot of choice)!\n",
    "\n",
    "To demonstrate the surface plotting tool, lets generate some random data using the equation:\n",
    "\n",
    "$$z=\\cos(y)+\\sin(x)$$"
   ]
  },
  {
   "cell_type": "code",
   "execution_count": null,
   "metadata": {},
   "outputs": [],
   "source": [
    "# Make a grid of values\n",
    "X = np.arange(-5, 5, 0.05)\n",
    "Y = np.arange(-5, 5, 0.05)\n",
    "X, Y = np.meshgrid(X, Y)\n",
    "\n",
    "# Get z\n",
    "Z = np.cos(Y)+np.sin(X)"
   ]
  },
  {
   "cell_type": "markdown",
   "metadata": {},
   "source": [
    "To create a 3D plot requires an extra import from the `mpl_toolkits` package on some operating systems but, beyond that, the syntax is essentially the same as we used for the 2D plots!"
   ]
  },
  {
   "cell_type": "code",
   "execution_count": null,
   "metadata": {},
   "outputs": [],
   "source": [
    "from mpl_toolkits.mplot3d import Axes3D\n",
    "\n",
    "# Make a 3D plot\n",
    "fig = plt.figure()\n",
    "ax = fig.gca(projection='3d')\n",
    "\n",
    "# Plot the surface.\n",
    "surf = ax.plot_surface(X, Y, Z,\n",
    "                       linewidth=0, antialiased=False)\n",
    "\n",
    "# Customize the axes\n",
    "ax.set_xlim(-5, 5)\n",
    "ax.set_ylim(-5, 5)\n",
    "\n",
    "# Show the image\n",
    "plt.show()"
   ]
  },
  {
   "cell_type": "markdown",
   "metadata": {},
   "source": [
    "Whilst surface plots often look good, it can be more informative to make a top down view of data with colours representing high and low values. We have already seen one method for doing this, with `imshow`. Another function for doing this is `pcolormesh`."
   ]
  },
  {
   "cell_type": "code",
   "execution_count": null,
   "metadata": {},
   "outputs": [],
   "source": [
    "im = plt.pcolormesh(X, Y, Z)\n",
    "plt.colorbar()"
   ]
  },
  {
   "cell_type": "markdown",
   "metadata": {},
   "source": [
    "Why do you think this might be a more informative display? Have a look at the `pcolormesh` [documentation](https://matplotlib.org/3.2.1/gallery/images_contours_and_fields/pcolormesh_levels.html). Why might `pcolormesh` be a better choice for contour plots than `imshow`?"
   ]
  },
  {
   "cell_type": "markdown",
   "metadata": {},
   "source": [
    "## Histograms"
   ]
  },
  {
   "cell_type": "markdown",
   "metadata": {},
   "source": [
    "`matplotlib` also provides a wide range of plotting functions beyond standard Cartesian plots like those above. For example, histograms can be made using the `hist` function. The below code demonstrates how a histogram can be produced from an array containing $1000$ 'observations'."
   ]
  },
  {
   "cell_type": "code",
   "execution_count": null,
   "metadata": {},
   "outputs": [],
   "source": [
    "# Generate 1000 datapoints\n",
    "example = np.random.randn(1000)\n",
    "\n",
    "# Make a histogram\n",
    "plt.figure() \n",
    "H = plt.hist(example,bins=30,density=False)\n",
    "plt.title(\"Normal Sample\")"
   ]
  },
  {
   "cell_type": "markdown",
   "metadata": {},
   "source": [
    "Check against the [documentation](https://matplotlib.org/3.1.1/api/_as_gen/matplotlib.pyplot.hist.html) to make sure you understand the arguments taken in by the `hist` function. \n",
    "\n",
    "A nice feature of `matplotlib` is that it allows us to show different types of displays on the same axes. For example, below we overlay the standard normal probability density function onto our histogram. In practice, this might be a useful thing to do as we can now see clearly whether the data appears to follow a standard normal distribution or not."
   ]
  },
  {
   "cell_type": "code",
   "execution_count": null,
   "metadata": {},
   "outputs": [],
   "source": [
    "# Make a histogram\n",
    "plt.figure() \n",
    "H = plt.hist(example,bins=30,density=True)\n",
    "plt.title(\"Normal Sample\")\n",
    "\n",
    "# Import the stats module from scipy\n",
    "from scipy import stats\n",
    "\n",
    "# Work out the x values we wish to plot\n",
    "x = np.linspace(-4,4,1000)\n",
    "\n",
    "# Plot the normal pdf against x\n",
    "plt.plot(x, stats.norm.pdf(x), color='black', linewidth=2, label='normal')"
   ]
  },
  {
   "cell_type": "markdown",
   "metadata": {},
   "source": [
    "## Boxplots"
   ]
  },
  {
   "cell_type": "markdown",
   "metadata": {},
   "source": [
    "`matplotlib` also supports boxplots..."
   ]
  },
  {
   "cell_type": "code",
   "execution_count": null,
   "metadata": {},
   "outputs": [],
   "source": [
    "# Make up some skew-normal data\n",
    "data = stats.skewnorm.rvs(5, size=1000)\n",
    "\n",
    "# Create a new subplot\n",
    "fig1, ax1 = plt.subplots()\n",
    "\n",
    "# Give it a title\n",
    "ax1.set_title('Basic Plot')\n",
    "\n",
    "# Make a boxplot\n",
    "ax1.boxplot(data)"
   ]
  },
  {
   "cell_type": "markdown",
   "metadata": {},
   "source": [
    "## Pie charts"
   ]
  },
  {
   "cell_type": "markdown",
   "metadata": {},
   "source": [
    "And pie charts..."
   ]
  },
  {
   "cell_type": "code",
   "execution_count": null,
   "metadata": {},
   "outputs": [],
   "source": [
    "# Name the slices\n",
    "labels = 'Slice 1', 'Slice 2', 'Slice 3'\n",
    "\n",
    "# Specify slice sizes\n",
    "sizes = [15, 30, 45]\n",
    "\n",
    "# Define how much the slices should \"explode\"/be pulled out\n",
    "explode = (0, 0.1, 0)  \n",
    "\n",
    "# Make a plot\n",
    "fig1, ax1 = plt.subplots()\n",
    "\n",
    "# Make the pie chart\n",
    "ax1.pie(sizes, explode=explode, labels=labels, autopct='%1.1f%%',\n",
    "        shadow=True, startangle=90)\n",
    "\n",
    "# Show the pie chart\n",
    "plt.show()"
   ]
  },
  {
   "cell_type": "markdown",
   "metadata": {},
   "source": [
    "## Polar coordinates"
   ]
  },
  {
   "cell_type": "markdown",
   "metadata": {},
   "source": [
    "And even allows you to make a plot using polar coordinates! In the below example, we plot the equation:\n",
    "$$r\\ =\\sin^2(2.4\\theta)+\\cos(2.4\\theta)$$"
   ]
  },
  {
   "cell_type": "code",
   "execution_count": null,
   "metadata": {},
   "outputs": [],
   "source": [
    "theta = np.linspace(0,40*np.pi,3000)\n",
    "r = np.sin(2.4*theta)**2+np.cos(2.4*theta)\n",
    "\n",
    "plt.polar(theta,r)"
   ]
  },
  {
   "cell_type": "markdown",
   "metadata": {},
   "source": [
    "## And much more..."
   ]
  },
  {
   "cell_type": "markdown",
   "metadata": {},
   "source": [
    "This notebook has barely scratched the surface of the `matplotlib` package. `matplotlib` supports a wide range of other features including:\n",
    "\n",
    " - bar charts\n",
    " - scatter plots\n",
    " - stem plots\n",
    " - barcode diagrams\n",
    " - violin plots\n",
    " - formatted tables\n",
    " - latex equations\n",
    " - animated figures\n",
    " - quiver plots\n",
    " - And much more...\n",
    " \n",
    "See the [documentation](https://matplotlib.org/tutorials) for more details!"
   ]
  },
  {
   "cell_type": "markdown",
   "metadata": {
    "id": "Z0B7UhU9oPOD"
   },
   "source": [
    "# Exercises"
   ]
  },
  {
   "cell_type": "markdown",
   "metadata": {
    "id": "0OOKtyO6okWX"
   },
   "source": [
    "**Question 1:** Generate $1000$ random samples from the [Rayleigh distribution](https://en.wikipedia.org/wiki/Rayleigh_distribution). Using your samples make a histogram. On top of the histogram overlay the Rayleigh probability density function. "
   ]
  },
  {
   "cell_type": "code",
   "execution_count": null,
   "metadata": {},
   "outputs": [],
   "source": [
    "# Write your answer here"
   ]
  },
  {
   "cell_type": "markdown",
   "metadata": {
    "id": "WguXXonGoVlG"
   },
   "source": [
    "**Question 2:** Using `matplotlib`, plot $x$ against $y$ for $x$ and $y$ defined by:\n",
    "\n",
    "$$x(t)=t-1.6\\cos(25t)$$\n",
    "$$y(t)=t-1.6\\cos(26t)$$\n",
    "\n",
    "for $t \\in [-3\\pi,2\\pi]$. "
   ]
  },
  {
   "cell_type": "code",
   "execution_count": null,
   "metadata": {},
   "outputs": [],
   "source": [
    "# Write your answer here"
   ]
  },
  {
   "cell_type": "markdown",
   "metadata": {},
   "source": [
    "**Bonus:** In the `07_plotting_and_images` there is a file named `bigFunction.py`. `bigFunction.py` contains some truly horrible code, which is not worth looking at (seriously, you have been warned!). \n",
    "\n",
    "Using what you learnt in [notebook 2](./nb_02_functions_modules_and_packages.ipynb) import the function `getxy` from `bigFunction.py`. In a similar manner to the code you should have written above, `getxy` will take as input a numpy array of `t` values and return a numpy array of `x` values and a numpy array of `y` values.\n",
    "\n",
    "For $t \\in [0, 96\\pi]$, plot arrays of $x$ values and $y$ values generated using `getxy` against one another."
   ]
  },
  {
   "cell_type": "code",
   "execution_count": null,
   "metadata": {},
   "outputs": [],
   "source": [
    "# Write your answer here"
   ]
  },
  {
   "cell_type": "markdown",
   "metadata": {},
   "source": [
    "**Question 3:** In Question 5 of [notebook 6](nb_06_scipy.ipynb), you met the below integral: $$g(\\alpha)=\\int_{0}^2[2+\\sin(10\\alpha)]x^\\alpha\\sin\\bigg(\\frac{\\alpha}{2-x}\\bigg)dx$$\n",
    "\n",
    "In this question, we will look more closely at the function inside the integral, which we will denote $t(\\alpha,x)$\n",
    "\n",
    "$$t(\\alpha,x)=[2+\\sin(10\\alpha)]x^\\alpha\\sin\\bigg(\\frac{\\alpha}{2-x}\\bigg)$$\n",
    "\n",
    "For $x$ in $[0,1.999]$, plot $t(\\alpha)$ for at least $5$ different values of $\\alpha$ in $[0,5]$. Do the $5$ plots using the `matplotlib` `subplot` function. Do these plots help you with your answer to Question 5 of [notebook 6](nb_06_scipy.ipynb)?"
   ]
  },
  {
   "cell_type": "code",
   "execution_count": null,
   "metadata": {},
   "outputs": [],
   "source": [
    "# Write your answer here."
   ]
  },
  {
   "cell_type": "markdown",
   "metadata": {
    "id": "o-mXq-9tpHj5"
   },
   "source": [
    "**Question 4:** In Question 4 of [notebook 6](nb_06_scipy.ipynb), you met the below function: \n",
    "\n",
    "$$f(x,y)=\\exp (\\sin (50x))+\\sin (60e^y)+\\sin (70\\sin(x))+\\sin (\\sin (80y))-\\sin (10(x+y))+\\frac{1}{4}(x^2+y^2)$$\n",
    "\n",
    "Make a 3D plot of this function. What does this plot tell you about your answer to Question 4 of [notebook 6](nb_06_scipy.ipynb)?"
   ]
  },
  {
   "cell_type": "code",
   "execution_count": null,
   "metadata": {},
   "outputs": [],
   "source": [
    "# Write your answer here"
   ]
  },
  {
   "cell_type": "markdown",
   "metadata": {
    "id": "PLeHAuRXoSuu"
   },
   "source": [
    "**Question 5:** This is Alex:\n",
    "\n",
    "<details>\n",
    "    \n",
    "![Alex](07_plotting_and_images/Alex.jpg)\n",
    "\n",
    "</details>\n",
    "\n",
    "Alex wants a hat. Use the `matplotlib` `imread` to load in `07_plotting_and_images/Alex.jpg`. By changing pixel values using `numpy` array indexing, or by using any python package of your choosing, draw Alex a hat. I.e. create an image which looks something like this: \n",
    "\n",
    "<details>\n",
    "    \n",
    "![Alex](07_plotting_and_images/AlexHat.jpg)\n",
    "\n",
    "</details>\n",
    "\n",
    "Best hat wins!"
   ]
  },
  {
   "cell_type": "code",
   "execution_count": null,
   "metadata": {},
   "outputs": [],
   "source": [
    "# Write your answer here"
   ]
  }
 ],
 "metadata": {
  "colab": {
   "collapsed_sections": [],
   "name": "nb_07_plotting_and_images.ipynb",
   "provenance": []
  },
  "kernelspec": {
   "display_name": "Python 3",
   "language": "python",
   "name": "python3"
  },
  "language_info": {
   "codemirror_mode": {
    "name": "ipython",
    "version": 3
   },
   "file_extension": ".py",
   "mimetype": "text/x-python",
   "name": "python",
   "nbconvert_exporter": "python",
   "pygments_lexer": "ipython3",
   "version": "3.7.2"
  }
 },
 "nbformat": 4,
 "nbformat_minor": 1
}
