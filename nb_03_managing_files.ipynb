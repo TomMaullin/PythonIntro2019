{
 "cells": [
  {
   "cell_type": "markdown",
   "metadata": {},
   "source": [
    "# Notebook 3: Managing files"
   ]
  },
  {
   "cell_type": "markdown",
   "metadata": {},
   "source": [
    "This notebook focuses on file management in Python. We shall touch on the following packages as well as built in python functions:\n",
    "\n",
    " - `os`\n",
    " - `shutil`\n",
    " - `re`\n",
    " - `glob`\n",
    "\n",
    "The `os` and `shutil` packages are particularly useful for manipulating files and directories whilst `glob` and `re` are designed to help manipulate paths and expressions."
   ]
  },
  {
   "cell_type": "markdown",
   "metadata": {},
   "source": [
    "### Table of Contents\n",
    "\n",
    " - [Notebook 0: Introduction](./nb_00_introduction.ipynb)\n",
    " - [Notebook 1: Datatypes, loops and logic](./nb_01_datatypes_loops_and_logic.ipynb)\n",
    " - [Notebook 2: Functions, modules and packages](./nb_02_functions_modules_and_packages.ipynb)\n",
    " - [**Notebook 3: Managing files**](./nb_03_managing_files.ipynb)\n",
    "   - [Built in Python functions for reading and writing files](#Built-in-Python-functions-for-reading-and-writing-files)\n",
    "   - [The os package](#The-os-package)\n",
    "     - [Listing the contents of a directory](#Listing-the-contents-of-a-directory)\n",
    "     - [Making directories with os](#Making-directories-with-os)\n",
    "     - [Deleting directories with os](#Deleting-directories-with-os)\n",
    "     - [Moving files with os](#Moving-files-with-os)\n",
    "     - [Removing files with os](#Removing-files-with-os)\n",
    "     - [Walking a directory tree with os](#Walking-a-directory-tree-with-os)\n",
    "     - [Manipulating filepaths with os](#Manipulating-filepaths-with-os)\n",
    "     - [Other useful os functions](#Other-useful-os-functions)\n",
    "   - [The shutil package](#The-shutil-package)\n",
    "     - [Removing directories with shutil](#Removing-directories-with-shutil)\n",
    "     - [Copying directories with shutil](#Copying-directories-with-shutil)\n",
    "   - [The re package](#The-re-package)\n",
    "   - [The glob package](#The-glob-package)\n",
    "   - [Exercises](#Exercises) (Recommended)\n",
    "     \n",
    "     \n",
    " - [Notebook 4: Numpy](./nb_04_numpy.ipynb)\n",
    " - [Notebook 5: Pandas](./nb_05_pandas.ipynb)\n",
    " - [Notebook 6: Scipy](./nb_06_scipy.ipynb)\n",
    " - [Notebook 7: Plotting and images](./nb_07_plotting_and_images.ipynb)\n",
    " - [Notebook 8: Object Oriented Programming](./nb_08_object_oriented_programming.ipynb)"
   ]
  },
  {
   "cell_type": "markdown",
   "metadata": {},
   "source": [
    "## Built in Python functions for reading and writing files"
   ]
  },
  {
   "cell_type": "markdown",
   "metadata": {},
   "source": [
    "Before diving into packages for file management, we will first talk about the inbuilt Python functions for reading and writing files.\n",
    "\n",
    "In Python, you can read and write files using the `with` keyword, `as` keyword and the `open` function. This may sound complex but the syntax is designed to be relatively intuitive:"
   ]
  },
  {
   "cell_type": "code",
   "execution_count": null,
   "metadata": {},
   "outputs": [],
   "source": [
    "# Open the file and read it\n",
    "with open('./03_managing_files/file2.txt', 'r') as file:\n",
    "    print(file.read())"
   ]
  },
  {
   "cell_type": "markdown",
   "metadata": {},
   "source": [
    "Let's look a bit more at what just happened here. \n",
    "\n",
    "The `open` function took in two inputs; the filename and the mode. \n",
    "- The filename is the name of file we want to look at. In this case we used a relative path (don't worry if you are not familiar with the term 'relative'; we will cover exactly what this is later).\n",
    "- The mode tells us how we wish to treat the file. For example, 'r' means read-only access, 'w' means write over the file and 'a' means append to the file.\n",
    "\n",
    "The `open` function has given us an object which we have named `file`. Using this object we can read and write to the file we are interested in. An example of how we can write to a file is given below (have a look at the file before and after running the below code to make sure you understand what is happening here)."
   ]
  },
  {
   "cell_type": "code",
   "execution_count": null,
   "metadata": {},
   "outputs": [],
   "source": [
    "# Open the file and read it\n",
    "with open('./03_managing_files/file2.txt', 'a') as file:\n",
    "    file.write('\\n oh look, we have added a new line')"
   ]
  },
  {
   "cell_type": "markdown",
   "metadata": {},
   "source": [
    " > **Note:** Much like in the loops and conditional statements in Notebook 1, the `with` statement must be consistently indented and have a correctly placed colon. Failure to do this will give some, potentially very confusing, errors!\n",
    "\n",
    " > **Note:** It is important to do all operations on the `file` object inside the indented section of the `with` statement. Outside the `with` statement the file object is no longer \"connected\" to the file in the sense that you can no longer read or write to the file using the file object."
   ]
  },
  {
   "cell_type": "markdown",
   "metadata": {},
   "source": [
    "## The `os` package"
   ]
  },
  {
   "cell_type": "markdown",
   "metadata": {},
   "source": [
    "The letters `os` stand for Operating System. Perhaps unsurprisingly, the `os` package in Python deals with \"Miscellaneous operating system interfaces\". To get started, let's import `os` and also `os.path` (which is particularly useful for path management)."
   ]
  },
  {
   "cell_type": "code",
   "execution_count": null,
   "metadata": {},
   "outputs": [],
   "source": [
    "import os\n",
    "import os.path"
   ]
  },
  {
   "cell_type": "markdown",
   "metadata": {},
   "source": [
    "One of the most useful features of the `os` package is it's ability to get and set the working directory (the path/location you are currently working in). For example;"
   ]
  },
  {
   "cell_type": "code",
   "execution_count": null,
   "metadata": {},
   "outputs": [],
   "source": [
    "# Get the current working directory\n",
    "print(\"This is our current working directory:\")\n",
    "print(os.getcwd())"
   ]
  },
  {
   "cell_type": "code",
   "execution_count": null,
   "metadata": {},
   "outputs": [],
   "source": [
    "# Set the current working directory to the \n",
    "# '03_managing_files' folder. We will need \n",
    "# to be in this directory for the rest of  \n",
    "# this notebook.\n",
    "os.chdir(\"03_managing_files\")\n",
    "\n",
    "# Print the new current working directory.\n",
    "print(\"We have now changed directory to:\")\n",
    "print(os.getcwd())"
   ]
  },
  {
   "cell_type": "markdown",
   "metadata": {},
   "source": [
    "### Listing the contents of a directory"
   ]
  },
  {
   "cell_type": "markdown",
   "metadata": {},
   "source": [
    "The `os` package also allows us to list the contents of a directory using the function `listdir` (for those familiar with `unix` commands this is very similar to the unix `ls` command). For example;"
   ]
  },
  {
   "cell_type": "code",
   "execution_count": null,
   "metadata": {},
   "outputs": [],
   "source": [
    "# Get the current working directory\n",
    "pwd = os.getcwd()\n",
    "print(\"Present working directory: \\n\", pwd, \"\\n\")\n",
    "\n",
    "# List the contents of the directory\n",
    "# (we use the join function to insert a newline\n",
    "# character, `\\n` between each entry in contents)\n",
    "contents = os.listdir(pwd)\n",
    "print(\"Directory Contents:\") \n",
    "print('\\n'.join(contents))"
   ]
  },
  {
   "cell_type": "markdown",
   "metadata": {},
   "source": [
    " > **Note**: The function `os.scandir` operates in a similar manor to `os.listdir` and is a good alternative for directories with large contents."
   ]
  },
  {
   "cell_type": "markdown",
   "metadata": {},
   "source": [
    "### Making directories with `os`"
   ]
  },
  {
   "cell_type": "markdown",
   "metadata": {},
   "source": [
    "The function `os.mkdir` can be used to make a directory in Python. The function `os.makedirs` is also similar, but allows us to make nested dirctories, i.e. directories within directories (this mimics the unix `mkdir -p` command)."
   ]
  },
  {
   "cell_type": "code",
   "execution_count": null,
   "metadata": {},
   "outputs": [],
   "source": [
    "# List the contents of the directory\n",
    "contents = os.listdir(pwd)\n",
    "print(\"Old Directory Contents: \") \n",
    "print('\\n'.join(contents))\n",
    "\n",
    "# Make a new directory\n",
    "os.mkdir('directoryWeJustMade')\n",
    "\n",
    "# List the contents of the directory\n",
    "contents = os.listdir(pwd)\n",
    "print(\"\\nDirectory Contents (after `mkdir`): \") \n",
    "print('\\n'.join(contents))\n",
    "\n",
    "# Make a new directory heirachy\n",
    "os.makedirs('nested/directories/we/just/made')\n",
    "\n",
    "# List the contents of the directory\n",
    "contents = os.listdir(pwd)\n",
    "print(\"\\nDirectory Contents (after `makedirs`): \") \n",
    "print('\\n'.join(contents))"
   ]
  },
  {
   "cell_type": "markdown",
   "metadata": {},
   "source": [
    "### Deleting directories with `os`"
   ]
  },
  {
   "cell_type": "markdown",
   "metadata": {},
   "source": [
    "We can also remove empty directories and empty nested directories in a similar fashion using `os.rmdir` and `os.removedirs` (which again mimics the unix command `rmdir -p`);"
   ]
  },
  {
   "cell_type": "code",
   "execution_count": null,
   "metadata": {},
   "outputs": [],
   "source": [
    "# List the contents of the directory\n",
    "contents = os.listdir(pwd)\n",
    "print(\"Old Directory Contents: \") \n",
    "print('\\n'.join(contents))\n",
    "\n",
    "# Make a new directory\n",
    "os.rmdir('directoryWeJustMade')\n",
    "\n",
    "# List the contents of the directory\n",
    "contents = os.listdir(pwd)\n",
    "print(\"\\nNew Directory Contents (after `rmdir`): \") \n",
    "print('\\n'.join(contents))\n",
    "\n",
    "# Make a new directory heirachy\n",
    "os.removedirs('nested/directories/we/just/made')\n",
    "\n",
    "# List the contents of the directory\n",
    "contents = os.listdir(pwd)\n",
    "print(\"\\nDirectory Contents (after `removedirs`): \") \n",
    "print('\\n'.join(contents))"
   ]
  },
  {
   "cell_type": "markdown",
   "metadata": {},
   "source": [
    " > **Note:** An important footnote here is that the above functions **only remove empty directories**! To remove directories which contain files, you will need to use the `shutil.rmtree` function (see the `shutil` section of this notebook for more information)."
   ]
  },
  {
   "cell_type": "markdown",
   "metadata": {},
   "source": [
    "### Moving files with `os`"
   ]
  },
  {
   "cell_type": "markdown",
   "metadata": {},
   "source": [
    "We can move files in Python using `os.rename` (this mimics the behaviour of the Unix command `mv`).\n",
    "\n",
    " > **Note:** If you try to use `os.rename` to give a file the name of a file which already exists, you will write over the file which already exists and python will give you no errors or warnings! Be very careful here; especially when working with files which have similar names to one another!"
   ]
  },
  {
   "cell_type": "code",
   "execution_count": null,
   "metadata": {},
   "outputs": [],
   "source": [
    "# Make a file for example\n",
    "with open('file4.txt', 'wt') as f:\n",
    "    f.write('Oh look, some text in a file')\n",
    "print(os.listdir())\n",
    "\n",
    "# Move the file\n",
    "os.rename('file4.txt', 'file3.txt')\n",
    "print(os.listdir())\n",
    "\n",
    "# CAUTION: Running the below will write over `file1.txt`\n",
    "# without warning!\n",
    "os.rename('file3.txt', 'file1.txt')\n",
    "print(os.listdir())"
   ]
  },
  {
   "cell_type": "markdown",
   "metadata": {},
   "source": [
    "### Removing files with `os`"
   ]
  },
  {
   "cell_type": "markdown",
   "metadata": {},
   "source": [
    "In Python, files can be removed with the function `os.remove` (this mimics the Unix command `rm`)."
   ]
  },
  {
   "cell_type": "code",
   "execution_count": null,
   "metadata": {},
   "outputs": [],
   "source": [
    "# Make a file for example\n",
    "with open('file3.txt', 'wt') as f:\n",
    "    f.write('Oh look, some text in a file')\n",
    "print(os.listdir())\n",
    "\n",
    "# Remove the file\n",
    "os.remove('file3.txt')\n",
    "print(os.listdir())"
   ]
  },
  {
   "cell_type": "markdown",
   "metadata": {},
   "source": [
    "### Walking a directory tree with `os`"
   ]
  },
  {
   "cell_type": "markdown",
   "metadata": {},
   "source": [
    "The `os` package also provides a particularly useful function for recursively moving through a directory; `os.walk`. \n",
    "\n",
    "Whilst `os.listdir` lets us look at the contents of a directory, `os.walk` lets us look at the contents of all subfolders of that directory (and all subfolders of those subfolders, and all subfolders of those subfolders of those subfolders,... and so on). \n",
    "\n",
    "To understand how this works, consider the below example:"
   ]
  },
  {
   "cell_type": "code",
   "execution_count": null,
   "metadata": {},
   "outputs": [],
   "source": [
    "# Let's move up a directory to give a clear demonstration\n",
    "pwd = os.getcwd()\n",
    "os.chdir('..')\n",
    "print('We are looking at the following directory: ', os.getcwd())\n",
    "\n",
    "# Now let's have a look at all of the files and folders inside\n",
    "# our working directory\n",
    "for root, dirs, files in os.walk(os.getcwd()):\n",
    "    \n",
    "    # The variable `root` in this example gives us \n",
    "    # the current directory we are looking at\n",
    "    print('\\nCurrent directory: ', root)\n",
    "    \n",
    "    # The sub-directories of root are given by the variable\n",
    "    # `dirs` in this example\n",
    "    print('\\n  Sub-directories:')\n",
    "    print('\\n'.join(['    {}'.format(d) for d in dirs]))\n",
    "    \n",
    "    # The variable `files` in this example gives us all files\n",
    "    # root\n",
    "    print('\\n  Files:')\n",
    "    print('\\n'.join(['    {}'.format(f) for f in files]))\n",
    "\n",
    "# Lets move back to our working directory\n",
    "os.chdir(pwd)"
   ]
  },
  {
   "cell_type": "markdown",
   "metadata": {},
   "source": [
    "By default, `os.walk` searches directories breadth-first (i.e. it considers all the highest level folders and files first and then once it has considered all of the top-level files, it moves downwards). \n",
    "\n",
    "However, we can chage this to use a depth-first search (which instantly looks inside each folder it comes across; and works it's way to the lowest level files before considering the remaining files in the higher levels above). This can be done using the `topdown` parameter like so: "
   ]
  },
  {
   "cell_type": "code",
   "execution_count": null,
   "metadata": {},
   "outputs": [],
   "source": [
    "# Let's move up a directory to give a clear demonstration\n",
    "pwd = os.getcwd()\n",
    "os.chdir('..')\n",
    "print('We are looking at the following directory: ', os.getcwd())\n",
    "\n",
    "# Now let's have a look at all of the files and folders inside\n",
    "# our working directory\n",
    "for root, dirs, files in os.walk(os.getcwd(), topdown=False):\n",
    "    \n",
    "    # The variable `root` in this example gives us \n",
    "    # the current directory we are looking at\n",
    "    print('\\nCurrent directory: ', root)\n",
    "    \n",
    "    # The sub-directories of root are given by the variable\n",
    "    # `dirs` in this example\n",
    "    print('\\n  Sub-directories:')\n",
    "    print('\\n'.join(['    {}'.format(d) for d in dirs]))\n",
    "    \n",
    "    # The variable `files` in this example gives us all files\n",
    "    # root\n",
    "    print('\\n  Files:')\n",
    "    print('\\n'.join(['    {}'.format(f) for f in files]))\n",
    "\n",
    "# Lets move back to our working directory\n",
    "os.chdir(pwd)"
   ]
  },
  {
   "cell_type": "markdown",
   "metadata": {},
   "source": [
    " > **Note:** Beyond the search method, by default, no ordering is enforced on the files output by `os.walk`. Options are available to remedy this, however (see [the documentation](https://docs.python.org/3.5/library/os.html#os.walk) for more information)."
   ]
  },
  {
   "cell_type": "markdown",
   "metadata": {},
   "source": [
    "### Manipulating filepaths with `os`"
   ]
  },
  {
   "cell_type": "markdown",
   "metadata": {},
   "source": [
    "`os` contains a great package for manipulating filepaths. It is called `os.path`. We imported it earlier!\n",
    "\n",
    "Some particularly useful functions in `os.path`, which can be used to check whether a filepath corresponds to some existing object, include:\n",
    "\n",
    " - `os.path.isfile`: This checks if a path represents an existing file.\n",
    " - `os.path.isdir`: This checks if a path represents an existing directory.\n",
    " - `os.path.exists`: This is much more general and checks whether the path represents any existing object.\n",
    " \n",
    "For example;\n"
   ]
  },
  {
   "cell_type": "code",
   "execution_count": null,
   "metadata": {},
   "outputs": [],
   "source": [
    "print('-------------------------------')\n",
    "\n",
    "# Let's see whether some files exist\n",
    "print(os.path.isfile(\"file1.txt\"))\n",
    "print(os.path.isfile(\"file9.txt\"))\n",
    "print('-------------------------------')\n",
    "\n",
    "# Let's see whether some directories exist\n",
    "print(os.path.isdir(\"../03_managing_files\"))\n",
    "print(os.path.isfile(\"directoryName\"))\n",
    "print('-------------------------------')\n",
    "\n",
    "# Let's see what happens when we try the exists function\n",
    "# on these files:\n",
    "print(os.path.exists(\"../03_managing_files\"))\n",
    "print(os.path.exists(\"file1.txt\"))\n",
    "print(os.path.exists(\"directoryName\"))\n",
    "print('-------------------------------')"
   ]
  },
  {
   "cell_type": "markdown",
   "metadata": {},
   "source": [
    "A great feature of the `os.path` package is that it includes some very convenient tools for constructing paths. For example, you often may need to switch between relative and absolute paths. \n",
    "\n",
    " > **Relative and Absolute Paths**\n",
    " >\n",
    " > A relative path is a path which specifies a location of a directory relative to another directory. Typically we talk about relative paths in relation to our current working directory. (e.g. `./folder/we/want`)\n",
    " >\n",
    " > An absolute path is a path which details entirely the location of a file or folder, starting from the root directory and ending with the file or folder itself. (e.g. `C:/Complete/Path/all/the/way/to/folder/we/want`)\n",
    "\n",
    "In Python, we can switch between absolute paths and relative paths (in relation to the current working directory) using the `os.abspath` and `os.relpath` functions. For example;"
   ]
  },
  {
   "cell_type": "code",
   "execution_count": null,
   "metadata": {},
   "outputs": [],
   "source": [
    "# Absolute path from a relative path\n",
    "abspath = os.path.abspath('this/is/a/path/to/file.txt')\n",
    "print('Absolute path: ', abspath)\n",
    "\n",
    "# Relative path from an absolute path\n",
    "relpath = os.path.relpath(abspath)\n",
    "print('Relative path: ', relpath)"
   ]
  },
  {
   "cell_type": "markdown",
   "metadata": {},
   "source": [
    "Other attributes and functions in `os` and `os.path` which are particularly useful for constructing paths (and whose use, when manipulating filepaths, are highly recommended) include:\n",
    "\n",
    " - `os.path.join` - This will automatically join directories and filenames to form a path.\n",
    " - `os.sep` - This gives the separator character which is used in file paths on your platform.\n",
    " - `os.pathsep` - This gives the separator character which is used in your `$PATH`  environment variable.\n",
    " \n",
    "The above functions are particularly useful for cross-platform compatibility as Windows often uses `\\` or `\\\\` as a file seperator whilst `/` is used on Mac and Linux. \n",
    "\n",
    "Examples of these are given below:"
   ]
  },
  {
   "cell_type": "code",
   "execution_count": null,
   "metadata": {},
   "outputs": [],
   "source": [
    "# sep\n",
    "print(\"sep: \", os.sep)\n",
    "print(\"pathsep: \", os.pathsep)\n",
    "\n",
    "# Join example\n",
    "print(os.path.join('a','b','c'))"
   ]
  },
  {
   "cell_type": "markdown",
   "metadata": {},
   "source": [
    "\n",
    " > **Note**: If you are regularly working with filepaths, you may very likely run into a `FileNotFoundError` error at some point! One common cause of this is using `/` instead of `\\` or vice versa! To fix this always use the `sep` attribute of `os`!"
   ]
  },
  {
   "cell_type": "markdown",
   "metadata": {},
   "source": [
    "`os.path` also includes some great tools for deconstructing paths. In particular, the following functions are extremely useful:\n",
    "\n",
    " - `os.path.dirname`: This returns the directory from a path.\n",
    " - `os.path.basename`: This returns the file (or bottom-level folder) name (with extension) from a path.\n",
    " - `os.path.split`: This returns a list containing both the directory name and the bottom-level file/folder name (with extension).\n",
    " - `os.path.splitext`: This returns a list containing the filename and extension of a file.\n",
    "\n",
    "For example;"
   ]
  },
  {
   "cell_type": "code",
   "execution_count": null,
   "metadata": {},
   "outputs": [],
   "source": [
    "# Make an example path\n",
    "examplepath = '/a/b/c.txt'\n",
    "\n",
    "# Directory name\n",
    "print('Directory name: ', os.path.dirname(examplepath))\n",
    "\n",
    "# File name\n",
    "print('Base name: ', os.path.basename(examplepath))\n",
    "\n",
    "# Directory name and File name\n",
    "print('Split output: ', os.path.split(examplepath))\n",
    "\n",
    "# File name and extension\n",
    "print('Splitext output: ', os.path.splitext(examplepath))"
   ]
  },
  {
   "cell_type": "markdown",
   "metadata": {},
   "source": [
    "### Other useful `os` functions"
   ]
  },
  {
   "cell_type": "markdown",
   "metadata": {},
   "source": [
    "Some other mention-worthy `os` operations that are particularly handy and crop up from time to time are:\n",
    "\n",
    " - `os.path.expanduser`: On Unix and Windows, this function replaces `~` or `~user` in a path with your home directory.\n",
    " - `os.path.expandvars`: This function expands any environment variables in a path."
   ]
  },
  {
   "cell_type": "code",
   "execution_count": null,
   "metadata": {},
   "outputs": [],
   "source": [
    "print(os.path.expanduser('~'))\n",
    "print(os.path.expandvars('$HOME'))"
   ]
  },
  {
   "cell_type": "markdown",
   "metadata": {},
   "source": [
    "## The `shutil` package"
   ]
  },
  {
   "cell_type": "markdown",
   "metadata": {},
   "source": [
    "Another useful package for working with and manipulating files and paths is the `shutil` (short for \"Shell Utility\") package. Full documentation for the `shutil` package can be found [here](https://docs.python.org/3/library/shutil.html). In general, `shutil` provides many extremely useful higher level file operations, a full list of which would be too numerous to cover in this course.\n",
    "\n",
    "However, there are a few `shutil` functions which deserves a special mention as they perform extremely commonly required operations that are not provided by `os`."
   ]
  },
  {
   "cell_type": "code",
   "execution_count": null,
   "metadata": {},
   "outputs": [],
   "source": [
    "import shutil"
   ]
  },
  {
   "cell_type": "markdown",
   "metadata": {},
   "source": [
    "### Removing directories with `shutil`"
   ]
  },
  {
   "cell_type": "markdown",
   "metadata": {},
   "source": [
    "`shutil` can be used to remove whole directory trees (i.e. directories and all their contents) with the function `shutil.rmtree` (remember `os` can only be used for the removal of files and **empty** directories). For example;"
   ]
  },
  {
   "cell_type": "code",
   "execution_count": null,
   "metadata": {},
   "outputs": [],
   "source": [
    "# Let's make a directory\n",
    "os.mkdir('exampledir')\n",
    "\n",
    "# Let's make a file in the directory\n",
    "with open('exampledir/examplefile.txt', 'wt') as f:\n",
    "    f.write('example text')\n",
    "print(os.listdir())\n",
    "\n",
    "# Now lets remove the whole directory in one go with `shutil`\n",
    "shutil.rmtree('exampledir')\n",
    "print(os.listdir())"
   ]
  },
  {
   "cell_type": "markdown",
   "metadata": {},
   "source": [
    "### Copying directories with `shutil`"
   ]
  },
  {
   "cell_type": "markdown",
   "metadata": {},
   "source": [
    "`shutil` can also copy directories; like so:"
   ]
  },
  {
   "cell_type": "code",
   "execution_count": null,
   "metadata": {},
   "outputs": [],
   "source": [
    "# Let's make a directory\n",
    "os.mkdir('exampledir')\n",
    "\n",
    "# Let's make a file in the directory\n",
    "with open('exampledir/examplefile.txt', 'wt') as f:\n",
    "    f.write('example text')\n",
    "print(os.listdir())\n",
    "\n",
    "# Now lets copy the whole directory in one go with `shutil`\n",
    "shutil.copytree('exampledir','exampledir_copy')\n",
    "print(os.listdir())\n",
    "\n",
    "# Remove directories\n",
    "shutil.rmtree('exampledir')\n",
    "shutil.rmtree('exampledir_copy')\n",
    "print(os.listdir())"
   ]
  },
  {
   "cell_type": "markdown",
   "metadata": {},
   "source": [
    "# The `re` package"
   ]
  },
  {
   "cell_type": "markdown",
   "metadata": {},
   "source": [
    "Another useful package for filepath manipulation is the `re` package, which provides support for regular expressions in Python. If you are not familiar with regular expressions feel free to skip this section and the following section of the notebook. Alternatively, if you are interested in learning more about regular expressions [this link](https://www.regular-expressions.info/) provides a good introduction."
   ]
  },
  {
   "cell_type": "code",
   "execution_count": null,
   "metadata": {},
   "outputs": [],
   "source": [
    "import re"
   ]
  },
  {
   "cell_type": "markdown",
   "metadata": {},
   "source": [
    "A full discussion of regular expressions is beyond the scope of this practical. However, for those who are familiar with regular expressions a few quick examples are given below demonstrating the use of the `re` package when searching for files."
   ]
  },
  {
   "cell_type": "code",
   "execution_count": null,
   "metadata": {},
   "outputs": [],
   "source": [
    "# In our folder we have 3 files\n",
    "print(os.listdir())\n",
    "\n",
    "# Scenario 1\n",
    "# ------------------------------------------------\n",
    "# Suppose we want all files whith a filename\n",
    "# of the form \"file.\\.txt\" (i.e. with only one\n",
    "# character following the filename)\n",
    "p = [f for f in os.listdir() if re.match(r'file.\\.txt', f)]\n",
    "print(p)\n",
    "\n",
    "# Scenario 2\n",
    "# ------------------------------------------------\n",
    "# Suppose we want all files which a filename\n",
    "# of the form \"file[0-9]\\.txt\" (i.e. with only one\n",
    "# numeric character following the filename)\n",
    "p = [f for f in os.listdir() if re.match(r'file[0-9]\\.txt', f)]\n",
    "print(p)"
   ]
  },
  {
   "cell_type": "markdown",
   "metadata": {},
   "source": [
    "Whilst the `re` package provides an extremely poweful functionality, in general for manipulating filepaths it is often easier to use `glob` (see below). However, it is worth remembering the `re` package exists as it can be applied to a range of scenarios involving string manipulations that stretch well beyond file-manipulation-type scenarios. "
   ]
  },
  {
   "cell_type": "markdown",
   "metadata": {},
   "source": [
    "## The `glob` package"
   ]
  },
  {
   "cell_type": "markdown",
   "metadata": {},
   "source": [
    "As discussed in the previous section, `glob` is an extremely powerful package which supports unix-style wildcard matching.\n",
    "\n",
    " > **Note:** The glob module contains a function, also called `glob`. This can get confusing, so we only import the function here."
   ]
  },
  {
   "cell_type": "code",
   "execution_count": null,
   "metadata": {},
   "outputs": [],
   "source": [
    "from glob import glob"
   ]
  },
  {
   "cell_type": "markdown",
   "metadata": {},
   "source": [
    "As a quick example, we will perform the \"scenario 1\" use case from the example in the `re` section using `glob`:"
   ]
  },
  {
   "cell_type": "code",
   "execution_count": null,
   "metadata": {},
   "outputs": [],
   "source": [
    "# Like before, we want all files whith a filename\n",
    "# of the form \"file?.txt\" (i.e. with only one\n",
    "# character following the filename)\n",
    "p = glob('file?.txt')\n",
    "print(p)\n"
   ]
  },
  {
   "cell_type": "markdown",
   "metadata": {},
   "source": [
    " > **Note:** As the `re` package matches regular expressions and the `glob` package uses wildcard matching, it follows that using the `re` package can give much finer control for precise pattern matching. For example, you can perform scenario 1 from the `re` section with `glob` but not scenario 2, as wildcard matching in `glob` does not allow you to specify a list of characters to use as a filter (in our example the digits `0,1,...,9`). This is worth bearing in mind when you have many similarly named files."
   ]
  },
  {
   "cell_type": "markdown",
   "metadata": {},
   "source": [
    "# Exercises"
   ]
  },
  {
   "cell_type": "markdown",
   "metadata": {},
   "source": [
    "**Question 1:** Using the `os` package, get your current working directory and save it as a variable named `pwd`. Then make a directory named `testdir` and change the working directory to that directory."
   ]
  },
  {
   "cell_type": "code",
   "execution_count": null,
   "metadata": {},
   "outputs": [],
   "source": [
    "# Write your code here"
   ]
  },
  {
   "cell_type": "markdown",
   "metadata": {},
   "source": [
    "**Question 2:** Using the `with` keyword and a `for` loop, make 20 files in your `testdir` folder named `test1.txt`, `test2.txt`,... `test20.txt`, each containing a random number (*note: you can get random numbers using the `random` package as demonstrated below*)."
   ]
  },
  {
   "cell_type": "code",
   "execution_count": null,
   "metadata": {},
   "outputs": [],
   "source": [
    "# Import the random package\n",
    "import random\n",
    "\n",
    "# Use the gauss function to obtain a random number\n",
    "randomNo = random.gauss(0, 1) # Random ~N(0,1) variable\n",
    "print(randomNo)\n",
    "\n",
    "# Write your code here"
   ]
  },
  {
   "cell_type": "markdown",
   "metadata": {},
   "source": [
    "**Question 3:** Using the `os.listdir` function, obtain a list of all the files you created in question 2. Loop through these files, reading one at a time, and use the `os.remove` function to remove any file which contains a number less than 0."
   ]
  },
  {
   "cell_type": "code",
   "execution_count": null,
   "metadata": {},
   "outputs": [],
   "source": [
    "# Write your code here"
   ]
  },
  {
   "cell_type": "markdown",
   "metadata": {},
   "source": [
    "**Question 4:** Remove the `testdir` folder. *Hint: Remember! You cannot do this with the `os` package if `testdir` contains files!*. Your `pwd` variable from question 1 may come in useful here."
   ]
  },
  {
   "cell_type": "code",
   "execution_count": null,
   "metadata": {},
   "outputs": [],
   "source": [
    "# Write your code here"
   ]
  },
  {
   "cell_type": "markdown",
   "metadata": {},
   "source": [
    "**Question 5 (hard):** Somewhere in the `PythonIntro2024` folder there is a hidden subfolder and file. Find the file `secret.txt` using the `os.walk` function and print the message in the file."
   ]
  },
  {
   "cell_type": "code",
   "execution_count": null,
   "metadata": {},
   "outputs": [],
   "source": [
    "# Write your code here"
   ]
  }
 ],
 "metadata": {
  "kernelspec": {
   "display_name": "Python 3 (ipykernel)",
   "language": "python",
   "name": "python3"
  },
  "language_info": {
   "codemirror_mode": {
    "name": "ipython",
    "version": 3
   },
   "file_extension": ".py",
   "mimetype": "text/x-python",
   "name": "python",
   "nbconvert_exporter": "python",
   "pygments_lexer": "ipython3",
   "version": "3.7.5"
  }
 },
 "nbformat": 4,
 "nbformat_minor": 2
}
